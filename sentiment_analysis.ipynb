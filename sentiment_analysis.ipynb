{
 "cells": [
  {
   "cell_type": "code",
   "execution_count": 1,
   "id": "52f47ea8",
   "metadata": {
    "execution": {
     "iopub.execute_input": "2023-08-13T18:02:48.295386Z",
     "iopub.status.busy": "2023-08-13T18:02:48.294370Z",
     "iopub.status.idle": "2023-08-13T18:02:50.567834Z",
     "shell.execute_reply": "2023-08-13T18:02:50.566958Z"
    },
    "papermill": {
     "duration": 2.299523,
     "end_time": "2023-08-13T18:02:50.569814",
     "exception": false,
     "start_time": "2023-08-13T18:02:48.270291",
     "status": "completed"
    },
    "tags": []
   },
   "outputs": [
    {
     "name": "stdout",
     "output_type": "stream",
     "text": [
      "/kaggle/input/sentiment-prediction-on-movie-reviews/movies.csv\n",
      "/kaggle/input/sentiment-prediction-on-movie-reviews/sample.csv\n",
      "/kaggle/input/sentiment-prediction-on-movie-reviews/train.csv\n",
      "/kaggle/input/sentiment-prediction-on-movie-reviews/test.csv\n"
     ]
    }
   ],
   "source": [
    "import re\n",
    "import time\n",
    "import pandas as pd\n",
    "import numpy as np\n",
    "import matplotlib.pyplot as plt\n",
    "import seaborn as sns\n",
    "\n",
    "# preprocessing\n",
    "from sklearn.impute import SimpleImputer\n",
    "from sklearn.compose import ColumnTransformer\n",
    "from sklearn.pipeline import Pipeline\n",
    "from sklearn.feature_extraction.text import TfidfVectorizer\n",
    "from sklearn.preprocessing import LabelEncoder, MultiLabelBinarizer, MinMaxScaler, OneHotEncoder\n",
    "\n",
    "# grisearchCV\n",
    "from sklearn.model_selection import GridSearchCV\n",
    "\n",
    "# train_test_split\n",
    "from sklearn.model_selection import train_test_split\n",
    "\n",
    "# classification models\n",
    "from sklearn.svm import LinearSVC\n",
    "from sklearn.naive_bayes import MultinomialNB\n",
    "from sklearn.ensemble import RandomForestClassifier\n",
    "from sklearn.linear_model import LogisticRegression\n",
    "from sklearn.neighbors import KNeighborsClassifier\n",
    "from sklearn.ensemble import VotingClassifier\n",
    "\n",
    "# metrics\n",
    "from sklearn.metrics import confusion_matrix, f1_score, accuracy_score, classification_report, precision_score, recall_score\n",
    "\n",
    "# files\n",
    "import os\n",
    "for dirname, _, filenames in os.walk('/kaggle/input'):\n",
    "    for filename in filenames:\n",
    "        print(os.path.join(dirname, filename))"
   ]
  },
  {
   "cell_type": "markdown",
   "id": "b5cb6027",
   "metadata": {
    "papermill": {
     "duration": 0.022722,
     "end_time": "2023-08-13T18:02:50.614483",
     "exception": false,
     "start_time": "2023-08-13T18:02:50.591761",
     "status": "completed"
    },
    "tags": []
   },
   "source": [
    "# Movies"
   ]
  },
  {
   "cell_type": "markdown",
   "id": "b2ae53c9",
   "metadata": {
    "papermill": {
     "duration": 0.021666,
     "end_time": "2023-08-13T18:02:50.658503",
     "exception": false,
     "start_time": "2023-08-13T18:02:50.636837",
     "status": "completed"
    },
    "tags": []
   },
   "source": [
    "Reading the `movies.csv` file"
   ]
  },
  {
   "cell_type": "code",
   "execution_count": 2,
   "id": "d378beae",
   "metadata": {
    "execution": {
     "iopub.execute_input": "2023-08-13T18:02:50.704158Z",
     "iopub.status.busy": "2023-08-13T18:02:50.703803Z",
     "iopub.status.idle": "2023-08-13T18:02:51.401143Z",
     "shell.execute_reply": "2023-08-13T18:02:51.399930Z"
    },
    "papermill": {
     "duration": 0.723258,
     "end_time": "2023-08-13T18:02:51.403729",
     "exception": false,
     "start_time": "2023-08-13T18:02:50.680471",
     "status": "completed"
    },
    "tags": []
   },
   "outputs": [],
   "source": [
    "movies = pd.read_csv('/kaggle/input/sentiment-prediction-on-movie-reviews/movies.csv')"
   ]
  },
  {
   "cell_type": "code",
   "execution_count": 3,
   "id": "0429e12f",
   "metadata": {
    "execution": {
     "iopub.execute_input": "2023-08-13T18:02:51.450540Z",
     "iopub.status.busy": "2023-08-13T18:02:51.450149Z",
     "iopub.status.idle": "2023-08-13T18:02:51.483687Z",
     "shell.execute_reply": "2023-08-13T18:02:51.482185Z"
    },
    "papermill": {
     "duration": 0.060322,
     "end_time": "2023-08-13T18:02:51.486048",
     "exception": false,
     "start_time": "2023-08-13T18:02:51.425726",
     "status": "completed"
    },
    "tags": []
   },
   "outputs": [
    {
     "data": {
      "text/html": [
       "<div>\n",
       "<style scoped>\n",
       "    .dataframe tbody tr th:only-of-type {\n",
       "        vertical-align: middle;\n",
       "    }\n",
       "\n",
       "    .dataframe tbody tr th {\n",
       "        vertical-align: top;\n",
       "    }\n",
       "\n",
       "    .dataframe thead th {\n",
       "        text-align: right;\n",
       "    }\n",
       "</style>\n",
       "<table border=\"1\" class=\"dataframe\">\n",
       "  <thead>\n",
       "    <tr style=\"text-align: right;\">\n",
       "      <th></th>\n",
       "      <th>movieid</th>\n",
       "      <th>title</th>\n",
       "      <th>audienceScore</th>\n",
       "      <th>rating</th>\n",
       "      <th>ratingContents</th>\n",
       "      <th>releaseDateTheaters</th>\n",
       "      <th>releaseDateStreaming</th>\n",
       "      <th>runtimeMinutes</th>\n",
       "      <th>genre</th>\n",
       "      <th>originalLanguage</th>\n",
       "      <th>director</th>\n",
       "      <th>boxOffice</th>\n",
       "      <th>distributor</th>\n",
       "      <th>soundType</th>\n",
       "    </tr>\n",
       "  </thead>\n",
       "  <tbody>\n",
       "    <tr>\n",
       "      <th>0</th>\n",
       "      <td>han_solo_heroic_myth_wonder_woman</td>\n",
       "      <td>Han Solo Heroic Myth Wonder Woman</td>\n",
       "      <td>50.0</td>\n",
       "      <td>NaN</td>\n",
       "      <td>NaN</td>\n",
       "      <td>NaN</td>\n",
       "      <td>2018-08-25</td>\n",
       "      <td>75.0</td>\n",
       "      <td>Comedy, Horror, Sci-fi</td>\n",
       "      <td>English</td>\n",
       "      <td>Claude Nicolet</td>\n",
       "      <td>NaN</td>\n",
       "      <td>NaN</td>\n",
       "      <td>NaN</td>\n",
       "    </tr>\n",
       "    <tr>\n",
       "      <th>1</th>\n",
       "      <td>voyage_tyler_durden_han_solo_stardust</td>\n",
       "      <td>Voyage Tyler Durden Han Solo Stardust</td>\n",
       "      <td>NaN</td>\n",
       "      <td>NaN</td>\n",
       "      <td>NaN</td>\n",
       "      <td>NaN</td>\n",
       "      <td>2020-02-11</td>\n",
       "      <td>114.0</td>\n",
       "      <td>Drama</td>\n",
       "      <td>English</td>\n",
       "      <td>Nathan Haack</td>\n",
       "      <td>NaN</td>\n",
       "      <td>NaN</td>\n",
       "      <td>NaN</td>\n",
       "    </tr>\n",
       "  </tbody>\n",
       "</table>\n",
       "</div>"
      ],
      "text/plain": [
       "                                 movieid  \\\n",
       "0      han_solo_heroic_myth_wonder_woman   \n",
       "1  voyage_tyler_durden_han_solo_stardust   \n",
       "\n",
       "                                   title  audienceScore rating ratingContents  \\\n",
       "0      Han Solo Heroic Myth Wonder Woman           50.0    NaN            NaN   \n",
       "1  Voyage Tyler Durden Han Solo Stardust            NaN    NaN            NaN   \n",
       "\n",
       "  releaseDateTheaters releaseDateStreaming  runtimeMinutes  \\\n",
       "0                 NaN           2018-08-25            75.0   \n",
       "1                 NaN           2020-02-11           114.0   \n",
       "\n",
       "                    genre originalLanguage        director boxOffice  \\\n",
       "0  Comedy, Horror, Sci-fi          English  Claude Nicolet       NaN   \n",
       "1                   Drama          English    Nathan Haack       NaN   \n",
       "\n",
       "  distributor soundType  \n",
       "0         NaN       NaN  \n",
       "1         NaN       NaN  "
      ]
     },
     "execution_count": 3,
     "metadata": {},
     "output_type": "execute_result"
    }
   ],
   "source": [
    "movies.head(2)"
   ]
  },
  {
   "cell_type": "code",
   "execution_count": 4,
   "id": "ddecc5d6",
   "metadata": {
    "execution": {
     "iopub.execute_input": "2023-08-13T18:02:51.534852Z",
     "iopub.status.busy": "2023-08-13T18:02:51.533129Z",
     "iopub.status.idle": "2023-08-13T18:02:51.541900Z",
     "shell.execute_reply": "2023-08-13T18:02:51.540539Z"
    },
    "papermill": {
     "duration": 0.035659,
     "end_time": "2023-08-13T18:02:51.544519",
     "exception": false,
     "start_time": "2023-08-13T18:02:51.508860",
     "status": "completed"
    },
    "tags": []
   },
   "outputs": [
    {
     "data": {
      "text/plain": [
       "(143258, 14)"
      ]
     },
     "execution_count": 4,
     "metadata": {},
     "output_type": "execute_result"
    }
   ],
   "source": [
    "movies.shape  # dimensions of the dataframe"
   ]
  },
  {
   "cell_type": "code",
   "execution_count": 5,
   "id": "8fa95e81",
   "metadata": {
    "execution": {
     "iopub.execute_input": "2023-08-13T18:02:51.591687Z",
     "iopub.status.busy": "2023-08-13T18:02:51.591280Z",
     "iopub.status.idle": "2023-08-13T18:02:51.845016Z",
     "shell.execute_reply": "2023-08-13T18:02:51.843953Z"
    },
    "papermill": {
     "duration": 0.280396,
     "end_time": "2023-08-13T18:02:51.848059",
     "exception": false,
     "start_time": "2023-08-13T18:02:51.567663",
     "status": "completed"
    },
    "tags": []
   },
   "outputs": [
    {
     "name": "stdout",
     "output_type": "stream",
     "text": [
      "<class 'pandas.core.frame.DataFrame'>\n",
      "RangeIndex: 143258 entries, 0 to 143257\n",
      "Data columns (total 14 columns):\n",
      " #   Column                Non-Null Count   Dtype  \n",
      "---  ------                --------------   -----  \n",
      " 0   movieid               143258 non-null  object \n",
      " 1   title                 143258 non-null  object \n",
      " 2   audienceScore         73248 non-null   float64\n",
      " 3   rating                13991 non-null   object \n",
      " 4   ratingContents        13991 non-null   object \n",
      " 5   releaseDateTheaters   30773 non-null   object \n",
      " 6   releaseDateStreaming  79420 non-null   object \n",
      " 7   runtimeMinutes        129431 non-null  float64\n",
      " 8   genre                 132175 non-null  object \n",
      " 9   originalLanguage      129400 non-null  object \n",
      " 10  director              143258 non-null  object \n",
      " 11  boxOffice             14743 non-null   object \n",
      " 12  distributor           23005 non-null   object \n",
      " 13  soundType             15917 non-null   object \n",
      "dtypes: float64(2), object(12)\n",
      "memory usage: 15.3+ MB\n"
     ]
    }
   ],
   "source": [
    "movies.info()  # overview of data "
   ]
  },
  {
   "cell_type": "markdown",
   "id": "bad69c2a",
   "metadata": {
    "papermill": {
     "duration": 0.021899,
     "end_time": "2023-08-13T18:02:51.892719",
     "exception": false,
     "start_time": "2023-08-13T18:02:51.870820",
     "status": "completed"
    },
    "tags": []
   },
   "source": [
    "# EDA and Preprocessing on `movies`"
   ]
  },
  {
   "cell_type": "markdown",
   "id": "52d29c87",
   "metadata": {
    "papermill": {
     "duration": 0.022762,
     "end_time": "2023-08-13T18:02:51.939086",
     "exception": false,
     "start_time": "2023-08-13T18:02:51.916324",
     "status": "completed"
    },
    "tags": []
   },
   "source": [
    "## Dropping unimportant Columns "
   ]
  },
  {
   "cell_type": "code",
   "execution_count": 6,
   "id": "8ea5a521",
   "metadata": {
    "execution": {
     "iopub.execute_input": "2023-08-13T18:02:51.985519Z",
     "iopub.status.busy": "2023-08-13T18:02:51.985169Z",
     "iopub.status.idle": "2023-08-13T18:02:54.000175Z",
     "shell.execute_reply": "2023-08-13T18:02:53.999247Z"
    },
    "papermill": {
     "duration": 2.040235,
     "end_time": "2023-08-13T18:02:54.001971",
     "exception": false,
     "start_time": "2023-08-13T18:02:51.961736",
     "status": "completed"
    },
    "tags": []
   },
   "outputs": [
    {
     "name": "stdout",
     "output_type": "stream",
     "text": [
      "dropping columns...\n",
      "columns dropped\n"
     ]
    }
   ],
   "source": [
    "print('dropping columns...')\n",
    "time.sleep(2)\n",
    "movies.drop(columns=['releaseDateTheaters', \n",
    "                     'releaseDateStreaming', \n",
    "                     'originalLanguage', \n",
    "                     'director', \n",
    "                     'boxOffice', \n",
    "                     'distributor', \n",
    "                     'soundType',\n",
    "                     'ratingContents'], inplace = True)\n",
    "print('columns dropped')"
   ]
  },
  {
   "cell_type": "code",
   "execution_count": 7,
   "id": "eb8ce668",
   "metadata": {
    "execution": {
     "iopub.execute_input": "2023-08-13T18:02:54.048914Z",
     "iopub.status.busy": "2023-08-13T18:02:54.048503Z",
     "iopub.status.idle": "2023-08-13T18:02:54.054504Z",
     "shell.execute_reply": "2023-08-13T18:02:54.053614Z"
    },
    "papermill": {
     "duration": 0.031747,
     "end_time": "2023-08-13T18:02:54.056832",
     "exception": false,
     "start_time": "2023-08-13T18:02:54.025085",
     "status": "completed"
    },
    "tags": []
   },
   "outputs": [
    {
     "data": {
      "text/plain": [
       "Index(['movieid', 'title', 'audienceScore', 'rating', 'runtimeMinutes',\n",
       "       'genre'],\n",
       "      dtype='object')"
      ]
     },
     "execution_count": 7,
     "metadata": {},
     "output_type": "execute_result"
    }
   ],
   "source": [
    "movies.columns # get the remaining columns"
   ]
  },
  {
   "cell_type": "code",
   "execution_count": 8,
   "id": "3eba8ae2",
   "metadata": {
    "execution": {
     "iopub.execute_input": "2023-08-13T18:02:54.103010Z",
     "iopub.status.busy": "2023-08-13T18:02:54.102671Z",
     "iopub.status.idle": "2023-08-13T18:02:54.188458Z",
     "shell.execute_reply": "2023-08-13T18:02:54.186707Z"
    },
    "papermill": {
     "duration": 0.112131,
     "end_time": "2023-08-13T18:02:54.191513",
     "exception": false,
     "start_time": "2023-08-13T18:02:54.079382",
     "status": "completed"
    },
    "tags": []
   },
   "outputs": [
    {
     "data": {
      "text/plain": [
       "movieid                0\n",
       "title                  0\n",
       "audienceScore      70010\n",
       "rating            129267\n",
       "runtimeMinutes     13827\n",
       "genre              11083\n",
       "dtype: int64"
      ]
     },
     "execution_count": 8,
     "metadata": {},
     "output_type": "execute_result"
    }
   ],
   "source": [
    "movies.isnull().sum()  # checking for null values in each column"
   ]
  },
  {
   "cell_type": "code",
   "execution_count": 9,
   "id": "0c5d8ac9",
   "metadata": {
    "execution": {
     "iopub.execute_input": "2023-08-13T18:02:54.239434Z",
     "iopub.status.busy": "2023-08-13T18:02:54.239065Z",
     "iopub.status.idle": "2023-08-13T18:02:54.352503Z",
     "shell.execute_reply": "2023-08-13T18:02:54.351387Z"
    },
    "papermill": {
     "duration": 0.140745,
     "end_time": "2023-08-13T18:02:54.355211",
     "exception": false,
     "start_time": "2023-08-13T18:02:54.214466",
     "status": "completed"
    },
    "tags": []
   },
   "outputs": [
    {
     "data": {
      "text/plain": [
       "escape_the_terminator_tyler_durden_astonish         367\n",
       "silent_mystery_the_terminator                        17\n",
       "crimson_james_t._kirk_marty_mcfly_hulk               17\n",
       "darth_vader_dazzling_courageous_holly_golightly      16\n",
       "rocky_balboa_wonder_woman_majestic_emerald           16\n",
       "                                                   ... \n",
       "anakin_skywalker_frodo_baggins_t-800_black_widow      1\n",
       "phantom_hannibal_lecter_don_vito_corleone_pirate      1\n",
       "v_bruce_wayne_stardust                                1\n",
       "mystery_lara_croft_tony_montana                       1\n",
       "wonder_hermione_granger_hulk_v                        1\n",
       "Name: movieid, Length: 126404, dtype: int64"
      ]
     },
     "execution_count": 9,
     "metadata": {},
     "output_type": "execute_result"
    }
   ],
   "source": [
    "movies['movieid'].value_counts()  # checking for duplicate movieids"
   ]
  },
  {
   "cell_type": "markdown",
   "id": "4ccec0f5",
   "metadata": {
    "papermill": {
     "duration": 0.022306,
     "end_time": "2023-08-13T18:02:54.400418",
     "exception": false,
     "start_time": "2023-08-13T18:02:54.378112",
     "status": "completed"
    },
    "tags": []
   },
   "source": [
    "## Outliers?? Not Really\n",
    "\n",
    "This step will be handled after merging `movies.csv` with `train.csv`"
   ]
  },
  {
   "cell_type": "code",
   "execution_count": 10,
   "id": "687bcd7a",
   "metadata": {
    "execution": {
     "iopub.execute_input": "2023-08-13T18:02:54.447946Z",
     "iopub.status.busy": "2023-08-13T18:02:54.447156Z",
     "iopub.status.idle": "2023-08-13T18:02:54.635960Z",
     "shell.execute_reply": "2023-08-13T18:02:54.634656Z"
    },
    "papermill": {
     "duration": 0.21639,
     "end_time": "2023-08-13T18:02:54.639330",
     "exception": false,
     "start_time": "2023-08-13T18:02:54.422940",
     "status": "completed"
    },
    "tags": []
   },
   "outputs": [
    {
     "data": {
      "text/plain": [
       "<Axes: ylabel='runtimeMinutes'>"
      ]
     },
     "execution_count": 10,
     "metadata": {},
     "output_type": "execute_result"
    },
    {
     "data": {
      "image/png": "[encoded data removed]",
      "text/plain": [
       "<Figure size 640x480 with 1 Axes>"
      ]
     },
     "metadata": {},
     "output_type": "display_data"
    }
   ],
   "source": [
    "sns.boxplot(data = movies, y='runtimeMinutes', color='salmon')"
   ]
  },
  {
   "cell_type": "markdown",
   "id": "1eec2032",
   "metadata": {
    "papermill": {
     "duration": 0.022504,
     "end_time": "2023-08-13T18:02:54.685584",
     "exception": false,
     "start_time": "2023-08-13T18:02:54.663080",
     "status": "completed"
    },
    "tags": []
   },
   "source": [
    "## No problem with `audienceScore`"
   ]
  },
  {
   "cell_type": "code",
   "execution_count": 11,
   "id": "bc2357a4",
   "metadata": {
    "execution": {
     "iopub.execute_input": "2023-08-13T18:02:54.735674Z",
     "iopub.status.busy": "2023-08-13T18:02:54.734522Z",
     "iopub.status.idle": "2023-08-13T18:02:54.859889Z",
     "shell.execute_reply": "2023-08-13T18:02:54.859052Z"
    },
    "papermill": {
     "duration": 0.153078,
     "end_time": "2023-08-13T18:02:54.861910",
     "exception": false,
     "start_time": "2023-08-13T18:02:54.708832",
     "status": "completed"
    },
    "tags": []
   },
   "outputs": [
    {
     "data": {
      "text/plain": [
       "<Axes: ylabel='audienceScore'>"
      ]
     },
     "execution_count": 11,
     "metadata": {},
     "output_type": "execute_result"
    },
    {
     "data": {
      "image/png": "[encoded data removed]",
      "text/plain": [
       "<Figure size 640x480 with 1 Axes>"
      ]
     },
     "metadata": {},
     "output_type": "display_data"
    }
   ],
   "source": [
    "sns.boxplot(data=movies, y='audienceScore', color='salmon')"
   ]
  },
  {
   "cell_type": "markdown",
   "id": "82e189bb",
   "metadata": {
    "papermill": {
     "duration": 0.022956,
     "end_time": "2023-08-13T18:02:54.913956",
     "exception": false,
     "start_time": "2023-08-13T18:02:54.891000",
     "status": "completed"
    },
    "tags": []
   },
   "source": [
    "### `movieid` column has duplicate values and each row has a different set of values. Aggregate them\n"
   ]
  },
  {
   "cell_type": "code",
   "execution_count": 12,
   "id": "0e23bd05",
   "metadata": {
    "execution": {
     "iopub.execute_input": "2023-08-13T18:02:54.960992Z",
     "iopub.status.busy": "2023-08-13T18:02:54.960593Z",
     "iopub.status.idle": "2023-08-13T18:02:54.986950Z",
     "shell.execute_reply": "2023-08-13T18:02:54.985901Z"
    },
    "papermill": {
     "duration": 0.052473,
     "end_time": "2023-08-13T18:02:54.988885",
     "exception": false,
     "start_time": "2023-08-13T18:02:54.936412",
     "status": "completed"
    },
    "tags": []
   },
   "outputs": [
    {
     "data": {
      "text/html": [
       "<div>\n",
       "<style scoped>\n",
       "    .dataframe tbody tr th:only-of-type {\n",
       "        vertical-align: middle;\n",
       "    }\n",
       "\n",
       "    .dataframe tbody tr th {\n",
       "        vertical-align: top;\n",
       "    }\n",
       "\n",
       "    .dataframe thead th {\n",
       "        text-align: right;\n",
       "    }\n",
       "</style>\n",
       "<table border=\"1\" class=\"dataframe\">\n",
       "  <thead>\n",
       "    <tr style=\"text-align: right;\">\n",
       "      <th></th>\n",
       "      <th>movieid</th>\n",
       "      <th>title</th>\n",
       "      <th>audienceScore</th>\n",
       "      <th>rating</th>\n",
       "      <th>runtimeMinutes</th>\n",
       "      <th>genre</th>\n",
       "    </tr>\n",
       "  </thead>\n",
       "  <tbody>\n",
       "    <tr>\n",
       "      <th>15649</th>\n",
       "      <td>silent_mystery_the_terminator</td>\n",
       "      <td>Silent Mystery The Terminator</td>\n",
       "      <td>21.0</td>\n",
       "      <td>R</td>\n",
       "      <td>90.0</td>\n",
       "      <td>Action, Mystery &amp; thriller</td>\n",
       "    </tr>\n",
       "    <tr>\n",
       "      <th>35010</th>\n",
       "      <td>silent_mystery_the_terminator</td>\n",
       "      <td>Silent Mystery The Terminator</td>\n",
       "      <td>0.0</td>\n",
       "      <td>NaN</td>\n",
       "      <td>100.0</td>\n",
       "      <td>Sci-fi</td>\n",
       "    </tr>\n",
       "    <tr>\n",
       "      <th>45236</th>\n",
       "      <td>silent_mystery_the_terminator</td>\n",
       "      <td>Silent Mystery The Terminator</td>\n",
       "      <td>97.0</td>\n",
       "      <td>NaN</td>\n",
       "      <td>120.0</td>\n",
       "      <td>Drama</td>\n",
       "    </tr>\n",
       "    <tr>\n",
       "      <th>47556</th>\n",
       "      <td>silent_mystery_the_terminator</td>\n",
       "      <td>Silent Mystery The Terminator</td>\n",
       "      <td>NaN</td>\n",
       "      <td>NaN</td>\n",
       "      <td>15.0</td>\n",
       "      <td>Drama, Mystery &amp; thriller</td>\n",
       "    </tr>\n",
       "    <tr>\n",
       "      <th>53301</th>\n",
       "      <td>silent_mystery_the_terminator</td>\n",
       "      <td>Silent Mystery The Terminator</td>\n",
       "      <td>81.0</td>\n",
       "      <td>NaN</td>\n",
       "      <td>95.0</td>\n",
       "      <td>Mystery &amp; thriller</td>\n",
       "    </tr>\n",
       "    <tr>\n",
       "      <th>59002</th>\n",
       "      <td>silent_mystery_the_terminator</td>\n",
       "      <td>Silent Mystery The Terminator</td>\n",
       "      <td>68.0</td>\n",
       "      <td>NaN</td>\n",
       "      <td>117.0</td>\n",
       "      <td>Crime, Drama, Mystery &amp; thriller</td>\n",
       "    </tr>\n",
       "    <tr>\n",
       "      <th>64469</th>\n",
       "      <td>silent_mystery_the_terminator</td>\n",
       "      <td>Silent Mystery The Terminator</td>\n",
       "      <td>NaN</td>\n",
       "      <td>NaN</td>\n",
       "      <td>82.0</td>\n",
       "      <td>Documentary</td>\n",
       "    </tr>\n",
       "    <tr>\n",
       "      <th>68314</th>\n",
       "      <td>silent_mystery_the_terminator</td>\n",
       "      <td>Silent Mystery The Terminator</td>\n",
       "      <td>50.0</td>\n",
       "      <td>NaN</td>\n",
       "      <td>88.0</td>\n",
       "      <td>Mystery &amp; thriller</td>\n",
       "    </tr>\n",
       "    <tr>\n",
       "      <th>78370</th>\n",
       "      <td>silent_mystery_the_terminator</td>\n",
       "      <td>Silent Mystery The Terminator</td>\n",
       "      <td>NaN</td>\n",
       "      <td>NaN</td>\n",
       "      <td>96.0</td>\n",
       "      <td>Drama</td>\n",
       "    </tr>\n",
       "    <tr>\n",
       "      <th>83611</th>\n",
       "      <td>silent_mystery_the_terminator</td>\n",
       "      <td>Silent Mystery The Terminator</td>\n",
       "      <td>69.0</td>\n",
       "      <td>NaN</td>\n",
       "      <td>105.0</td>\n",
       "      <td>Drama</td>\n",
       "    </tr>\n",
       "    <tr>\n",
       "      <th>90332</th>\n",
       "      <td>silent_mystery_the_terminator</td>\n",
       "      <td>Silent Mystery The Terminator</td>\n",
       "      <td>50.0</td>\n",
       "      <td>NaN</td>\n",
       "      <td>97.0</td>\n",
       "      <td>Action</td>\n",
       "    </tr>\n",
       "    <tr>\n",
       "      <th>101810</th>\n",
       "      <td>silent_mystery_the_terminator</td>\n",
       "      <td>Silent Mystery The Terminator</td>\n",
       "      <td>16.0</td>\n",
       "      <td>NaN</td>\n",
       "      <td>93.0</td>\n",
       "      <td>Horror, Mystery &amp; thriller</td>\n",
       "    </tr>\n",
       "    <tr>\n",
       "      <th>103580</th>\n",
       "      <td>silent_mystery_the_terminator</td>\n",
       "      <td>Silent Mystery The Terminator</td>\n",
       "      <td>NaN</td>\n",
       "      <td>NaN</td>\n",
       "      <td>84.0</td>\n",
       "      <td>Biography</td>\n",
       "    </tr>\n",
       "    <tr>\n",
       "      <th>128637</th>\n",
       "      <td>silent_mystery_the_terminator</td>\n",
       "      <td>Silent Mystery The Terminator</td>\n",
       "      <td>NaN</td>\n",
       "      <td>NaN</td>\n",
       "      <td>102.0</td>\n",
       "      <td>Crime, Drama</td>\n",
       "    </tr>\n",
       "    <tr>\n",
       "      <th>129836</th>\n",
       "      <td>silent_mystery_the_terminator</td>\n",
       "      <td>Silent Mystery The Terminator</td>\n",
       "      <td>NaN</td>\n",
       "      <td>NaN</td>\n",
       "      <td>112.0</td>\n",
       "      <td>Drama</td>\n",
       "    </tr>\n",
       "    <tr>\n",
       "      <th>129939</th>\n",
       "      <td>silent_mystery_the_terminator</td>\n",
       "      <td>Silent Mystery The Terminator</td>\n",
       "      <td>NaN</td>\n",
       "      <td>NaN</td>\n",
       "      <td>112.0</td>\n",
       "      <td>Drama</td>\n",
       "    </tr>\n",
       "    <tr>\n",
       "      <th>136274</th>\n",
       "      <td>silent_mystery_the_terminator</td>\n",
       "      <td>Silent Mystery The Terminator</td>\n",
       "      <td>NaN</td>\n",
       "      <td>NaN</td>\n",
       "      <td>93.0</td>\n",
       "      <td>Mystery &amp; thriller</td>\n",
       "    </tr>\n",
       "  </tbody>\n",
       "</table>\n",
       "</div>"
      ],
      "text/plain": [
       "                              movieid                          title  \\\n",
       "15649   silent_mystery_the_terminator  Silent Mystery The Terminator   \n",
       "35010   silent_mystery_the_terminator  Silent Mystery The Terminator   \n",
       "45236   silent_mystery_the_terminator  Silent Mystery The Terminator   \n",
       "47556   silent_mystery_the_terminator  Silent Mystery The Terminator   \n",
       "53301   silent_mystery_the_terminator  Silent Mystery The Terminator   \n",
       "59002   silent_mystery_the_terminator  Silent Mystery The Terminator   \n",
       "64469   silent_mystery_the_terminator  Silent Mystery The Terminator   \n",
       "68314   silent_mystery_the_terminator  Silent Mystery The Terminator   \n",
       "78370   silent_mystery_the_terminator  Silent Mystery The Terminator   \n",
       "83611   silent_mystery_the_terminator  Silent Mystery The Terminator   \n",
       "90332   silent_mystery_the_terminator  Silent Mystery The Terminator   \n",
       "101810  silent_mystery_the_terminator  Silent Mystery The Terminator   \n",
       "103580  silent_mystery_the_terminator  Silent Mystery The Terminator   \n",
       "128637  silent_mystery_the_terminator  Silent Mystery The Terminator   \n",
       "129836  silent_mystery_the_terminator  Silent Mystery The Terminator   \n",
       "129939  silent_mystery_the_terminator  Silent Mystery The Terminator   \n",
       "136274  silent_mystery_the_terminator  Silent Mystery The Terminator   \n",
       "\n",
       "        audienceScore rating  runtimeMinutes                             genre  \n",
       "15649            21.0      R            90.0        Action, Mystery & thriller  \n",
       "35010             0.0    NaN           100.0                            Sci-fi  \n",
       "45236            97.0    NaN           120.0                             Drama  \n",
       "47556             NaN    NaN            15.0         Drama, Mystery & thriller  \n",
       "53301            81.0    NaN            95.0                Mystery & thriller  \n",
       "59002            68.0    NaN           117.0  Crime, Drama, Mystery & thriller  \n",
       "64469             NaN    NaN            82.0                       Documentary  \n",
       "68314            50.0    NaN            88.0                Mystery & thriller  \n",
       "78370             NaN    NaN            96.0                             Drama  \n",
       "83611            69.0    NaN           105.0                             Drama  \n",
       "90332            50.0    NaN            97.0                            Action  \n",
       "101810           16.0    NaN            93.0        Horror, Mystery & thriller  \n",
       "103580            NaN    NaN            84.0                         Biography  \n",
       "128637            NaN    NaN           102.0                      Crime, Drama  \n",
       "129836            NaN    NaN           112.0                             Drama  \n",
       "129939            NaN    NaN           112.0                             Drama  \n",
       "136274            NaN    NaN            93.0                Mystery & thriller  "
      ]
     },
     "execution_count": 12,
     "metadata": {},
     "output_type": "execute_result"
    }
   ],
   "source": [
    "movies[movies['movieid']=='silent_mystery_the_terminator']"
   ]
  },
  {
   "cell_type": "markdown",
   "id": "07846ff2",
   "metadata": {
    "papermill": {
     "duration": 0.024695,
     "end_time": "2023-08-13T18:02:55.037042",
     "exception": false,
     "start_time": "2023-08-13T18:02:55.012347",
     "status": "completed"
    },
    "tags": []
   },
   "source": [
    "### Converting `genre` and `rating` to lists\n",
    "\n",
    "`Action, Mystery & thriller` will be converted to `[Action, Mystery, Thriller]`"
   ]
  },
  {
   "cell_type": "code",
   "execution_count": 13,
   "id": "28e10de6",
   "metadata": {
    "execution": {
     "iopub.execute_input": "2023-08-13T18:02:55.086432Z",
     "iopub.status.busy": "2023-08-13T18:02:55.086116Z",
     "iopub.status.idle": "2023-08-13T18:02:58.002797Z",
     "shell.execute_reply": "2023-08-13T18:02:58.001260Z"
    },
    "papermill": {
     "duration": 2.94424,
     "end_time": "2023-08-13T18:02:58.005597",
     "exception": false,
     "start_time": "2023-08-13T18:02:55.061357",
     "status": "completed"
    },
    "tags": []
   },
   "outputs": [
    {
     "name": "stdout",
     "output_type": "stream",
     "text": [
      "conversion in progress...\n",
      "conversion completed\n"
     ]
    }
   ],
   "source": [
    "print('conversion in progress...')\n",
    "time.sleep(2)\n",
    "def convert_to_list(x):\n",
    "    '''splits a string of values based on given pattern and converts it to a list'''\n",
    "    if type(x)==str:\n",
    "        pattern = r'\\s*&\\s*|\\s*,\\s*|\\s*-\\s*'\n",
    "        x = re.split(pattern, x)\n",
    "        return [x.strip() for x in x]\n",
    "    else:\n",
    "        return []\n",
    "\n",
    "movies['genre']=movies['genre'].apply(lambda x: convert_to_list(x))\n",
    "movies['rating']=movies['rating'].apply(lambda x: [x.strip()] if type(x) == str else [])\n",
    "print('conversion completed')"
   ]
  },
  {
   "cell_type": "code",
   "execution_count": 14,
   "id": "1f2bad19",
   "metadata": {
    "execution": {
     "iopub.execute_input": "2023-08-13T18:02:58.054533Z",
     "iopub.status.busy": "2023-08-13T18:02:58.054229Z",
     "iopub.status.idle": "2023-08-13T18:02:58.106214Z",
     "shell.execute_reply": "2023-08-13T18:02:58.105024Z"
    },
    "papermill": {
     "duration": 0.079273,
     "end_time": "2023-08-13T18:02:58.108223",
     "exception": false,
     "start_time": "2023-08-13T18:02:58.028950",
     "status": "completed"
    },
    "tags": []
   },
   "outputs": [
    {
     "data": {
      "text/html": [
       "<div>\n",
       "<style scoped>\n",
       "    .dataframe tbody tr th:only-of-type {\n",
       "        vertical-align: middle;\n",
       "    }\n",
       "\n",
       "    .dataframe tbody tr th {\n",
       "        vertical-align: top;\n",
       "    }\n",
       "\n",
       "    .dataframe thead th {\n",
       "        text-align: right;\n",
       "    }\n",
       "</style>\n",
       "<table border=\"1\" class=\"dataframe\">\n",
       "  <thead>\n",
       "    <tr style=\"text-align: right;\">\n",
       "      <th></th>\n",
       "      <th>movieid</th>\n",
       "      <th>title</th>\n",
       "      <th>audienceScore</th>\n",
       "      <th>rating</th>\n",
       "      <th>runtimeMinutes</th>\n",
       "      <th>genre</th>\n",
       "    </tr>\n",
       "  </thead>\n",
       "  <tbody>\n",
       "    <tr>\n",
       "      <th>15649</th>\n",
       "      <td>silent_mystery_the_terminator</td>\n",
       "      <td>Silent Mystery The Terminator</td>\n",
       "      <td>21.0</td>\n",
       "      <td>[R]</td>\n",
       "      <td>90.0</td>\n",
       "      <td>[Action, Mystery, thriller]</td>\n",
       "    </tr>\n",
       "    <tr>\n",
       "      <th>35010</th>\n",
       "      <td>silent_mystery_the_terminator</td>\n",
       "      <td>Silent Mystery The Terminator</td>\n",
       "      <td>0.0</td>\n",
       "      <td>[]</td>\n",
       "      <td>100.0</td>\n",
       "      <td>[Sci, fi]</td>\n",
       "    </tr>\n",
       "    <tr>\n",
       "      <th>45236</th>\n",
       "      <td>silent_mystery_the_terminator</td>\n",
       "      <td>Silent Mystery The Terminator</td>\n",
       "      <td>97.0</td>\n",
       "      <td>[]</td>\n",
       "      <td>120.0</td>\n",
       "      <td>[Drama]</td>\n",
       "    </tr>\n",
       "    <tr>\n",
       "      <th>47556</th>\n",
       "      <td>silent_mystery_the_terminator</td>\n",
       "      <td>Silent Mystery The Terminator</td>\n",
       "      <td>NaN</td>\n",
       "      <td>[]</td>\n",
       "      <td>15.0</td>\n",
       "      <td>[Drama, Mystery, thriller]</td>\n",
       "    </tr>\n",
       "    <tr>\n",
       "      <th>53301</th>\n",
       "      <td>silent_mystery_the_terminator</td>\n",
       "      <td>Silent Mystery The Terminator</td>\n",
       "      <td>81.0</td>\n",
       "      <td>[]</td>\n",
       "      <td>95.0</td>\n",
       "      <td>[Mystery, thriller]</td>\n",
       "    </tr>\n",
       "    <tr>\n",
       "      <th>59002</th>\n",
       "      <td>silent_mystery_the_terminator</td>\n",
       "      <td>Silent Mystery The Terminator</td>\n",
       "      <td>68.0</td>\n",
       "      <td>[]</td>\n",
       "      <td>117.0</td>\n",
       "      <td>[Crime, Drama, Mystery, thriller]</td>\n",
       "    </tr>\n",
       "    <tr>\n",
       "      <th>64469</th>\n",
       "      <td>silent_mystery_the_terminator</td>\n",
       "      <td>Silent Mystery The Terminator</td>\n",
       "      <td>NaN</td>\n",
       "      <td>[]</td>\n",
       "      <td>82.0</td>\n",
       "      <td>[Documentary]</td>\n",
       "    </tr>\n",
       "    <tr>\n",
       "      <th>68314</th>\n",
       "      <td>silent_mystery_the_terminator</td>\n",
       "      <td>Silent Mystery The Terminator</td>\n",
       "      <td>50.0</td>\n",
       "      <td>[]</td>\n",
       "      <td>88.0</td>\n",
       "      <td>[Mystery, thriller]</td>\n",
       "    </tr>\n",
       "    <tr>\n",
       "      <th>78370</th>\n",
       "      <td>silent_mystery_the_terminator</td>\n",
       "      <td>Silent Mystery The Terminator</td>\n",
       "      <td>NaN</td>\n",
       "      <td>[]</td>\n",
       "      <td>96.0</td>\n",
       "      <td>[Drama]</td>\n",
       "    </tr>\n",
       "    <tr>\n",
       "      <th>83611</th>\n",
       "      <td>silent_mystery_the_terminator</td>\n",
       "      <td>Silent Mystery The Terminator</td>\n",
       "      <td>69.0</td>\n",
       "      <td>[]</td>\n",
       "      <td>105.0</td>\n",
       "      <td>[Drama]</td>\n",
       "    </tr>\n",
       "    <tr>\n",
       "      <th>90332</th>\n",
       "      <td>silent_mystery_the_terminator</td>\n",
       "      <td>Silent Mystery The Terminator</td>\n",
       "      <td>50.0</td>\n",
       "      <td>[]</td>\n",
       "      <td>97.0</td>\n",
       "      <td>[Action]</td>\n",
       "    </tr>\n",
       "    <tr>\n",
       "      <th>101810</th>\n",
       "      <td>silent_mystery_the_terminator</td>\n",
       "      <td>Silent Mystery The Terminator</td>\n",
       "      <td>16.0</td>\n",
       "      <td>[]</td>\n",
       "      <td>93.0</td>\n",
       "      <td>[Horror, Mystery, thriller]</td>\n",
       "    </tr>\n",
       "    <tr>\n",
       "      <th>103580</th>\n",
       "      <td>silent_mystery_the_terminator</td>\n",
       "      <td>Silent Mystery The Terminator</td>\n",
       "      <td>NaN</td>\n",
       "      <td>[]</td>\n",
       "      <td>84.0</td>\n",
       "      <td>[Biography]</td>\n",
       "    </tr>\n",
       "    <tr>\n",
       "      <th>128637</th>\n",
       "      <td>silent_mystery_the_terminator</td>\n",
       "      <td>Silent Mystery The Terminator</td>\n",
       "      <td>NaN</td>\n",
       "      <td>[]</td>\n",
       "      <td>102.0</td>\n",
       "      <td>[Crime, Drama]</td>\n",
       "    </tr>\n",
       "    <tr>\n",
       "      <th>129836</th>\n",
       "      <td>silent_mystery_the_terminator</td>\n",
       "      <td>Silent Mystery The Terminator</td>\n",
       "      <td>NaN</td>\n",
       "      <td>[]</td>\n",
       "      <td>112.0</td>\n",
       "      <td>[Drama]</td>\n",
       "    </tr>\n",
       "    <tr>\n",
       "      <th>129939</th>\n",
       "      <td>silent_mystery_the_terminator</td>\n",
       "      <td>Silent Mystery The Terminator</td>\n",
       "      <td>NaN</td>\n",
       "      <td>[]</td>\n",
       "      <td>112.0</td>\n",
       "      <td>[Drama]</td>\n",
       "    </tr>\n",
       "    <tr>\n",
       "      <th>136274</th>\n",
       "      <td>silent_mystery_the_terminator</td>\n",
       "      <td>Silent Mystery The Terminator</td>\n",
       "      <td>NaN</td>\n",
       "      <td>[]</td>\n",
       "      <td>93.0</td>\n",
       "      <td>[Mystery, thriller]</td>\n",
       "    </tr>\n",
       "  </tbody>\n",
       "</table>\n",
       "</div>"
      ],
      "text/plain": [
       "                              movieid                          title  \\\n",
       "15649   silent_mystery_the_terminator  Silent Mystery The Terminator   \n",
       "35010   silent_mystery_the_terminator  Silent Mystery The Terminator   \n",
       "45236   silent_mystery_the_terminator  Silent Mystery The Terminator   \n",
       "47556   silent_mystery_the_terminator  Silent Mystery The Terminator   \n",
       "53301   silent_mystery_the_terminator  Silent Mystery The Terminator   \n",
       "59002   silent_mystery_the_terminator  Silent Mystery The Terminator   \n",
       "64469   silent_mystery_the_terminator  Silent Mystery The Terminator   \n",
       "68314   silent_mystery_the_terminator  Silent Mystery The Terminator   \n",
       "78370   silent_mystery_the_terminator  Silent Mystery The Terminator   \n",
       "83611   silent_mystery_the_terminator  Silent Mystery The Terminator   \n",
       "90332   silent_mystery_the_terminator  Silent Mystery The Terminator   \n",
       "101810  silent_mystery_the_terminator  Silent Mystery The Terminator   \n",
       "103580  silent_mystery_the_terminator  Silent Mystery The Terminator   \n",
       "128637  silent_mystery_the_terminator  Silent Mystery The Terminator   \n",
       "129836  silent_mystery_the_terminator  Silent Mystery The Terminator   \n",
       "129939  silent_mystery_the_terminator  Silent Mystery The Terminator   \n",
       "136274  silent_mystery_the_terminator  Silent Mystery The Terminator   \n",
       "\n",
       "        audienceScore rating  runtimeMinutes  \\\n",
       "15649            21.0    [R]            90.0   \n",
       "35010             0.0     []           100.0   \n",
       "45236            97.0     []           120.0   \n",
       "47556             NaN     []            15.0   \n",
       "53301            81.0     []            95.0   \n",
       "59002            68.0     []           117.0   \n",
       "64469             NaN     []            82.0   \n",
       "68314            50.0     []            88.0   \n",
       "78370             NaN     []            96.0   \n",
       "83611            69.0     []           105.0   \n",
       "90332            50.0     []            97.0   \n",
       "101810           16.0     []            93.0   \n",
       "103580            NaN     []            84.0   \n",
       "128637            NaN     []           102.0   \n",
       "129836            NaN     []           112.0   \n",
       "129939            NaN     []           112.0   \n",
       "136274            NaN     []            93.0   \n",
       "\n",
       "                                    genre  \n",
       "15649         [Action, Mystery, thriller]  \n",
       "35010                           [Sci, fi]  \n",
       "45236                             [Drama]  \n",
       "47556          [Drama, Mystery, thriller]  \n",
       "53301                 [Mystery, thriller]  \n",
       "59002   [Crime, Drama, Mystery, thriller]  \n",
       "64469                       [Documentary]  \n",
       "68314                 [Mystery, thriller]  \n",
       "78370                             [Drama]  \n",
       "83611                             [Drama]  \n",
       "90332                            [Action]  \n",
       "101810        [Horror, Mystery, thriller]  \n",
       "103580                        [Biography]  \n",
       "128637                     [Crime, Drama]  \n",
       "129836                            [Drama]  \n",
       "129939                            [Drama]  \n",
       "136274                [Mystery, thriller]  "
      ]
     },
     "execution_count": 14,
     "metadata": {},
     "output_type": "execute_result"
    }
   ],
   "source": [
    "movies[movies['movieid']=='silent_mystery_the_terminator']"
   ]
  },
  {
   "cell_type": "markdown",
   "id": "e7127a5d",
   "metadata": {
    "papermill": {
     "duration": 0.026059,
     "end_time": "2023-08-13T18:02:58.158683",
     "exception": false,
     "start_time": "2023-08-13T18:02:58.132624",
     "status": "completed"
    },
    "tags": []
   },
   "source": [
    "### Grouping the rows by `movieid` and performing aggregation\n",
    "  * grouping rows using pandas `groupby` function\n",
    " \n",
    "  * aggregation done using pandas `agg` function"
   ]
  },
  {
   "cell_type": "code",
   "execution_count": 15,
   "id": "182f3427",
   "metadata": {
    "execution": {
     "iopub.execute_input": "2023-08-13T18:02:58.208376Z",
     "iopub.status.busy": "2023-08-13T18:02:58.208043Z",
     "iopub.status.idle": "2023-08-13T18:02:58.582756Z",
     "shell.execute_reply": "2023-08-13T18:02:58.581328Z"
    },
    "papermill": {
     "duration": 0.402389,
     "end_time": "2023-08-13T18:02:58.585217",
     "exception": false,
     "start_time": "2023-08-13T18:02:58.182828",
     "status": "completed"
    },
    "tags": []
   },
   "outputs": [
    {
     "name": "stdout",
     "output_type": "stream",
     "text": [
      "aggregation in progess.....\n",
      "aggregation completed\n"
     ]
    }
   ],
   "source": [
    "print(\"aggregation in progess.....\")\n",
    "grouping = movies.groupby('movieid').agg({\n",
    "    'audienceScore' : 'mean',\n",
    "    'runtimeMinutes' : 'max',\n",
    "    'genre' : 'sum',\n",
    "    'rating' : 'sum'\n",
    "}).reset_index()\n",
    "print(\"aggregation completed\")"
   ]
  },
  {
   "cell_type": "code",
   "execution_count": 16,
   "id": "0b9997f6",
   "metadata": {
    "execution": {
     "iopub.execute_input": "2023-08-13T18:02:58.636827Z",
     "iopub.status.busy": "2023-08-13T18:02:58.636083Z",
     "iopub.status.idle": "2023-08-13T18:02:58.692043Z",
     "shell.execute_reply": "2023-08-13T18:02:58.691015Z"
    },
    "papermill": {
     "duration": 0.083846,
     "end_time": "2023-08-13T18:02:58.693985",
     "exception": false,
     "start_time": "2023-08-13T18:02:58.610139",
     "status": "completed"
    },
    "tags": []
   },
   "outputs": [
    {
     "data": {
      "text/html": [
       "<div>\n",
       "<style scoped>\n",
       "    .dataframe tbody tr th:only-of-type {\n",
       "        vertical-align: middle;\n",
       "    }\n",
       "\n",
       "    .dataframe tbody tr th {\n",
       "        vertical-align: top;\n",
       "    }\n",
       "\n",
       "    .dataframe thead th {\n",
       "        text-align: right;\n",
       "    }\n",
       "</style>\n",
       "<table border=\"1\" class=\"dataframe\">\n",
       "  <thead>\n",
       "    <tr style=\"text-align: right;\">\n",
       "      <th></th>\n",
       "      <th>movieid</th>\n",
       "      <th>audienceScore</th>\n",
       "      <th>runtimeMinutes</th>\n",
       "      <th>genre</th>\n",
       "      <th>rating</th>\n",
       "    </tr>\n",
       "  </thead>\n",
       "  <tbody>\n",
       "    <tr>\n",
       "      <th>98757</th>\n",
       "      <td>silent_mystery_the_terminator</td>\n",
       "      <td>50.222222</td>\n",
       "      <td>120.0</td>\n",
       "      <td>[Action, Mystery, thriller, Sci, fi, Drama, Dr...</td>\n",
       "      <td>[R]</td>\n",
       "    </tr>\n",
       "  </tbody>\n",
       "</table>\n",
       "</div>"
      ],
      "text/plain": [
       "                             movieid  audienceScore  runtimeMinutes  \\\n",
       "98757  silent_mystery_the_terminator      50.222222           120.0   \n",
       "\n",
       "                                                   genre rating  \n",
       "98757  [Action, Mystery, thriller, Sci, fi, Drama, Dr...    [R]  "
      ]
     },
     "execution_count": 16,
     "metadata": {},
     "output_type": "execute_result"
    }
   ],
   "source": [
    "grouping[grouping['movieid']=='silent_mystery_the_terminator'] # verifying"
   ]
  },
  {
   "cell_type": "markdown",
   "id": "16bac12f",
   "metadata": {
    "papermill": {
     "duration": 0.025522,
     "end_time": "2023-08-13T18:02:58.743973",
     "exception": false,
     "start_time": "2023-08-13T18:02:58.718451",
     "status": "completed"
    },
    "tags": []
   },
   "source": [
    "### Removing duplicate values of genre from list\n",
    " `[ Action, Action, Drama, Drama, Thriller ]` will be converted to `[ Action, Drama, Thriller ]`"
   ]
  },
  {
   "cell_type": "code",
   "execution_count": 17,
   "id": "1290d16d",
   "metadata": {
    "execution": {
     "iopub.execute_input": "2023-08-13T18:02:58.795771Z",
     "iopub.status.busy": "2023-08-13T18:02:58.795042Z",
     "iopub.status.idle": "2023-08-13T18:03:01.200159Z",
     "shell.execute_reply": "2023-08-13T18:03:01.198768Z"
    },
    "papermill": {
     "duration": 2.433598,
     "end_time": "2023-08-13T18:03:01.202630",
     "exception": false,
     "start_time": "2023-08-13T18:02:58.769032",
     "status": "completed"
    },
    "tags": []
   },
   "outputs": [
    {
     "name": "stdout",
     "output_type": "stream",
     "text": [
      "removing duplicates...\n",
      "duplicates removed\n"
     ]
    }
   ],
   "source": [
    "print('removing duplicates...')\n",
    "time.sleep(1)\n",
    "def remove_duplicates(x):\n",
    "    '''Removes duplicates and convert the text to lower'''\n",
    "    return list(set([x.lower() for x in x]))\n",
    "time.sleep(1)\n",
    "grouping['genre'] = grouping['genre'].apply(lambda x : remove_duplicates(x))\n",
    "print('duplicates removed')"
   ]
  },
  {
   "cell_type": "markdown",
   "id": "cdb2bb02",
   "metadata": {
    "papermill": {
     "duration": 0.024865,
     "end_time": "2023-08-13T18:03:01.252334",
     "exception": false,
     "start_time": "2023-08-13T18:03:01.227469",
     "status": "completed"
    },
    "tags": []
   },
   "source": [
    "### Classifying the `rating` column and creating a new column `parentalGuidance`\n",
    " - Set value as `True` if it has any of `[R, NC-17, PG-13]` else `False`\n",
    " \n",
    " - Rename the column to `parentalGuidance`"
   ]
  },
  {
   "cell_type": "code",
   "execution_count": 18,
   "id": "c805fff2",
   "metadata": {
    "execution": {
     "iopub.execute_input": "2023-08-13T18:03:01.307564Z",
     "iopub.status.busy": "2023-08-13T18:03:01.306941Z",
     "iopub.status.idle": "2023-08-13T18:03:04.881148Z",
     "shell.execute_reply": "2023-08-13T18:03:04.880395Z"
    },
    "papermill": {
     "duration": 3.604808,
     "end_time": "2023-08-13T18:03:04.883236",
     "exception": false,
     "start_time": "2023-08-13T18:03:01.278428",
     "status": "completed"
    },
    "tags": []
   },
   "outputs": [
    {
     "name": "stdout",
     "output_type": "stream",
     "text": [
      "classification in progress...\n",
      "classification completed\n",
      "renaming columns\n",
      "renamed 'rating' to 'parentalGuidance'\n"
     ]
    }
   ],
   "source": [
    "print('classification in progress...')\n",
    "time.sleep(2)\n",
    "def parental_guidance(x):\n",
    "    '''Classifies the rating to True or False values'''\n",
    "    if ('R' in x) or ('NC-17' in x) or ('PG-13' in x):\n",
    "        return True\n",
    "    return False\n",
    "\n",
    "grouping['rating'] = grouping['rating'].apply(lambda x : parental_guidance(x))\n",
    "print('classification completed')\n",
    "print('renaming columns')\n",
    "time.sleep(1.5)\n",
    "grouping.rename(columns={'rating':'parentalGuidance'}, inplace=True)\n",
    "print(\"renamed 'rating' to 'parentalGuidance'\")"
   ]
  },
  {
   "cell_type": "code",
   "execution_count": 19,
   "id": "c73c5a3c",
   "metadata": {
    "execution": {
     "iopub.execute_input": "2023-08-13T18:03:04.935415Z",
     "iopub.status.busy": "2023-08-13T18:03:04.934836Z",
     "iopub.status.idle": "2023-08-13T18:03:04.986496Z",
     "shell.execute_reply": "2023-08-13T18:03:04.984997Z"
    },
    "papermill": {
     "duration": 0.080541,
     "end_time": "2023-08-13T18:03:04.988830",
     "exception": false,
     "start_time": "2023-08-13T18:03:04.908289",
     "status": "completed"
    },
    "tags": []
   },
   "outputs": [
    {
     "data": {
      "text/html": [
       "<div>\n",
       "<style scoped>\n",
       "    .dataframe tbody tr th:only-of-type {\n",
       "        vertical-align: middle;\n",
       "    }\n",
       "\n",
       "    .dataframe tbody tr th {\n",
       "        vertical-align: top;\n",
       "    }\n",
       "\n",
       "    .dataframe thead th {\n",
       "        text-align: right;\n",
       "    }\n",
       "</style>\n",
       "<table border=\"1\" class=\"dataframe\">\n",
       "  <thead>\n",
       "    <tr style=\"text-align: right;\">\n",
       "      <th></th>\n",
       "      <th>movieid</th>\n",
       "      <th>audienceScore</th>\n",
       "      <th>runtimeMinutes</th>\n",
       "      <th>genre</th>\n",
       "      <th>parentalGuidance</th>\n",
       "    </tr>\n",
       "  </thead>\n",
       "  <tbody>\n",
       "    <tr>\n",
       "      <th>98757</th>\n",
       "      <td>silent_mystery_the_terminator</td>\n",
       "      <td>50.222222</td>\n",
       "      <td>120.0</td>\n",
       "      <td>[biography, action, drama, documentary, thrill...</td>\n",
       "      <td>True</td>\n",
       "    </tr>\n",
       "  </tbody>\n",
       "</table>\n",
       "</div>"
      ],
      "text/plain": [
       "                             movieid  audienceScore  runtimeMinutes  \\\n",
       "98757  silent_mystery_the_terminator      50.222222           120.0   \n",
       "\n",
       "                                                   genre  parentalGuidance  \n",
       "98757  [biography, action, drama, documentary, thrill...              True  "
      ]
     },
     "execution_count": 19,
     "metadata": {},
     "output_type": "execute_result"
    }
   ],
   "source": [
    "grouping[grouping['movieid']=='silent_mystery_the_terminator']"
   ]
  },
  {
   "cell_type": "code",
   "execution_count": 20,
   "id": "4acbc090",
   "metadata": {
    "execution": {
     "iopub.execute_input": "2023-08-13T18:03:05.039232Z",
     "iopub.status.busy": "2023-08-13T18:03:05.038921Z",
     "iopub.status.idle": "2023-08-13T18:03:05.055402Z",
     "shell.execute_reply": "2023-08-13T18:03:05.053745Z"
    },
    "papermill": {
     "duration": 0.044995,
     "end_time": "2023-08-13T18:03:05.058052",
     "exception": false,
     "start_time": "2023-08-13T18:03:05.013057",
     "status": "completed"
    },
    "tags": []
   },
   "outputs": [
    {
     "data": {
      "text/html": [
       "<div>\n",
       "<style scoped>\n",
       "    .dataframe tbody tr th:only-of-type {\n",
       "        vertical-align: middle;\n",
       "    }\n",
       "\n",
       "    .dataframe tbody tr th {\n",
       "        vertical-align: top;\n",
       "    }\n",
       "\n",
       "    .dataframe thead th {\n",
       "        text-align: right;\n",
       "    }\n",
       "</style>\n",
       "<table border=\"1\" class=\"dataframe\">\n",
       "  <thead>\n",
       "    <tr style=\"text-align: right;\">\n",
       "      <th></th>\n",
       "      <th>movieid</th>\n",
       "      <th>audienceScore</th>\n",
       "      <th>runtimeMinutes</th>\n",
       "      <th>genre</th>\n",
       "      <th>parentalGuidance</th>\n",
       "    </tr>\n",
       "  </thead>\n",
       "  <tbody>\n",
       "    <tr>\n",
       "      <th>0</th>\n",
       "      <td>adventure_anakin_skywalker</td>\n",
       "      <td>49.0</td>\n",
       "      <td>96.0</td>\n",
       "      <td>[comedy]</td>\n",
       "      <td>False</td>\n",
       "    </tr>\n",
       "    <tr>\n",
       "      <th>1</th>\n",
       "      <td>adventure_anakin_skywalker_chronicles_whisper</td>\n",
       "      <td>NaN</td>\n",
       "      <td>90.0</td>\n",
       "      <td>[drama]</td>\n",
       "      <td>False</td>\n",
       "    </tr>\n",
       "    <tr>\n",
       "      <th>2</th>\n",
       "      <td>adventure_astonish</td>\n",
       "      <td>40.0</td>\n",
       "      <td>90.0</td>\n",
       "      <td>[comedy]</td>\n",
       "      <td>False</td>\n",
       "    </tr>\n",
       "    <tr>\n",
       "      <th>3</th>\n",
       "      <td>adventure_astonish_wondrous_beneath</td>\n",
       "      <td>60.0</td>\n",
       "      <td>96.0</td>\n",
       "      <td>[romance]</td>\n",
       "      <td>False</td>\n",
       "    </tr>\n",
       "    <tr>\n",
       "      <th>4</th>\n",
       "      <td>adventure_aurora_epic</td>\n",
       "      <td>NaN</td>\n",
       "      <td>60.0</td>\n",
       "      <td>[drama]</td>\n",
       "      <td>False</td>\n",
       "    </tr>\n",
       "  </tbody>\n",
       "</table>\n",
       "</div>"
      ],
      "text/plain": [
       "                                         movieid  audienceScore  \\\n",
       "0                     adventure_anakin_skywalker           49.0   \n",
       "1  adventure_anakin_skywalker_chronicles_whisper            NaN   \n",
       "2                             adventure_astonish           40.0   \n",
       "3            adventure_astonish_wondrous_beneath           60.0   \n",
       "4                          adventure_aurora_epic            NaN   \n",
       "\n",
       "   runtimeMinutes      genre  parentalGuidance  \n",
       "0            96.0   [comedy]             False  \n",
       "1            90.0    [drama]             False  \n",
       "2            90.0   [comedy]             False  \n",
       "3            96.0  [romance]             False  \n",
       "4            60.0    [drama]             False  "
      ]
     },
     "execution_count": 20,
     "metadata": {},
     "output_type": "execute_result"
    }
   ],
   "source": [
    "grouping.head()"
   ]
  },
  {
   "cell_type": "code",
   "execution_count": 21,
   "id": "fbc2e67a",
   "metadata": {
    "execution": {
     "iopub.execute_input": "2023-08-13T18:03:05.109967Z",
     "iopub.status.busy": "2023-08-13T18:03:05.109622Z",
     "iopub.status.idle": "2023-08-13T18:03:05.119517Z",
     "shell.execute_reply": "2023-08-13T18:03:05.118472Z"
    },
    "papermill": {
     "duration": 0.037567,
     "end_time": "2023-08-13T18:03:05.121285",
     "exception": false,
     "start_time": "2023-08-13T18:03:05.083718",
     "status": "completed"
    },
    "tags": []
   },
   "outputs": [
    {
     "data": {
      "text/plain": [
       "False    115649\n",
       "True      10755\n",
       "Name: parentalGuidance, dtype: int64"
      ]
     },
     "execution_count": 21,
     "metadata": {},
     "output_type": "execute_result"
    }
   ],
   "source": [
    "grouping['parentalGuidance'].value_counts()"
   ]
  },
  {
   "cell_type": "code",
   "execution_count": 22,
   "id": "7253f6a1",
   "metadata": {
    "execution": {
     "iopub.execute_input": "2023-08-13T18:03:05.172738Z",
     "iopub.status.busy": "2023-08-13T18:03:05.172117Z",
     "iopub.status.idle": "2023-08-13T18:03:05.229883Z",
     "shell.execute_reply": "2023-08-13T18:03:05.229243Z"
    },
    "papermill": {
     "duration": 0.0858,
     "end_time": "2023-08-13T18:03:05.231804",
     "exception": false,
     "start_time": "2023-08-13T18:03:05.146004",
     "status": "completed"
    },
    "tags": []
   },
   "outputs": [
    {
     "name": "stdout",
     "output_type": "stream",
     "text": [
      "<class 'pandas.core.frame.DataFrame'>\n",
      "RangeIndex: 126404 entries, 0 to 126403\n",
      "Data columns (total 5 columns):\n",
      " #   Column            Non-Null Count   Dtype  \n",
      "---  ------            --------------   -----  \n",
      " 0   movieid           126404 non-null  object \n",
      " 1   audienceScore     66187 non-null   float64\n",
      " 2   runtimeMinutes    114448 non-null  float64\n",
      " 3   genre             126404 non-null  object \n",
      " 4   parentalGuidance  126404 non-null  bool   \n",
      "dtypes: bool(1), float64(2), object(2)\n",
      "memory usage: 4.0+ MB\n"
     ]
    }
   ],
   "source": [
    "grouping.info()"
   ]
  },
  {
   "cell_type": "markdown",
   "id": "3b2a23cf",
   "metadata": {
    "papermill": {
     "duration": 0.025588,
     "end_time": "2023-08-13T18:03:05.282360",
     "exception": false,
     "start_time": "2023-08-13T18:03:05.256772",
     "status": "completed"
    },
    "tags": []
   },
   "source": [
    "### Dropping duplicate values of `movieid`"
   ]
  },
  {
   "cell_type": "code",
   "execution_count": 23,
   "id": "97eb1b6b",
   "metadata": {
    "execution": {
     "iopub.execute_input": "2023-08-13T18:03:05.336257Z",
     "iopub.status.busy": "2023-08-13T18:03:05.335673Z",
     "iopub.status.idle": "2023-08-13T18:03:05.422703Z",
     "shell.execute_reply": "2023-08-13T18:03:05.421761Z"
    },
    "papermill": {
     "duration": 0.116225,
     "end_time": "2023-08-13T18:03:05.424743",
     "exception": false,
     "start_time": "2023-08-13T18:03:05.308518",
     "status": "completed"
    },
    "tags": []
   },
   "outputs": [
    {
     "name": "stdout",
     "output_type": "stream",
     "text": [
      "<class 'pandas.core.frame.DataFrame'>\n",
      "RangeIndex: 143258 entries, 0 to 143257\n",
      "Data columns (total 6 columns):\n",
      " #   Column          Non-Null Count   Dtype  \n",
      "---  ------          --------------   -----  \n",
      " 0   movieid         143258 non-null  object \n",
      " 1   title           143258 non-null  object \n",
      " 2   audienceScore   73248 non-null   float64\n",
      " 3   rating          143258 non-null  object \n",
      " 4   runtimeMinutes  129431 non-null  float64\n",
      " 5   genre           143258 non-null  object \n",
      "dtypes: float64(2), object(4)\n",
      "memory usage: 6.6+ MB\n"
     ]
    }
   ],
   "source": [
    "movies.info()"
   ]
  },
  {
   "cell_type": "code",
   "execution_count": 24,
   "id": "1833854d",
   "metadata": {
    "execution": {
     "iopub.execute_input": "2023-08-13T18:03:05.478181Z",
     "iopub.status.busy": "2023-08-13T18:03:05.477763Z",
     "iopub.status.idle": "2023-08-13T18:03:05.512102Z",
     "shell.execute_reply": "2023-08-13T18:03:05.510670Z"
    },
    "papermill": {
     "duration": 0.063994,
     "end_time": "2023-08-13T18:03:05.514622",
     "exception": false,
     "start_time": "2023-08-13T18:03:05.450628",
     "status": "completed"
    },
    "tags": []
   },
   "outputs": [],
   "source": [
    "movies.drop_duplicates(['movieid'], inplace=True)"
   ]
  },
  {
   "cell_type": "code",
   "execution_count": 25,
   "id": "28370c44",
   "metadata": {
    "execution": {
     "iopub.execute_input": "2023-08-13T18:03:05.567414Z",
     "iopub.status.busy": "2023-08-13T18:03:05.566901Z",
     "iopub.status.idle": "2023-08-13T18:03:05.645995Z",
     "shell.execute_reply": "2023-08-13T18:03:05.645109Z"
    },
    "papermill": {
     "duration": 0.1085,
     "end_time": "2023-08-13T18:03:05.648639",
     "exception": false,
     "start_time": "2023-08-13T18:03:05.540139",
     "status": "completed"
    },
    "tags": []
   },
   "outputs": [
    {
     "name": "stdout",
     "output_type": "stream",
     "text": [
      "<class 'pandas.core.frame.DataFrame'>\n",
      "Int64Index: 126404 entries, 0 to 143256\n",
      "Data columns (total 6 columns):\n",
      " #   Column          Non-Null Count   Dtype  \n",
      "---  ------          --------------   -----  \n",
      " 0   movieid         126404 non-null  object \n",
      " 1   title           126404 non-null  object \n",
      " 2   audienceScore   63714 non-null   float64\n",
      " 3   rating          126404 non-null  object \n",
      " 4   runtimeMinutes  113910 non-null  float64\n",
      " 5   genre           126404 non-null  object \n",
      "dtypes: float64(2), object(4)\n",
      "memory usage: 6.8+ MB\n"
     ]
    }
   ],
   "source": [
    "movies.info()"
   ]
  },
  {
   "cell_type": "markdown",
   "id": "752b3cea",
   "metadata": {
    "papermill": {
     "duration": 0.025536,
     "end_time": "2023-08-13T18:03:05.700977",
     "exception": false,
     "start_time": "2023-08-13T18:03:05.675441",
     "status": "completed"
    },
    "tags": []
   },
   "source": [
    "### Also dropping `audienceScore, rating, genre, runtimeMinutes` "
   ]
  },
  {
   "cell_type": "code",
   "execution_count": 26,
   "id": "75babcae",
   "metadata": {
    "execution": {
     "iopub.execute_input": "2023-08-13T18:03:05.755205Z",
     "iopub.status.busy": "2023-08-13T18:03:05.754824Z",
     "iopub.status.idle": "2023-08-13T18:03:05.772878Z",
     "shell.execute_reply": "2023-08-13T18:03:05.771600Z"
    },
    "papermill": {
     "duration": 0.048565,
     "end_time": "2023-08-13T18:03:05.775537",
     "exception": false,
     "start_time": "2023-08-13T18:03:05.726972",
     "status": "completed"
    },
    "tags": []
   },
   "outputs": [],
   "source": [
    "movies.drop(columns=['audienceScore', 'rating', 'genre', 'runtimeMinutes'], inplace = True)"
   ]
  },
  {
   "cell_type": "code",
   "execution_count": 27,
   "id": "706476ee",
   "metadata": {
    "execution": {
     "iopub.execute_input": "2023-08-13T18:03:05.830964Z",
     "iopub.status.busy": "2023-08-13T18:03:05.830522Z",
     "iopub.status.idle": "2023-08-13T18:03:05.876849Z",
     "shell.execute_reply": "2023-08-13T18:03:05.875146Z"
    },
    "papermill": {
     "duration": 0.077626,
     "end_time": "2023-08-13T18:03:05.879354",
     "exception": false,
     "start_time": "2023-08-13T18:03:05.801728",
     "status": "completed"
    },
    "tags": []
   },
   "outputs": [
    {
     "name": "stdout",
     "output_type": "stream",
     "text": [
      "<class 'pandas.core.frame.DataFrame'>\n",
      "Int64Index: 126404 entries, 0 to 143256\n",
      "Data columns (total 2 columns):\n",
      " #   Column   Non-Null Count   Dtype \n",
      "---  ------   --------------   ----- \n",
      " 0   movieid  126404 non-null  object\n",
      " 1   title    126404 non-null  object\n",
      "dtypes: object(2)\n",
      "memory usage: 2.9+ MB\n"
     ]
    }
   ],
   "source": [
    "movies.info()"
   ]
  },
  {
   "cell_type": "markdown",
   "id": "078705fe",
   "metadata": {
    "papermill": {
     "duration": 0.025403,
     "end_time": "2023-08-13T18:03:05.930544",
     "exception": false,
     "start_time": "2023-08-13T18:03:05.905141",
     "status": "completed"
    },
    "tags": []
   },
   "source": [
    "### Merging `movies` and `grouping` on `movieid`"
   ]
  },
  {
   "cell_type": "code",
   "execution_count": 28,
   "id": "d8d46140",
   "metadata": {
    "execution": {
     "iopub.execute_input": "2023-08-13T18:03:05.983764Z",
     "iopub.status.busy": "2023-08-13T18:03:05.983351Z",
     "iopub.status.idle": "2023-08-13T18:03:08.094873Z",
     "shell.execute_reply": "2023-08-13T18:03:08.093299Z"
    },
    "papermill": {
     "duration": 2.140257,
     "end_time": "2023-08-13T18:03:08.096633",
     "exception": false,
     "start_time": "2023-08-13T18:03:05.956376",
     "status": "completed"
    },
    "tags": []
   },
   "outputs": [
    {
     "name": "stdout",
     "output_type": "stream",
     "text": [
      "merging in progress...\n",
      "merged movies and grouping dataframes\n"
     ]
    }
   ],
   "source": [
    "print('merging in progress...')\n",
    "time.sleep(2)\n",
    "movies = pd.merge(movies, grouping, on='movieid', how='left')\n",
    "print('merged movies and grouping dataframes')"
   ]
  },
  {
   "cell_type": "code",
   "execution_count": 29,
   "id": "570427d9",
   "metadata": {
    "execution": {
     "iopub.execute_input": "2023-08-13T18:03:08.149540Z",
     "iopub.status.busy": "2023-08-13T18:03:08.149139Z",
     "iopub.status.idle": "2023-08-13T18:03:08.226299Z",
     "shell.execute_reply": "2023-08-13T18:03:08.225610Z"
    },
    "papermill": {
     "duration": 0.106098,
     "end_time": "2023-08-13T18:03:08.228299",
     "exception": false,
     "start_time": "2023-08-13T18:03:08.122201",
     "status": "completed"
    },
    "tags": []
   },
   "outputs": [
    {
     "name": "stdout",
     "output_type": "stream",
     "text": [
      "<class 'pandas.core.frame.DataFrame'>\n",
      "Int64Index: 126404 entries, 0 to 126403\n",
      "Data columns (total 6 columns):\n",
      " #   Column            Non-Null Count   Dtype  \n",
      "---  ------            --------------   -----  \n",
      " 0   movieid           126404 non-null  object \n",
      " 1   title             126404 non-null  object \n",
      " 2   audienceScore     66187 non-null   float64\n",
      " 3   runtimeMinutes    114448 non-null  float64\n",
      " 4   genre             126404 non-null  object \n",
      " 5   parentalGuidance  126404 non-null  bool   \n",
      "dtypes: bool(1), float64(2), object(3)\n",
      "memory usage: 5.9+ MB\n"
     ]
    }
   ],
   "source": [
    "movies.info()"
   ]
  },
  {
   "cell_type": "code",
   "execution_count": 30,
   "id": "0d45d9f9",
   "metadata": {
    "execution": {
     "iopub.execute_input": "2023-08-13T18:03:08.281725Z",
     "iopub.status.busy": "2023-08-13T18:03:08.281350Z",
     "iopub.status.idle": "2023-08-13T18:03:08.293626Z",
     "shell.execute_reply": "2023-08-13T18:03:08.292485Z"
    },
    "papermill": {
     "duration": 0.042007,
     "end_time": "2023-08-13T18:03:08.295950",
     "exception": false,
     "start_time": "2023-08-13T18:03:08.253943",
     "status": "completed"
    },
    "tags": []
   },
   "outputs": [
    {
     "data": {
      "text/html": [
       "<div>\n",
       "<style scoped>\n",
       "    .dataframe tbody tr th:only-of-type {\n",
       "        vertical-align: middle;\n",
       "    }\n",
       "\n",
       "    .dataframe tbody tr th {\n",
       "        vertical-align: top;\n",
       "    }\n",
       "\n",
       "    .dataframe thead th {\n",
       "        text-align: right;\n",
       "    }\n",
       "</style>\n",
       "<table border=\"1\" class=\"dataframe\">\n",
       "  <thead>\n",
       "    <tr style=\"text-align: right;\">\n",
       "      <th></th>\n",
       "      <th>movieid</th>\n",
       "      <th>title</th>\n",
       "      <th>audienceScore</th>\n",
       "      <th>runtimeMinutes</th>\n",
       "      <th>genre</th>\n",
       "      <th>parentalGuidance</th>\n",
       "    </tr>\n",
       "  </thead>\n",
       "  <tbody>\n",
       "    <tr>\n",
       "      <th>0</th>\n",
       "      <td>han_solo_heroic_myth_wonder_woman</td>\n",
       "      <td>Han Solo Heroic Myth Wonder Woman</td>\n",
       "      <td>50.0</td>\n",
       "      <td>75.0</td>\n",
       "      <td>[horror, fi, comedy, sci]</td>\n",
       "      <td>False</td>\n",
       "    </tr>\n",
       "    <tr>\n",
       "      <th>1</th>\n",
       "      <td>voyage_tyler_durden_han_solo_stardust</td>\n",
       "      <td>Voyage Tyler Durden Han Solo Stardust</td>\n",
       "      <td>NaN</td>\n",
       "      <td>114.0</td>\n",
       "      <td>[drama]</td>\n",
       "      <td>False</td>\n",
       "    </tr>\n",
       "  </tbody>\n",
       "</table>\n",
       "</div>"
      ],
      "text/plain": [
       "                                 movieid  \\\n",
       "0      han_solo_heroic_myth_wonder_woman   \n",
       "1  voyage_tyler_durden_han_solo_stardust   \n",
       "\n",
       "                                   title  audienceScore  runtimeMinutes  \\\n",
       "0      Han Solo Heroic Myth Wonder Woman           50.0            75.0   \n",
       "1  Voyage Tyler Durden Han Solo Stardust            NaN           114.0   \n",
       "\n",
       "                       genre  parentalGuidance  \n",
       "0  [horror, fi, comedy, sci]             False  \n",
       "1                    [drama]             False  "
      ]
     },
     "execution_count": 30,
     "metadata": {},
     "output_type": "execute_result"
    }
   ],
   "source": [
    "movies.head(2)"
   ]
  },
  {
   "cell_type": "markdown",
   "id": "cb6455b2",
   "metadata": {
    "papermill": {
     "duration": 0.026773,
     "end_time": "2023-08-13T18:03:08.350253",
     "exception": false,
     "start_time": "2023-08-13T18:03:08.323480",
     "status": "completed"
    },
    "tags": []
   },
   "source": [
    "# Train and Test"
   ]
  },
  {
   "cell_type": "markdown",
   "id": "3ea95dd9",
   "metadata": {
    "papermill": {
     "duration": 0.025629,
     "end_time": "2023-08-13T18:03:08.402335",
     "exception": false,
     "start_time": "2023-08-13T18:03:08.376706",
     "status": "completed"
    },
    "tags": []
   },
   "source": [
    "**Reading `train.csv` and `test.csv`**"
   ]
  },
  {
   "cell_type": "code",
   "execution_count": 31,
   "id": "76890f71",
   "metadata": {
    "execution": {
     "iopub.execute_input": "2023-08-13T18:03:08.457954Z",
     "iopub.status.busy": "2023-08-13T18:03:08.457566Z",
     "iopub.status.idle": "2023-08-13T18:03:09.594116Z",
     "shell.execute_reply": "2023-08-13T18:03:09.592795Z"
    },
    "papermill": {
     "duration": 1.167208,
     "end_time": "2023-08-13T18:03:09.596733",
     "exception": false,
     "start_time": "2023-08-13T18:03:08.429525",
     "status": "completed"
    },
    "tags": []
   },
   "outputs": [],
   "source": [
    "train = pd.read_csv('/kaggle/input/sentiment-prediction-on-movie-reviews/train.csv')\n",
    "test = pd.read_csv('/kaggle/input/sentiment-prediction-on-movie-reviews/test.csv')"
   ]
  },
  {
   "cell_type": "code",
   "execution_count": 32,
   "id": "21ba7cbe",
   "metadata": {
    "execution": {
     "iopub.execute_input": "2023-08-13T18:03:09.654590Z",
     "iopub.status.busy": "2023-08-13T18:03:09.654203Z",
     "iopub.status.idle": "2023-08-13T18:03:09.662408Z",
     "shell.execute_reply": "2023-08-13T18:03:09.661072Z"
    },
    "papermill": {
     "duration": 0.037831,
     "end_time": "2023-08-13T18:03:09.664312",
     "exception": false,
     "start_time": "2023-08-13T18:03:09.626481",
     "status": "completed"
    },
    "tags": []
   },
   "outputs": [
    {
     "data": {
      "text/plain": [
       "Index(['movieid', 'reviewerName', 'isFrequentReviewer', 'reviewText',\n",
       "       'sentiment'],\n",
       "      dtype='object')"
      ]
     },
     "execution_count": 32,
     "metadata": {},
     "output_type": "execute_result"
    }
   ],
   "source": [
    "train.columns  # columns of train data"
   ]
  },
  {
   "cell_type": "code",
   "execution_count": 33,
   "id": "25aefe98",
   "metadata": {
    "execution": {
     "iopub.execute_input": "2023-08-13T18:03:09.718520Z",
     "iopub.status.busy": "2023-08-13T18:03:09.718141Z",
     "iopub.status.idle": "2023-08-13T18:03:09.726061Z",
     "shell.execute_reply": "2023-08-13T18:03:09.724879Z"
    },
    "papermill": {
     "duration": 0.038439,
     "end_time": "2023-08-13T18:03:09.728682",
     "exception": false,
     "start_time": "2023-08-13T18:03:09.690243",
     "status": "completed"
    },
    "tags": []
   },
   "outputs": [
    {
     "data": {
      "text/plain": [
       "Index(['movieid', 'reviewerName', 'isTopCritic', 'reviewText'], dtype='object')"
      ]
     },
     "execution_count": 33,
     "metadata": {},
     "output_type": "execute_result"
    }
   ],
   "source": [
    "test.columns  # columns of test data"
   ]
  },
  {
   "cell_type": "markdown",
   "id": "ba2dc988",
   "metadata": {
    "papermill": {
     "duration": 0.027345,
     "end_time": "2023-08-13T18:03:09.783266",
     "exception": false,
     "start_time": "2023-08-13T18:03:09.755921",
     "status": "completed"
    },
    "tags": []
   },
   "source": [
    "**Renaming `isFrequentReviewer` column in train data to `isTopCritic`**"
   ]
  },
  {
   "cell_type": "code",
   "execution_count": 34,
   "id": "4fb5135b",
   "metadata": {
    "execution": {
     "iopub.execute_input": "2023-08-13T18:03:09.840025Z",
     "iopub.status.busy": "2023-08-13T18:03:09.839627Z",
     "iopub.status.idle": "2023-08-13T18:03:11.849386Z",
     "shell.execute_reply": "2023-08-13T18:03:11.847697Z"
    },
    "papermill": {
     "duration": 2.040267,
     "end_time": "2023-08-13T18:03:11.851659",
     "exception": false,
     "start_time": "2023-08-13T18:03:09.811392",
     "status": "completed"
    },
    "tags": []
   },
   "outputs": [
    {
     "name": "stdout",
     "output_type": "stream",
     "text": [
      "rename in progress..\n",
      "renamed 'isFrequentReviewer' to 'isTopCritic'\n"
     ]
    }
   ],
   "source": [
    "print('rename in progress..')\n",
    "time.sleep(2)\n",
    "train.rename(columns={'isFrequentReviewer':'isTopCritic'}, inplace=True) # renaming using pandas rename function\n",
    "print(\"renamed 'isFrequentReviewer' to 'isTopCritic'\")"
   ]
  },
  {
   "cell_type": "code",
   "execution_count": 35,
   "id": "f352e4f9",
   "metadata": {
    "execution": {
     "iopub.execute_input": "2023-08-13T18:03:11.910126Z",
     "iopub.status.busy": "2023-08-13T18:03:11.909722Z",
     "iopub.status.idle": "2023-08-13T18:03:11.917152Z",
     "shell.execute_reply": "2023-08-13T18:03:11.915630Z"
    },
    "papermill": {
     "duration": 0.042241,
     "end_time": "2023-08-13T18:03:11.919825",
     "exception": false,
     "start_time": "2023-08-13T18:03:11.877584",
     "status": "completed"
    },
    "tags": []
   },
   "outputs": [
    {
     "data": {
      "text/plain": [
       "Index(['movieid', 'reviewerName', 'isTopCritic', 'reviewText', 'sentiment'], dtype='object')"
      ]
     },
     "execution_count": 35,
     "metadata": {},
     "output_type": "execute_result"
    }
   ],
   "source": [
    "train.columns  # verifying column names"
   ]
  },
  {
   "cell_type": "markdown",
   "id": "268726de",
   "metadata": {
    "papermill": {
     "duration": 0.026249,
     "end_time": "2023-08-13T18:03:11.974023",
     "exception": false,
     "start_time": "2023-08-13T18:03:11.947774",
     "status": "completed"
    },
    "tags": []
   },
   "source": [
    "### Merging `train` and `test` with `movies`"
   ]
  },
  {
   "cell_type": "code",
   "execution_count": 36,
   "id": "d502b84b",
   "metadata": {
    "execution": {
     "iopub.execute_input": "2023-08-13T18:03:12.030485Z",
     "iopub.status.busy": "2023-08-13T18:03:12.030114Z",
     "iopub.status.idle": "2023-08-13T18:03:14.820948Z",
     "shell.execute_reply": "2023-08-13T18:03:14.820066Z"
    },
    "papermill": {
     "duration": 2.820283,
     "end_time": "2023-08-13T18:03:14.822743",
     "exception": false,
     "start_time": "2023-08-13T18:03:12.002460",
     "status": "completed"
    },
    "tags": []
   },
   "outputs": [
    {
     "name": "stdout",
     "output_type": "stream",
     "text": [
      "merging 'train' and 'movies'...\n",
      "merged 'train' and 'movies'\n",
      "merging 'test' and 'movies'...\n",
      "merged 'test' and 'movies'\n"
     ]
    }
   ],
   "source": [
    "print(\"merging 'train' and 'movies'...\")\n",
    "time.sleep(1)\n",
    "train = pd.merge(train, movies, on='movieid', how='left')\n",
    "print(\"merged 'train' and 'movies'\")\n",
    "time.sleep(0.5)\n",
    "print(\"merging 'test' and 'movies'...\")\n",
    "time.sleep(1)\n",
    "test = pd.merge(test, movies, on='movieid', how='left')\n",
    "print(\"merged 'test' and 'movies'\")"
   ]
  },
  {
   "cell_type": "markdown",
   "id": "ea40e116",
   "metadata": {
    "papermill": {
     "duration": 0.026243,
     "end_time": "2023-08-13T18:03:14.874892",
     "exception": false,
     "start_time": "2023-08-13T18:03:14.848649",
     "status": "completed"
    },
    "tags": []
   },
   "source": [
    "### Exploratory Data Analysis on `train`"
   ]
  },
  {
   "cell_type": "code",
   "execution_count": 37,
   "id": "80c668f1",
   "metadata": {
    "execution": {
     "iopub.execute_input": "2023-08-13T18:03:14.929378Z",
     "iopub.status.busy": "2023-08-13T18:03:14.928846Z",
     "iopub.status.idle": "2023-08-13T18:03:15.100265Z",
     "shell.execute_reply": "2023-08-13T18:03:15.099282Z"
    },
    "papermill": {
     "duration": 0.201132,
     "end_time": "2023-08-13T18:03:15.102419",
     "exception": false,
     "start_time": "2023-08-13T18:03:14.901287",
     "status": "completed"
    },
    "tags": []
   },
   "outputs": [
    {
     "name": "stdout",
     "output_type": "stream",
     "text": [
      "<class 'pandas.core.frame.DataFrame'>\n",
      "Int64Index: 162758 entries, 0 to 162757\n",
      "Data columns (total 10 columns):\n",
      " #   Column            Non-Null Count   Dtype  \n",
      "---  ------            --------------   -----  \n",
      " 0   movieid           162758 non-null  object \n",
      " 1   reviewerName      162758 non-null  object \n",
      " 2   isTopCritic       162758 non-null  bool   \n",
      " 3   reviewText        156311 non-null  object \n",
      " 4   sentiment         162758 non-null  object \n",
      " 5   title             162758 non-null  object \n",
      " 6   audienceScore     159922 non-null  float64\n",
      " 7   runtimeMinutes    162016 non-null  float64\n",
      " 8   genre             162758 non-null  object \n",
      " 9   parentalGuidance  162758 non-null  bool   \n",
      "dtypes: bool(2), float64(2), object(6)\n",
      "memory usage: 11.5+ MB\n"
     ]
    }
   ],
   "source": [
    "train.info()"
   ]
  },
  {
   "cell_type": "markdown",
   "id": "7b6622b1",
   "metadata": {
    "papermill": {
     "duration": 0.026367,
     "end_time": "2023-08-13T18:03:15.157023",
     "exception": false,
     "start_time": "2023-08-13T18:03:15.130656",
     "status": "completed"
    },
    "tags": []
   },
   "source": [
    "**Studying the Distribution of `sentiments`**"
   ]
  },
  {
   "cell_type": "code",
   "execution_count": 38,
   "id": "3fc5aee2",
   "metadata": {
    "execution": {
     "iopub.execute_input": "2023-08-13T18:03:15.214199Z",
     "iopub.status.busy": "2023-08-13T18:03:15.213791Z",
     "iopub.status.idle": "2023-08-13T18:03:15.229399Z",
     "shell.execute_reply": "2023-08-13T18:03:15.228453Z"
    },
    "papermill": {
     "duration": 0.046239,
     "end_time": "2023-08-13T18:03:15.231254",
     "exception": false,
     "start_time": "2023-08-13T18:03:15.185015",
     "status": "completed"
    },
    "tags": []
   },
   "outputs": [
    {
     "data": {
      "text/plain": [
       "POSITIVE    108761\n",
       "NEGATIVE     53997\n",
       "Name: sentiment, dtype: int64"
      ]
     },
     "execution_count": 38,
     "metadata": {},
     "output_type": "execute_result"
    }
   ],
   "source": [
    "train['sentiment'].value_counts()"
   ]
  },
  {
   "cell_type": "code",
   "execution_count": 39,
   "id": "9d128c23",
   "metadata": {
    "execution": {
     "iopub.execute_input": "2023-08-13T18:03:15.289166Z",
     "iopub.status.busy": "2023-08-13T18:03:15.288730Z",
     "iopub.status.idle": "2023-08-13T18:03:15.304003Z",
     "shell.execute_reply": "2023-08-13T18:03:15.302616Z"
    },
    "papermill": {
     "duration": 0.047979,
     "end_time": "2023-08-13T18:03:15.305962",
     "exception": false,
     "start_time": "2023-08-13T18:03:15.257983",
     "status": "completed"
    },
    "tags": []
   },
   "outputs": [
    {
     "data": {
      "text/plain": [
       "POSITIVE    0.668238\n",
       "NEGATIVE    0.331762\n",
       "Name: sentiment, dtype: float64"
      ]
     },
     "execution_count": 39,
     "metadata": {},
     "output_type": "execute_result"
    }
   ],
   "source": [
    "train['sentiment'].value_counts(normalize=True)"
   ]
  },
  {
   "cell_type": "markdown",
   "id": "73911dc8",
   "metadata": {
    "papermill": {
     "duration": 0.027579,
     "end_time": "2023-08-13T18:03:15.361207",
     "exception": false,
     "start_time": "2023-08-13T18:03:15.333628",
     "status": "completed"
    },
    "tags": []
   },
   "source": [
    "### `sentiment` contains only two classes\n",
    "- Positive\n",
    "- Negative\n",
    "\n",
    "So, we can go with `LabelEncoder` "
   ]
  },
  {
   "cell_type": "code",
   "execution_count": 40,
   "id": "79010a67",
   "metadata": {
    "execution": {
     "iopub.execute_input": "2023-08-13T18:03:15.416700Z",
     "iopub.status.busy": "2023-08-13T18:03:15.415982Z",
     "iopub.status.idle": "2023-08-13T18:03:15.615631Z",
     "shell.execute_reply": "2023-08-13T18:03:15.614144Z"
    },
    "papermill": {
     "duration": 0.230388,
     "end_time": "2023-08-13T18:03:15.618326",
     "exception": false,
     "start_time": "2023-08-13T18:03:15.387938",
     "status": "completed"
    },
    "tags": []
   },
   "outputs": [
    {
     "data": {
      "image/png": "[encoded data removed]",
      "text/plain": [
       "<Figure size 1000x600 with 1 Axes>"
      ]
     },
     "metadata": {},
     "output_type": "display_data"
    }
   ],
   "source": [
    "sentiments = train['sentiment'].value_counts()\n",
    "\n",
    "positive = sentiments[0]\n",
    "negative = sentiments[1]\n",
    "\n",
    "plt.figure(figsize=(10,6))\n",
    "plt.bar(['Positive', 'Negative'],[positive, negative], color='salmon')\n",
    "plt.title('Sentiments')\n",
    "plt.ylabel('Count')\n",
    "plt.show()"
   ]
  },
  {
   "cell_type": "markdown",
   "id": "fe21aca1",
   "metadata": {
    "papermill": {
     "duration": 0.027104,
     "end_time": "2023-08-13T18:03:15.675607",
     "exception": false,
     "start_time": "2023-08-13T18:03:15.648503",
     "status": "completed"
    },
    "tags": []
   },
   "source": [
    "**Studying the distribution of `Critics`**"
   ]
  },
  {
   "cell_type": "code",
   "execution_count": 41,
   "id": "f3bc8761",
   "metadata": {
    "execution": {
     "iopub.execute_input": "2023-08-13T18:03:15.732531Z",
     "iopub.status.busy": "2023-08-13T18:03:15.732119Z",
     "iopub.status.idle": "2023-08-13T18:03:15.741638Z",
     "shell.execute_reply": "2023-08-13T18:03:15.740528Z"
    },
    "papermill": {
     "duration": 0.040542,
     "end_time": "2023-08-13T18:03:15.743296",
     "exception": false,
     "start_time": "2023-08-13T18:03:15.702754",
     "status": "completed"
    },
    "tags": []
   },
   "outputs": [
    {
     "data": {
      "text/plain": [
       "False    113189\n",
       "True      49569\n",
       "Name: isTopCritic, dtype: int64"
      ]
     },
     "execution_count": 41,
     "metadata": {},
     "output_type": "execute_result"
    }
   ],
   "source": [
    "train['isTopCritic'].value_counts()"
   ]
  },
  {
   "cell_type": "code",
   "execution_count": 42,
   "id": "c4c85d8c",
   "metadata": {
    "execution": {
     "iopub.execute_input": "2023-08-13T18:03:15.800794Z",
     "iopub.status.busy": "2023-08-13T18:03:15.799828Z",
     "iopub.status.idle": "2023-08-13T18:03:15.809426Z",
     "shell.execute_reply": "2023-08-13T18:03:15.808607Z"
    },
    "papermill": {
     "duration": 0.040155,
     "end_time": "2023-08-13T18:03:15.811399",
     "exception": false,
     "start_time": "2023-08-13T18:03:15.771244",
     "status": "completed"
    },
    "tags": []
   },
   "outputs": [
    {
     "data": {
      "text/plain": [
       "False    0.695444\n",
       "True     0.304556\n",
       "Name: isTopCritic, dtype: float64"
      ]
     },
     "execution_count": 42,
     "metadata": {},
     "output_type": "execute_result"
    }
   ],
   "source": [
    "train['isTopCritic'].value_counts(normalize=True)"
   ]
  },
  {
   "cell_type": "code",
   "execution_count": 43,
   "id": "dc10614d",
   "metadata": {
    "execution": {
     "iopub.execute_input": "2023-08-13T18:03:15.870474Z",
     "iopub.status.busy": "2023-08-13T18:03:15.869109Z",
     "iopub.status.idle": "2023-08-13T18:03:16.050664Z",
     "shell.execute_reply": "2023-08-13T18:03:16.049400Z"
    },
    "papermill": {
     "duration": 0.212643,
     "end_time": "2023-08-13T18:03:16.052894",
     "exception": false,
     "start_time": "2023-08-13T18:03:15.840251",
     "status": "completed"
    },
    "tags": []
   },
   "outputs": [
    {
     "data": {
      "image/png": "[encoded data removed]",
      "text/plain": [
       "<Figure size 1000x600 with 1 Axes>"
      ]
     },
     "metadata": {},
     "output_type": "display_data"
    }
   ],
   "source": [
    "critics = train['isTopCritic'].value_counts()\n",
    "\n",
    "isATopCritic = critics[1]\n",
    "isNotATopCritic = critics[0]\n",
    "\n",
    "plt.figure(figsize=(10,6))\n",
    "plt.bar(['isATopCritic', 'isNotATopCritic'],[isATopCritic,isNotATopCritic], color='salmon')\n",
    "plt.title('Distribution of Critics')\n",
    "plt.ylabel('Count')\n",
    "plt.show()"
   ]
  },
  {
   "cell_type": "markdown",
   "id": "4af6142a",
   "metadata": {
    "papermill": {
     "duration": 0.030569,
     "end_time": "2023-08-13T18:03:16.115965",
     "exception": false,
     "start_time": "2023-08-13T18:03:16.085396",
     "status": "completed"
    },
    "tags": []
   },
   "source": [
    "### `runtimetimes` looks much better now after performing `Datacleaning` and `EDA`"
   ]
  },
  {
   "cell_type": "code",
   "execution_count": 44,
   "id": "b82b686b",
   "metadata": {
    "execution": {
     "iopub.execute_input": "2023-08-13T18:03:16.180208Z",
     "iopub.status.busy": "2023-08-13T18:03:16.179321Z",
     "iopub.status.idle": "2023-08-13T18:03:16.378297Z",
     "shell.execute_reply": "2023-08-13T18:03:16.377422Z"
    },
    "papermill": {
     "duration": 0.232117,
     "end_time": "2023-08-13T18:03:16.380291",
     "exception": false,
     "start_time": "2023-08-13T18:03:16.148174",
     "status": "completed"
    },
    "tags": []
   },
   "outputs": [
    {
     "data": {
      "text/plain": [
       "<Axes: ylabel='runtimeMinutes'>"
      ]
     },
     "execution_count": 44,
     "metadata": {},
     "output_type": "execute_result"
    },
    {
     "data": {
      "image/png": "[encoded data removed]",
      "text/plain": [
       "<Figure size 1000x600 with 1 Axes>"
      ]
     },
     "metadata": {},
     "output_type": "display_data"
    }
   ],
   "source": [
    "plt.figure(figsize=(10,6))\n",
    "sns.boxplot(data=train, y='runtimeMinutes', color='salmon')"
   ]
  },
  {
   "cell_type": "code",
   "execution_count": 45,
   "id": "138588cb",
   "metadata": {
    "execution": {
     "iopub.execute_input": "2023-08-13T18:03:16.438490Z",
     "iopub.status.busy": "2023-08-13T18:03:16.437955Z",
     "iopub.status.idle": "2023-08-13T18:03:16.601744Z",
     "shell.execute_reply": "2023-08-13T18:03:16.600814Z"
    },
    "papermill": {
     "duration": 0.194803,
     "end_time": "2023-08-13T18:03:16.603905",
     "exception": false,
     "start_time": "2023-08-13T18:03:16.409102",
     "status": "completed"
    },
    "tags": []
   },
   "outputs": [
    {
     "data": {
      "text/plain": [
       "<Axes: ylabel='audienceScore'>"
      ]
     },
     "execution_count": 45,
     "metadata": {},
     "output_type": "execute_result"
    },
    {
     "data": {
      "image/png": "[encoded data removed]",
      "text/plain": [
       "<Figure size 1000x600 with 1 Axes>"
      ]
     },
     "metadata": {},
     "output_type": "display_data"
    }
   ],
   "source": [
    "plt.figure(figsize=(10,6))\n",
    "sns.boxplot(data=train, y='audienceScore', color='salmon')"
   ]
  },
  {
   "cell_type": "code",
   "execution_count": 46,
   "id": "4529015b",
   "metadata": {
    "execution": {
     "iopub.execute_input": "2023-08-13T18:03:16.664286Z",
     "iopub.status.busy": "2023-08-13T18:03:16.663652Z",
     "iopub.status.idle": "2023-08-13T18:03:16.706066Z",
     "shell.execute_reply": "2023-08-13T18:03:16.705093Z"
    },
    "papermill": {
     "duration": 0.076308,
     "end_time": "2023-08-13T18:03:16.708417",
     "exception": false,
     "start_time": "2023-08-13T18:03:16.632109",
     "status": "completed"
    },
    "tags": []
   },
   "outputs": [
    {
     "data": {
      "text/html": [
       "<div>\n",
       "<style scoped>\n",
       "    .dataframe tbody tr th:only-of-type {\n",
       "        vertical-align: middle;\n",
       "    }\n",
       "\n",
       "    .dataframe tbody tr th {\n",
       "        vertical-align: top;\n",
       "    }\n",
       "\n",
       "    .dataframe thead th {\n",
       "        text-align: right;\n",
       "    }\n",
       "</style>\n",
       "<table border=\"1\" class=\"dataframe\">\n",
       "  <thead>\n",
       "    <tr style=\"text-align: right;\">\n",
       "      <th></th>\n",
       "      <th>runtimeMinutes</th>\n",
       "      <th>audienceScore</th>\n",
       "    </tr>\n",
       "  </thead>\n",
       "  <tbody>\n",
       "    <tr>\n",
       "      <th>runtimeMinutes</th>\n",
       "      <td>1.000000</td>\n",
       "      <td>0.182472</td>\n",
       "    </tr>\n",
       "    <tr>\n",
       "      <th>audienceScore</th>\n",
       "      <td>0.182472</td>\n",
       "      <td>1.000000</td>\n",
       "    </tr>\n",
       "  </tbody>\n",
       "</table>\n",
       "</div>"
      ],
      "text/plain": [
       "                runtimeMinutes  audienceScore\n",
       "runtimeMinutes        1.000000       0.182472\n",
       "audienceScore         0.182472       1.000000"
      ]
     },
     "execution_count": 46,
     "metadata": {},
     "output_type": "execute_result"
    }
   ],
   "source": [
    "train[['runtimeMinutes', 'audienceScore']].corr()"
   ]
  },
  {
   "cell_type": "markdown",
   "id": "c204d64c",
   "metadata": {
    "papermill": {
     "duration": 0.028331,
     "end_time": "2023-08-13T18:03:16.765503",
     "exception": false,
     "start_time": "2023-08-13T18:03:16.737172",
     "status": "completed"
    },
    "tags": []
   },
   "source": [
    "We can see a positive correlation between `audienceScore` and `runtimeMinutes`"
   ]
  },
  {
   "cell_type": "code",
   "execution_count": 47,
   "id": "9a3efc47",
   "metadata": {
    "execution": {
     "iopub.execute_input": "2023-08-13T18:03:16.824843Z",
     "iopub.status.busy": "2023-08-13T18:03:16.824437Z",
     "iopub.status.idle": "2023-08-13T18:03:17.075604Z",
     "shell.execute_reply": "2023-08-13T18:03:17.074608Z"
    },
    "papermill": {
     "duration": 0.284508,
     "end_time": "2023-08-13T18:03:17.078200",
     "exception": false,
     "start_time": "2023-08-13T18:03:16.793692",
     "status": "completed"
    },
    "tags": []
   },
   "outputs": [
    {
     "data": {
      "text/plain": [
       "<Axes: >"
      ]
     },
     "execution_count": 47,
     "metadata": {},
     "output_type": "execute_result"
    },
    {
     "data": {
      "image/png": "[encoded data removed]",
      "text/plain": [
       "<Figure size 1000x600 with 2 Axes>"
      ]
     },
     "metadata": {},
     "output_type": "display_data"
    }
   ],
   "source": [
    "plt.figure(figsize=(10,6))\n",
    "sns.heatmap(train[['runtimeMinutes', 'audienceScore']].corr(), annot=True)"
   ]
  },
  {
   "cell_type": "markdown",
   "id": "c8e06496",
   "metadata": {
    "papermill": {
     "duration": 0.029461,
     "end_time": "2023-08-13T18:03:17.137316",
     "exception": false,
     "start_time": "2023-08-13T18:03:17.107855",
     "status": "completed"
    },
    "tags": []
   },
   "source": [
    "## Genre By Frequency"
   ]
  },
  {
   "cell_type": "code",
   "execution_count": 48,
   "id": "9d99ae25",
   "metadata": {
    "execution": {
     "iopub.execute_input": "2023-08-13T18:03:17.198169Z",
     "iopub.status.busy": "2023-08-13T18:03:17.197191Z",
     "iopub.status.idle": "2023-08-13T18:03:20.783873Z",
     "shell.execute_reply": "2023-08-13T18:03:20.782867Z"
    },
    "papermill": {
     "duration": 3.619719,
     "end_time": "2023-08-13T18:03:20.786352",
     "exception": false,
     "start_time": "2023-08-13T18:03:17.166633",
     "status": "completed"
    },
    "tags": []
   },
   "outputs": [
    {
     "name": "stdout",
     "output_type": "stream",
     "text": [
      "getting freq count of genres...\n",
      "getting top 20 genres..\n",
      "plotting graph..\n"
     ]
    },
    {
     "data": {
      "image/png": "[encoded data removed]",
      "text/plain": [
       "<Figure size 1000x600 with 1 Axes>"
      ]
     },
     "metadata": {},
     "output_type": "display_data"
    }
   ],
   "source": [
    "print(\"getting freq count of genres...\")\n",
    "time.sleep(2)\n",
    "genreFrequency = {}\n",
    "for genreList in train['genre']:\n",
    "    for genre in genreList:\n",
    "        if genre in genreFrequency.keys():\n",
    "            genreFrequency[genre] += 1\n",
    "        else:\n",
    "            genreFrequency[genre] = 1\n",
    "\n",
    "print('getting top 20 genres..')\n",
    "time.sleep(1)\n",
    "sorted_genres = sorted(genreFrequency.items(), key = lambda x:x[1], reverse=True)\n",
    "genres, counts = [], []\n",
    "for genre, count in sorted_genres:\n",
    "    genres.append(genre)\n",
    "    counts.append(count)\n",
    "\n",
    "print('plotting graph..')\n",
    "plt.figure(figsize=(10,6))\n",
    "plt.bar(genres, counts, color='salmon')\n",
    "plt.title('Genre Count')\n",
    "plt.xlabel('Genres')\n",
    "plt.ylabel('Count')\n",
    "plt.xticks(rotation=90)\n",
    "plt.show()"
   ]
  },
  {
   "cell_type": "code",
   "execution_count": 49,
   "id": "c276173f",
   "metadata": {
    "execution": {
     "iopub.execute_input": "2023-08-13T18:03:20.846736Z",
     "iopub.status.busy": "2023-08-13T18:03:20.846344Z",
     "iopub.status.idle": "2023-08-13T18:03:20.875423Z",
     "shell.execute_reply": "2023-08-13T18:03:20.874730Z"
    },
    "papermill": {
     "duration": 0.062056,
     "end_time": "2023-08-13T18:03:20.877746",
     "exception": false,
     "start_time": "2023-08-13T18:03:20.815690",
     "status": "completed"
    },
    "tags": []
   },
   "outputs": [],
   "source": [
    "train['reviewText'].fillna(\"sample review\", inplace=True)\n",
    "test['reviewText'].fillna(\"sample review\", inplace=True)"
   ]
  },
  {
   "cell_type": "code",
   "execution_count": 50,
   "id": "8edd3e9e",
   "metadata": {
    "execution": {
     "iopub.execute_input": "2023-08-13T18:03:20.937845Z",
     "iopub.status.busy": "2023-08-13T18:03:20.937457Z",
     "iopub.status.idle": "2023-08-13T18:03:20.944829Z",
     "shell.execute_reply": "2023-08-13T18:03:20.943841Z"
    },
    "papermill": {
     "duration": 0.039787,
     "end_time": "2023-08-13T18:03:20.946863",
     "exception": false,
     "start_time": "2023-08-13T18:03:20.907076",
     "status": "completed"
    },
    "tags": []
   },
   "outputs": [
    {
     "data": {
      "text/plain": [
       "Index(['movieid', 'reviewerName', 'isTopCritic', 'reviewText', 'sentiment',\n",
       "       'title', 'audienceScore', 'runtimeMinutes', 'genre',\n",
       "       'parentalGuidance'],\n",
       "      dtype='object')"
      ]
     },
     "execution_count": 50,
     "metadata": {},
     "output_type": "execute_result"
    }
   ],
   "source": [
    "train.columns"
   ]
  },
  {
   "cell_type": "markdown",
   "id": "b2e58723",
   "metadata": {
    "papermill": {
     "duration": 0.029981,
     "end_time": "2023-08-13T18:03:21.006748",
     "exception": false,
     "start_time": "2023-08-13T18:03:20.976767",
     "status": "completed"
    },
    "tags": []
   },
   "source": [
    "### Splitting the data into features and label\n",
    "  - `X` represents features \n",
    "  \n",
    "  -  `y` represents label i.e., `sentiment` of the review"
   ]
  },
  {
   "cell_type": "code",
   "execution_count": 51,
   "id": "a8d35b8a",
   "metadata": {
    "execution": {
     "iopub.execute_input": "2023-08-13T18:03:21.067260Z",
     "iopub.status.busy": "2023-08-13T18:03:21.066866Z",
     "iopub.status.idle": "2023-08-13T18:03:21.086901Z",
     "shell.execute_reply": "2023-08-13T18:03:21.085568Z"
    },
    "papermill": {
     "duration": 0.053276,
     "end_time": "2023-08-13T18:03:21.089604",
     "exception": false,
     "start_time": "2023-08-13T18:03:21.036328",
     "status": "completed"
    },
    "tags": []
   },
   "outputs": [],
   "source": [
    "X = train.drop('sentiment',axis=1)\n",
    "y = train['sentiment']"
   ]
  },
  {
   "cell_type": "code",
   "execution_count": 52,
   "id": "dae3e4fa",
   "metadata": {
    "execution": {
     "iopub.execute_input": "2023-08-13T18:03:21.152354Z",
     "iopub.status.busy": "2023-08-13T18:03:21.151989Z",
     "iopub.status.idle": "2023-08-13T18:03:21.166347Z",
     "shell.execute_reply": "2023-08-13T18:03:21.165130Z"
    },
    "papermill": {
     "duration": 0.048764,
     "end_time": "2023-08-13T18:03:21.168922",
     "exception": false,
     "start_time": "2023-08-13T18:03:21.120158",
     "status": "completed"
    },
    "tags": []
   },
   "outputs": [
    {
     "data": {
      "text/html": [
       "<div>\n",
       "<style scoped>\n",
       "    .dataframe tbody tr th:only-of-type {\n",
       "        vertical-align: middle;\n",
       "    }\n",
       "\n",
       "    .dataframe tbody tr th {\n",
       "        vertical-align: top;\n",
       "    }\n",
       "\n",
       "    .dataframe thead th {\n",
       "        text-align: right;\n",
       "    }\n",
       "</style>\n",
       "<table border=\"1\" class=\"dataframe\">\n",
       "  <thead>\n",
       "    <tr style=\"text-align: right;\">\n",
       "      <th></th>\n",
       "      <th>movieid</th>\n",
       "      <th>reviewerName</th>\n",
       "      <th>isTopCritic</th>\n",
       "      <th>reviewText</th>\n",
       "      <th>title</th>\n",
       "      <th>audienceScore</th>\n",
       "      <th>runtimeMinutes</th>\n",
       "      <th>genre</th>\n",
       "      <th>parentalGuidance</th>\n",
       "    </tr>\n",
       "  </thead>\n",
       "  <tbody>\n",
       "    <tr>\n",
       "      <th>0</th>\n",
       "      <td>marvelous_pirate</td>\n",
       "      <td>Benjamin Henry</td>\n",
       "      <td>False</td>\n",
       "      <td>Henry Selick’s first movie since 2009’s Corali...</td>\n",
       "      <td>Marvelous Pirate</td>\n",
       "      <td>65.0</td>\n",
       "      <td>105.0</td>\n",
       "      <td>[adventure, fantasy, comedy, animation]</td>\n",
       "      <td>True</td>\n",
       "    </tr>\n",
       "    <tr>\n",
       "      <th>1</th>\n",
       "      <td>tony_montana_frodo_baggins_v_rocky_balboa</td>\n",
       "      <td>Felicia Lopez</td>\n",
       "      <td>False</td>\n",
       "      <td>With a cast that reads like the Vogue Oscar pa...</td>\n",
       "      <td>Tony Montana Frodo Baggins V Rocky Balboa</td>\n",
       "      <td>47.0</td>\n",
       "      <td>119.0</td>\n",
       "      <td>[holiday, lgbtq+, comedy, action, romance]</td>\n",
       "      <td>True</td>\n",
       "    </tr>\n",
       "  </tbody>\n",
       "</table>\n",
       "</div>"
      ],
      "text/plain": [
       "                                     movieid    reviewerName  isTopCritic  \\\n",
       "0                           marvelous_pirate  Benjamin Henry        False   \n",
       "1  tony_montana_frodo_baggins_v_rocky_balboa   Felicia Lopez        False   \n",
       "\n",
       "                                          reviewText  \\\n",
       "0  Henry Selick’s first movie since 2009’s Corali...   \n",
       "1  With a cast that reads like the Vogue Oscar pa...   \n",
       "\n",
       "                                       title  audienceScore  runtimeMinutes  \\\n",
       "0                           Marvelous Pirate           65.0           105.0   \n",
       "1  Tony Montana Frodo Baggins V Rocky Balboa           47.0           119.0   \n",
       "\n",
       "                                        genre  parentalGuidance  \n",
       "0     [adventure, fantasy, comedy, animation]              True  \n",
       "1  [holiday, lgbtq+, comedy, action, romance]              True  "
      ]
     },
     "execution_count": 52,
     "metadata": {},
     "output_type": "execute_result"
    }
   ],
   "source": [
    "X.head(2)"
   ]
  },
  {
   "cell_type": "code",
   "execution_count": 53,
   "id": "d87e8403",
   "metadata": {
    "execution": {
     "iopub.execute_input": "2023-08-13T18:03:21.232432Z",
     "iopub.status.busy": "2023-08-13T18:03:21.232065Z",
     "iopub.status.idle": "2023-08-13T18:03:21.240263Z",
     "shell.execute_reply": "2023-08-13T18:03:21.239236Z"
    },
    "papermill": {
     "duration": 0.042203,
     "end_time": "2023-08-13T18:03:21.242350",
     "exception": false,
     "start_time": "2023-08-13T18:03:21.200147",
     "status": "completed"
    },
    "tags": []
   },
   "outputs": [
    {
     "data": {
      "text/plain": [
       "0    POSITIVE\n",
       "1    NEGATIVE\n",
       "2    POSITIVE\n",
       "3    POSITIVE\n",
       "4    POSITIVE\n",
       "Name: sentiment, dtype: object"
      ]
     },
     "execution_count": 53,
     "metadata": {},
     "output_type": "execute_result"
    }
   ],
   "source": [
    "y[:5]"
   ]
  },
  {
   "cell_type": "markdown",
   "id": "701cc8b4",
   "metadata": {
    "papermill": {
     "duration": 0.030303,
     "end_time": "2023-08-13T18:03:21.302772",
     "exception": false,
     "start_time": "2023-08-13T18:03:21.272469",
     "status": "completed"
    },
    "tags": []
   },
   "source": [
    "### Label Encoding `y`"
   ]
  },
  {
   "cell_type": "code",
   "execution_count": 54,
   "id": "9054c331",
   "metadata": {
    "execution": {
     "iopub.execute_input": "2023-08-13T18:03:21.367817Z",
     "iopub.status.busy": "2023-08-13T18:03:21.367436Z",
     "iopub.status.idle": "2023-08-13T18:03:21.402457Z",
     "shell.execute_reply": "2023-08-13T18:03:21.401748Z"
    },
    "papermill": {
     "duration": 0.070063,
     "end_time": "2023-08-13T18:03:21.404896",
     "exception": false,
     "start_time": "2023-08-13T18:03:21.334833",
     "status": "completed"
    },
    "tags": []
   },
   "outputs": [],
   "source": [
    "y = LabelEncoder().fit_transform(y)"
   ]
  },
  {
   "cell_type": "code",
   "execution_count": 55,
   "id": "21519b03",
   "metadata": {
    "execution": {
     "iopub.execute_input": "2023-08-13T18:03:21.468272Z",
     "iopub.status.busy": "2023-08-13T18:03:21.467588Z",
     "iopub.status.idle": "2023-08-13T18:03:21.474046Z",
     "shell.execute_reply": "2023-08-13T18:03:21.473030Z"
    },
    "papermill": {
     "duration": 0.041121,
     "end_time": "2023-08-13T18:03:21.476467",
     "exception": false,
     "start_time": "2023-08-13T18:03:21.435346",
     "status": "completed"
    },
    "tags": []
   },
   "outputs": [
    {
     "data": {
      "text/plain": [
       "array([1, 0, 1, ..., 1, 0, 1])"
      ]
     },
     "execution_count": 55,
     "metadata": {},
     "output_type": "execute_result"
    }
   ],
   "source": [
    "y"
   ]
  },
  {
   "cell_type": "markdown",
   "id": "8c3544b4",
   "metadata": {
    "papermill": {
     "duration": 0.030326,
     "end_time": "2023-08-13T18:03:21.538391",
     "exception": false,
     "start_time": "2023-08-13T18:03:21.508065",
     "status": "completed"
    },
    "tags": []
   },
   "source": [
    "## Creating a Custom Wrapper Class \n",
    "  To handle `TypeError: fit_transform() takes 2 positional arguments but 3 were given` while using LabelBinarizer in Pipeline."
   ]
  },
  {
   "cell_type": "code",
   "execution_count": 56,
   "id": "859fcf22",
   "metadata": {
    "execution": {
     "iopub.execute_input": "2023-08-13T18:03:21.603405Z",
     "iopub.status.busy": "2023-08-13T18:03:21.602677Z",
     "iopub.status.idle": "2023-08-13T18:03:21.613833Z",
     "shell.execute_reply": "2023-08-13T18:03:21.612597Z"
    },
    "papermill": {
     "duration": 0.04612,
     "end_time": "2023-08-13T18:03:21.616894",
     "exception": false,
     "start_time": "2023-08-13T18:03:21.570774",
     "status": "completed"
    },
    "tags": []
   },
   "outputs": [],
   "source": [
    "from sklearn.base import BaseEstimator, TransformerMixin\n",
    "from sklearn.preprocessing import MultiLabelBinarizer\n",
    "\n",
    "class MultiHotEncoder(BaseEstimator, TransformerMixin):\n",
    "    \"\"\"Wraps `MultiLabelBinarizer` in a form that can work with `ColumnTransformer`. It makes it accept multiple inputs.\n",
    "\n",
    "    Note that the input `X` has to be a `pandas.DataFrame`.\n",
    "    \"\"\"\n",
    "\n",
    "    def __init__(self, ) -> None:\n",
    "        self.binarizer_creator = MultiLabelBinarizer\n",
    "        self.dtype = None\n",
    "\n",
    "        self.binarizers = []\n",
    "        self.categories_ = self.classes_ = []\n",
    "        self.columns = []\n",
    "\n",
    "    def fit(self, X: pd.DataFrame, y=None):  # noqa\n",
    "        self.columns = X.columns.to_list()\n",
    "\n",
    "        for column_name in X:\n",
    "            binarizer = self.binarizer_creator().fit(X[column_name])\n",
    "            self.binarizers.append(binarizer)\n",
    "            self.classes_.append(binarizer.classes_)  # noqa\n",
    "\n",
    "        return self\n",
    "\n",
    "    def transform(self, X: pd.DataFrame) -> np.ndarray:\n",
    "        if len(self.classes_) != X.shape[1]:\n",
    "            raise ValueError(f\"The fit transformer deals with {len(self.classes_)} columns \"\n",
    "                             f\"while the input has {X.shape[1]}.\")\n",
    "\n",
    "        # print(self.classes_)\n",
    "        return np.concatenate([binarizer.transform(X[c]).astype(self.dtype)\n",
    "                               for c, binarizer in zip(X, self.binarizers)], axis=1)"
   ]
  },
  {
   "cell_type": "markdown",
   "id": "6a773a00",
   "metadata": {
    "papermill": {
     "duration": 0.031488,
     "end_time": "2023-08-13T18:03:21.680943",
     "exception": false,
     "start_time": "2023-08-13T18:03:21.649455",
     "status": "completed"
    },
    "tags": []
   },
   "source": [
    "### Data Preprocessing\n",
    " - `TfidfVectorizer` - Converting text columns to numerical values\n",
    " \n",
    " - `OneHotEncoder` - Converting `True` and `False` to `0` and `1` Respectively\n",
    " \n",
    " - `MinMaxScaler` - Scaling Numerical Values"
   ]
  },
  {
   "cell_type": "code",
   "execution_count": 57,
   "id": "a45886b6",
   "metadata": {
    "execution": {
     "iopub.execute_input": "2023-08-13T18:03:21.743740Z",
     "iopub.status.busy": "2023-08-13T18:03:21.743350Z",
     "iopub.status.idle": "2023-08-13T18:03:21.748998Z",
     "shell.execute_reply": "2023-08-13T18:03:21.747503Z"
    },
    "papermill": {
     "duration": 0.039689,
     "end_time": "2023-08-13T18:03:21.750855",
     "exception": false,
     "start_time": "2023-08-13T18:03:21.711166",
     "status": "completed"
    },
    "tags": []
   },
   "outputs": [],
   "source": [
    "vectorizer = TfidfVectorizer(\n",
    "    stop_words=['english'],\n",
    "    lowercase=False,\n",
    "    min_df=5,\n",
    "    )\n",
    "encoder = OneHotEncoder()\n",
    "scaler = MinMaxScaler()"
   ]
  },
  {
   "cell_type": "code",
   "execution_count": 58,
   "id": "3e3c1555",
   "metadata": {
    "execution": {
     "iopub.execute_input": "2023-08-13T18:03:21.814703Z",
     "iopub.status.busy": "2023-08-13T18:03:21.814308Z",
     "iopub.status.idle": "2023-08-13T18:03:21.820972Z",
     "shell.execute_reply": "2023-08-13T18:03:21.819496Z"
    },
    "papermill": {
     "duration": 0.042268,
     "end_time": "2023-08-13T18:03:21.823237",
     "exception": false,
     "start_time": "2023-08-13T18:03:21.780969",
     "status": "completed"
    },
    "tags": []
   },
   "outputs": [
    {
     "data": {
      "text/plain": [
       "Index(['movieid', 'reviewerName', 'isTopCritic', 'reviewText', 'title',\n",
       "       'audienceScore', 'runtimeMinutes', 'genre', 'parentalGuidance'],\n",
       "      dtype='object')"
      ]
     },
     "execution_count": 58,
     "metadata": {},
     "output_type": "execute_result"
    }
   ],
   "source": [
    "X.columns"
   ]
  },
  {
   "cell_type": "markdown",
   "id": "e7a3083d",
   "metadata": {
    "papermill": {
     "duration": 0.02962,
     "end_time": "2023-08-13T18:03:21.883497",
     "exception": false,
     "start_time": "2023-08-13T18:03:21.853877",
     "status": "completed"
    },
    "tags": []
   },
   "source": [
    "### Creating pipelines for `runtime` and `audience` columns\n",
    "  - `runtimeMinutes` - Filling the missing values with a constant value of `100` minutes\n",
    "  \n",
    "  - `audienceScore` - Filling the missing values with `mean`\n",
    "   \n",
    "  - And, Scaling the values using `MinMaxScaler()`\n",
    "    "
   ]
  },
  {
   "cell_type": "code",
   "execution_count": 59,
   "id": "6657ab36",
   "metadata": {
    "execution": {
     "iopub.execute_input": "2023-08-13T18:03:22.004971Z",
     "iopub.status.busy": "2023-08-13T18:03:22.004283Z",
     "iopub.status.idle": "2023-08-13T18:03:27.017934Z",
     "shell.execute_reply": "2023-08-13T18:03:27.016437Z"
    },
    "papermill": {
     "duration": 5.048116,
     "end_time": "2023-08-13T18:03:27.020424",
     "exception": false,
     "start_time": "2023-08-13T18:03:21.972308",
     "status": "completed"
    },
    "tags": []
   },
   "outputs": [
    {
     "name": "stdout",
     "output_type": "stream",
     "text": [
      "creating pipeline for 'runtimeMinutes'...\n",
      "pipeline created for 'runtimeMinutes'\n",
      "creating pipeline for 'audienceScore'...\n",
      "pipeline created for 'audienceScore'\n"
     ]
    }
   ],
   "source": [
    "print(\"creating pipeline for 'runtimeMinutes'...\")\n",
    "time.sleep(2)\n",
    "\n",
    "runtime = Pipeline([\n",
    "    ('impute', SimpleImputer(strategy='constant', fill_value=100.0)),  # 'runtimeMinutes' pipeline\n",
    "    ('scale', MinMaxScaler())\n",
    "])\n",
    "\n",
    "print(\"pipeline created for 'runtimeMinutes'\")\n",
    "time.sleep(1)\n",
    "print(\"creating pipeline for 'audienceScore'...\")\n",
    "time.sleep(2)\n",
    "\n",
    "audience = Pipeline([\n",
    "    ('impute', SimpleImputer(strategy='mean')),      # 'audienceScore' pipeline\n",
    "    ('scale', MinMaxScaler())\n",
    "])\n",
    "\n",
    "print(\"pipeline created for 'audienceScore'\")"
   ]
  },
  {
   "cell_type": "markdown",
   "id": "9df57b19",
   "metadata": {
    "papermill": {
     "duration": 0.031299,
     "end_time": "2023-08-13T18:03:27.083379",
     "exception": false,
     "start_time": "2023-08-13T18:03:27.052080",
     "status": "completed"
    },
    "tags": []
   },
   "source": [
    "### Preprocessor"
   ]
  },
  {
   "cell_type": "code",
   "execution_count": 60,
   "id": "1237b9ff",
   "metadata": {
    "execution": {
     "iopub.execute_input": "2023-08-13T18:03:27.146252Z",
     "iopub.status.busy": "2023-08-13T18:03:27.145891Z",
     "iopub.status.idle": "2023-08-13T18:03:39.169100Z",
     "shell.execute_reply": "2023-08-13T18:03:39.167610Z"
    },
    "papermill": {
     "duration": 12.058176,
     "end_time": "2023-08-13T18:03:39.171897",
     "exception": false,
     "start_time": "2023-08-13T18:03:27.113721",
     "status": "completed"
    },
    "tags": []
   },
   "outputs": [
    {
     "name": "stdout",
     "output_type": "stream",
     "text": [
      "preprocessing in progress...\n",
      "vectorizing movieid...\n",
      "vectorizing reviewText...\n",
      "vectorizing title...\n",
      "vectorizing reviewerName...\n",
      "encoding isTopCritic...\n",
      "encoding parentalGuidance\n",
      "encoding genres\n",
      "scaling runtimeMinutes and audienceScore\n",
      "preprocessing completed\n"
     ]
    }
   ],
   "source": [
    "print('preprocessing in progress...')\n",
    "time.sleep(3)\n",
    "print('vectorizing movieid...')\n",
    "time.sleep(1)\n",
    "print('vectorizing reviewText...')\n",
    "time.sleep(1)\n",
    "print('vectorizing title...')\n",
    "time.sleep(1)\n",
    "print('vectorizing reviewerName...')\n",
    "time.sleep(2)\n",
    "print('encoding isTopCritic...')\n",
    "time.sleep(1)\n",
    "print('encoding parentalGuidance')\n",
    "time.sleep(1)\n",
    "print('encoding genres')\n",
    "time.sleep(2)\n",
    "print('scaling runtimeMinutes and audienceScore')\n",
    "\n",
    "\n",
    "preprocessor = ColumnTransformer(transformers=[\n",
    "    ('tfidf1', vectorizer, 'movieid'),\n",
    "    ('tfidf2', vectorizer, 'reviewText'),\n",
    "    ('tfidf3', vectorizer, 'title'),\n",
    "    ('tfidf4', vectorizer, 'reviewerName'),\n",
    "    ('ohe1', encoder, ['isTopCritic']),\n",
    "    ('ohe2', encoder, ['parentalGuidance']),\n",
    "    ('multi_label', MultiHotEncoder(), ['genre']),\n",
    "    ('runtime', runtime, ['runtimeMinutes']),\n",
    "    ('audience', audience, ['audienceScore'])\n",
    "], remainder='passthrough')\n",
    "\n",
    "print('preprocessing completed')"
   ]
  },
  {
   "cell_type": "markdown",
   "id": "5c7fcc18",
   "metadata": {
    "papermill": {
     "duration": 0.031764,
     "end_time": "2023-08-13T18:03:39.234993",
     "exception": false,
     "start_time": "2023-08-13T18:03:39.203229",
     "status": "completed"
    },
    "tags": []
   },
   "source": [
    "# Training Models"
   ]
  },
  {
   "cell_type": "markdown",
   "id": "2859a640",
   "metadata": {
    "papermill": {
     "duration": 0.030519,
     "end_time": "2023-08-13T18:03:39.296290",
     "exception": false,
     "start_time": "2023-08-13T18:03:39.265771",
     "status": "completed"
    },
    "tags": []
   },
   "source": [
    "## Mutlinomial NB"
   ]
  },
  {
   "cell_type": "code",
   "execution_count": 61,
   "id": "adf2fd94",
   "metadata": {
    "execution": {
     "iopub.execute_input": "2023-08-13T18:03:39.361423Z",
     "iopub.status.busy": "2023-08-13T18:03:39.361030Z",
     "iopub.status.idle": "2023-08-13T18:05:32.368763Z",
     "shell.execute_reply": "2023-08-13T18:05:32.367302Z"
    },
    "papermill": {
     "duration": 113.043007,
     "end_time": "2023-08-13T18:05:32.371400",
     "exception": false,
     "start_time": "2023-08-13T18:03:39.328393",
     "status": "completed"
    },
    "tags": []
   },
   "outputs": [
    {
     "name": "stdout",
     "output_type": "stream",
     "text": [
      "Fitting 5 folds for each of 3 candidates, totalling 15 fits\n",
      "[CV 1/5] END .............classifier__alpha=0.1;, score=0.848 total time=   6.7s\n"
     ]
    },
    {
     "name": "stderr",
     "output_type": "stream",
     "text": [
      "/opt/conda/lib/python3.10/site-packages/sklearn/preprocessing/_label.py:895: UserWarning: unknown class(es) ['news'] will be ignored\n",
      "  warnings.warn(\n"
     ]
    },
    {
     "name": "stdout",
     "output_type": "stream",
     "text": [
      "[CV 2/5] END .............classifier__alpha=0.1;, score=0.850 total time=   6.8s\n",
      "[CV 3/5] END .............classifier__alpha=0.1;, score=0.851 total time=   6.9s\n",
      "[CV 4/5] END .............classifier__alpha=0.1;, score=0.848 total time=   6.8s\n"
     ]
    },
    {
     "name": "stderr",
     "output_type": "stream",
     "text": [
      "/opt/conda/lib/python3.10/site-packages/sklearn/preprocessing/_label.py:895: UserWarning: unknown class(es) ['variety'] will be ignored\n",
      "  warnings.warn(\n"
     ]
    },
    {
     "name": "stdout",
     "output_type": "stream",
     "text": [
      "[CV 5/5] END .............classifier__alpha=0.1;, score=0.848 total time=   7.0s\n",
      "[CV 1/5] END .............classifier__alpha=0.5;, score=0.849 total time=   6.9s\n"
     ]
    },
    {
     "name": "stderr",
     "output_type": "stream",
     "text": [
      "/opt/conda/lib/python3.10/site-packages/sklearn/preprocessing/_label.py:895: UserWarning: unknown class(es) ['news'] will be ignored\n",
      "  warnings.warn(\n"
     ]
    },
    {
     "name": "stdout",
     "output_type": "stream",
     "text": [
      "[CV 2/5] END .............classifier__alpha=0.5;, score=0.851 total time=   6.8s\n",
      "[CV 3/5] END .............classifier__alpha=0.5;, score=0.852 total time=   6.8s\n",
      "[CV 4/5] END .............classifier__alpha=0.5;, score=0.848 total time=   6.9s\n"
     ]
    },
    {
     "name": "stderr",
     "output_type": "stream",
     "text": [
      "/opt/conda/lib/python3.10/site-packages/sklearn/preprocessing/_label.py:895: UserWarning: unknown class(es) ['variety'] will be ignored\n",
      "  warnings.warn(\n"
     ]
    },
    {
     "name": "stdout",
     "output_type": "stream",
     "text": [
      "[CV 5/5] END .............classifier__alpha=0.5;, score=0.850 total time=   6.7s\n",
      "[CV 1/5] END .............classifier__alpha=1.0;, score=0.852 total time=   7.0s\n"
     ]
    },
    {
     "name": "stderr",
     "output_type": "stream",
     "text": [
      "/opt/conda/lib/python3.10/site-packages/sklearn/preprocessing/_label.py:895: UserWarning: unknown class(es) ['news'] will be ignored\n",
      "  warnings.warn(\n"
     ]
    },
    {
     "name": "stdout",
     "output_type": "stream",
     "text": [
      "[CV 2/5] END .............classifier__alpha=1.0;, score=0.853 total time=   6.9s\n",
      "[CV 3/5] END .............classifier__alpha=1.0;, score=0.853 total time=   7.0s\n",
      "[CV 4/5] END .............classifier__alpha=1.0;, score=0.850 total time=   7.6s\n"
     ]
    },
    {
     "name": "stderr",
     "output_type": "stream",
     "text": [
      "/opt/conda/lib/python3.10/site-packages/sklearn/preprocessing/_label.py:895: UserWarning: unknown class(es) ['variety'] will be ignored\n",
      "  warnings.warn(\n"
     ]
    },
    {
     "name": "stdout",
     "output_type": "stream",
     "text": [
      "[CV 5/5] END .............classifier__alpha=1.0;, score=0.851 total time=   7.9s\n"
     ]
    },
    {
     "data": {
      "text/html": [
       "<style>#sk-container-id-1 {color: black;background-color: white;}#sk-container-id-1 pre{padding: 0;}#sk-container-id-1 div.sk-toggleable {background-color: white;}#sk-container-id-1 label.sk-toggleable__label {cursor: pointer;display: block;width: 100%;margin-bottom: 0;padding: 0.3em;box-sizing: border-box;text-align: center;}#sk-container-id-1 label.sk-toggleable__label-arrow:before {content: \"▸\";float: left;margin-right: 0.25em;color: #696969;}#sk-container-id-1 label.sk-toggleable__label-arrow:hover:before {color: black;}#sk-container-id-1 div.sk-estimator:hover label.sk-toggleable__label-arrow:before {color: black;}#sk-container-id-1 div.sk-toggleable__content {max-height: 0;max-width: 0;overflow: hidden;text-align: left;background-color: #f0f8ff;}#sk-container-id-1 div.sk-toggleable__content pre {margin: 0.2em;color: black;border-radius: 0.25em;background-color: #f0f8ff;}#sk-container-id-1 input.sk-toggleable__control:checked~div.sk-toggleable__content {max-height: 200px;max-width: 100%;overflow: auto;}#sk-container-id-1 input.sk-toggleable__control:checked~label.sk-toggleable__label-arrow:before {content: \"▾\";}#sk-container-id-1 div.sk-estimator input.sk-toggleable__control:checked~label.sk-toggleable__label {background-color: #d4ebff;}#sk-container-id-1 div.sk-label input.sk-toggleable__control:checked~label.sk-toggleable__label {background-color: #d4ebff;}#sk-container-id-1 input.sk-hidden--visually {border: 0;clip: rect(1px 1px 1px 1px);clip: rect(1px, 1px, 1px, 1px);height: 1px;margin: -1px;overflow: hidden;padding: 0;position: absolute;width: 1px;}#sk-container-id-1 div.sk-estimator {font-family: monospace;background-color: #f0f8ff;border: 1px dotted black;border-radius: 0.25em;box-sizing: border-box;margin-bottom: 0.5em;}#sk-container-id-1 div.sk-estimator:hover {background-color: #d4ebff;}#sk-container-id-1 div.sk-parallel-item::after {content: \"\";width: 100%;border-bottom: 1px solid gray;flex-grow: 1;}#sk-container-id-1 div.sk-label:hover label.sk-toggleable__label {background-color: #d4ebff;}#sk-container-id-1 div.sk-serial::before {content: \"\";position: absolute;border-left: 1px solid gray;box-sizing: border-box;top: 0;bottom: 0;left: 50%;z-index: 0;}#sk-container-id-1 div.sk-serial {display: flex;flex-direction: column;align-items: center;background-color: white;padding-right: 0.2em;padding-left: 0.2em;position: relative;}#sk-container-id-1 div.sk-item {position: relative;z-index: 1;}#sk-container-id-1 div.sk-parallel {display: flex;align-items: stretch;justify-content: center;background-color: white;position: relative;}#sk-container-id-1 div.sk-item::before, #sk-container-id-1 div.sk-parallel-item::before {content: \"\";position: absolute;border-left: 1px solid gray;box-sizing: border-box;top: 0;bottom: 0;left: 50%;z-index: -1;}#sk-container-id-1 div.sk-parallel-item {display: flex;flex-direction: column;z-index: 1;position: relative;background-color: white;}#sk-container-id-1 div.sk-parallel-item:first-child::after {align-self: flex-end;width: 50%;}#sk-container-id-1 div.sk-parallel-item:last-child::after {align-self: flex-start;width: 50%;}#sk-container-id-1 div.sk-parallel-item:only-child::after {width: 0;}#sk-container-id-1 div.sk-dashed-wrapped {border: 1px dashed gray;margin: 0 0.4em 0.5em 0.4em;box-sizing: border-box;padding-bottom: 0.4em;background-color: white;}#sk-container-id-1 div.sk-label label {font-family: monospace;font-weight: bold;display: inline-block;line-height: 1.2em;}#sk-container-id-1 div.sk-label-container {text-align: center;}#sk-container-id-1 div.sk-container {/* jupyter's `normalize.less` sets `[hidden] { display: none; }` but bootstrap.min.css set `[hidden] { display: none !important; }` so we also need the `!important` here to be able to override the default hidden behavior on the sphinx rendered scikit-learn.org. See: https://github.com/scikit-learn/scikit-learn/issues/21755 */display: inline-block !important;position: relative;}#sk-container-id-1 div.sk-text-repr-fallback {display: none;}</style><div id=\"sk-container-id-1\" class=\"sk-top-container\"><div class=\"sk-text-repr-fallback\"><pre>GridSearchCV(estimator=Pipeline(steps=[(&#x27;preprocess&#x27;,\n",
       "                                        ColumnTransformer(remainder=&#x27;passthrough&#x27;,\n",
       "                                                          transformers=[(&#x27;tfidf1&#x27;,\n",
       "                                                                         TfidfVectorizer(lowercase=False,\n",
       "                                                                                         min_df=5,\n",
       "                                                                                         stop_words=[&#x27;english&#x27;]),\n",
       "                                                                         &#x27;movieid&#x27;),\n",
       "                                                                        (&#x27;tfidf2&#x27;,\n",
       "                                                                         TfidfVectorizer(lowercase=False,\n",
       "                                                                                         min_df=5,\n",
       "                                                                                         stop_words=[&#x27;english&#x27;]),\n",
       "                                                                         &#x27;reviewText&#x27;),\n",
       "                                                                        (&#x27;tfidf3&#x27;,\n",
       "                                                                         TfidfVectorizer(lowercase=False,\n",
       "                                                                                         min_df=5,\n",
       "                                                                                         stop_words=[&#x27;en...\n",
       "                                                                         [&#x27;genre&#x27;]),\n",
       "                                                                        (&#x27;runtime&#x27;,\n",
       "                                                                         Pipeline(steps=[(&#x27;impute&#x27;,\n",
       "                                                                                          SimpleImputer(fill_value=100.0,\n",
       "                                                                                                        strategy=&#x27;constant&#x27;)),\n",
       "                                                                                         (&#x27;scale&#x27;,\n",
       "                                                                                          MinMaxScaler())]),\n",
       "                                                                         [&#x27;runtimeMinutes&#x27;]),\n",
       "                                                                        (&#x27;audience&#x27;,\n",
       "                                                                         Pipeline(steps=[(&#x27;impute&#x27;,\n",
       "                                                                                          SimpleImputer()),\n",
       "                                                                                         (&#x27;scale&#x27;,\n",
       "                                                                                          MinMaxScaler())]),\n",
       "                                                                         [&#x27;audienceScore&#x27;])])),\n",
       "                                       (&#x27;classifier&#x27;, MultinomialNB())]),\n",
       "             param_grid={&#x27;classifier__alpha&#x27;: [0.1, 0.5, 1.0]}, scoring=&#x27;f1&#x27;,\n",
       "             verbose=5)</pre><b>In a Jupyter environment, please rerun this cell to show the HTML representation or trust the notebook. <br />On GitHub, the HTML representation is unable to render, please try loading this page with nbviewer.org.</b></div><div class=\"sk-container\" hidden><div class=\"sk-item sk-dashed-wrapped\"><div class=\"sk-label-container\"><div class=\"sk-label sk-toggleable\"><input class=\"sk-toggleable__control sk-hidden--visually\" id=\"sk-estimator-id-1\" type=\"checkbox\" ><label for=\"sk-estimator-id-1\" class=\"sk-toggleable__label sk-toggleable__label-arrow\">GridSearchCV</label><div class=\"sk-toggleable__content\"><pre>GridSearchCV(estimator=Pipeline(steps=[(&#x27;preprocess&#x27;,\n",
       "                                        ColumnTransformer(remainder=&#x27;passthrough&#x27;,\n",
       "                                                          transformers=[(&#x27;tfidf1&#x27;,\n",
       "                                                                         TfidfVectorizer(lowercase=False,\n",
       "                                                                                         min_df=5,\n",
       "                                                                                         stop_words=[&#x27;english&#x27;]),\n",
       "                                                                         &#x27;movieid&#x27;),\n",
       "                                                                        (&#x27;tfidf2&#x27;,\n",
       "                                                                         TfidfVectorizer(lowercase=False,\n",
       "                                                                                         min_df=5,\n",
       "                                                                                         stop_words=[&#x27;english&#x27;]),\n",
       "                                                                         &#x27;reviewText&#x27;),\n",
       "                                                                        (&#x27;tfidf3&#x27;,\n",
       "                                                                         TfidfVectorizer(lowercase=False,\n",
       "                                                                                         min_df=5,\n",
       "                                                                                         stop_words=[&#x27;en...\n",
       "                                                                         [&#x27;genre&#x27;]),\n",
       "                                                                        (&#x27;runtime&#x27;,\n",
       "                                                                         Pipeline(steps=[(&#x27;impute&#x27;,\n",
       "                                                                                          SimpleImputer(fill_value=100.0,\n",
       "                                                                                                        strategy=&#x27;constant&#x27;)),\n",
       "                                                                                         (&#x27;scale&#x27;,\n",
       "                                                                                          MinMaxScaler())]),\n",
       "                                                                         [&#x27;runtimeMinutes&#x27;]),\n",
       "                                                                        (&#x27;audience&#x27;,\n",
       "                                                                         Pipeline(steps=[(&#x27;impute&#x27;,\n",
       "                                                                                          SimpleImputer()),\n",
       "                                                                                         (&#x27;scale&#x27;,\n",
       "                                                                                          MinMaxScaler())]),\n",
       "                                                                         [&#x27;audienceScore&#x27;])])),\n",
       "                                       (&#x27;classifier&#x27;, MultinomialNB())]),\n",
       "             param_grid={&#x27;classifier__alpha&#x27;: [0.1, 0.5, 1.0]}, scoring=&#x27;f1&#x27;,\n",
       "             verbose=5)</pre></div></div></div><div class=\"sk-parallel\"><div class=\"sk-parallel-item\"><div class=\"sk-item\"><div class=\"sk-label-container\"><div class=\"sk-label sk-toggleable\"><input class=\"sk-toggleable__control sk-hidden--visually\" id=\"sk-estimator-id-2\" type=\"checkbox\" ><label for=\"sk-estimator-id-2\" class=\"sk-toggleable__label sk-toggleable__label-arrow\">estimator: Pipeline</label><div class=\"sk-toggleable__content\"><pre>Pipeline(steps=[(&#x27;preprocess&#x27;,\n",
       "                 ColumnTransformer(remainder=&#x27;passthrough&#x27;,\n",
       "                                   transformers=[(&#x27;tfidf1&#x27;,\n",
       "                                                  TfidfVectorizer(lowercase=False,\n",
       "                                                                  min_df=5,\n",
       "                                                                  stop_words=[&#x27;english&#x27;]),\n",
       "                                                  &#x27;movieid&#x27;),\n",
       "                                                 (&#x27;tfidf2&#x27;,\n",
       "                                                  TfidfVectorizer(lowercase=False,\n",
       "                                                                  min_df=5,\n",
       "                                                                  stop_words=[&#x27;english&#x27;]),\n",
       "                                                  &#x27;reviewText&#x27;),\n",
       "                                                 (&#x27;tfidf3&#x27;,\n",
       "                                                  TfidfVectorizer(lowercase=False,\n",
       "                                                                  min_df=5,\n",
       "                                                                  stop_words=[&#x27;english&#x27;]),\n",
       "                                                  &#x27;title&#x27;),\n",
       "                                                 (&#x27;tfi...\n",
       "                                                 (&#x27;ohe2&#x27;, OneHotEncoder(),\n",
       "                                                  [&#x27;parentalGuidance&#x27;]),\n",
       "                                                 (&#x27;multi_label&#x27;,\n",
       "                                                  MultiHotEncoder(),\n",
       "                                                  [&#x27;genre&#x27;]),\n",
       "                                                 (&#x27;runtime&#x27;,\n",
       "                                                  Pipeline(steps=[(&#x27;impute&#x27;,\n",
       "                                                                   SimpleImputer(fill_value=100.0,\n",
       "                                                                                 strategy=&#x27;constant&#x27;)),\n",
       "                                                                  (&#x27;scale&#x27;,\n",
       "                                                                   MinMaxScaler())]),\n",
       "                                                  [&#x27;runtimeMinutes&#x27;]),\n",
       "                                                 (&#x27;audience&#x27;,\n",
       "                                                  Pipeline(steps=[(&#x27;impute&#x27;,\n",
       "                                                                   SimpleImputer()),\n",
       "                                                                  (&#x27;scale&#x27;,\n",
       "                                                                   MinMaxScaler())]),\n",
       "                                                  [&#x27;audienceScore&#x27;])])),\n",
       "                (&#x27;classifier&#x27;, MultinomialNB())])</pre></div></div></div><div class=\"sk-serial\"><div class=\"sk-item\"><div class=\"sk-serial\"><div class=\"sk-item sk-dashed-wrapped\"><div class=\"sk-label-container\"><div class=\"sk-label sk-toggleable\"><input class=\"sk-toggleable__control sk-hidden--visually\" id=\"sk-estimator-id-3\" type=\"checkbox\" ><label for=\"sk-estimator-id-3\" class=\"sk-toggleable__label sk-toggleable__label-arrow\">preprocess: ColumnTransformer</label><div class=\"sk-toggleable__content\"><pre>ColumnTransformer(remainder=&#x27;passthrough&#x27;,\n",
       "                  transformers=[(&#x27;tfidf1&#x27;,\n",
       "                                 TfidfVectorizer(lowercase=False, min_df=5,\n",
       "                                                 stop_words=[&#x27;english&#x27;]),\n",
       "                                 &#x27;movieid&#x27;),\n",
       "                                (&#x27;tfidf2&#x27;,\n",
       "                                 TfidfVectorizer(lowercase=False, min_df=5,\n",
       "                                                 stop_words=[&#x27;english&#x27;]),\n",
       "                                 &#x27;reviewText&#x27;),\n",
       "                                (&#x27;tfidf3&#x27;,\n",
       "                                 TfidfVectorizer(lowercase=False, min_df=5,\n",
       "                                                 stop_words=[&#x27;english&#x27;]),\n",
       "                                 &#x27;title&#x27;),\n",
       "                                (&#x27;tfidf4&#x27;,\n",
       "                                 TfidfVectorizer(lowercase...\n",
       "                                (&#x27;ohe1&#x27;, OneHotEncoder(), [&#x27;isTopCritic&#x27;]),\n",
       "                                (&#x27;ohe2&#x27;, OneHotEncoder(), [&#x27;parentalGuidance&#x27;]),\n",
       "                                (&#x27;multi_label&#x27;, MultiHotEncoder(), [&#x27;genre&#x27;]),\n",
       "                                (&#x27;runtime&#x27;,\n",
       "                                 Pipeline(steps=[(&#x27;impute&#x27;,\n",
       "                                                  SimpleImputer(fill_value=100.0,\n",
       "                                                                strategy=&#x27;constant&#x27;)),\n",
       "                                                 (&#x27;scale&#x27;, MinMaxScaler())]),\n",
       "                                 [&#x27;runtimeMinutes&#x27;]),\n",
       "                                (&#x27;audience&#x27;,\n",
       "                                 Pipeline(steps=[(&#x27;impute&#x27;, SimpleImputer()),\n",
       "                                                 (&#x27;scale&#x27;, MinMaxScaler())]),\n",
       "                                 [&#x27;audienceScore&#x27;])])</pre></div></div></div><div class=\"sk-parallel\"><div class=\"sk-parallel-item\"><div class=\"sk-item\"><div class=\"sk-label-container\"><div class=\"sk-label sk-toggleable\"><input class=\"sk-toggleable__control sk-hidden--visually\" id=\"sk-estimator-id-4\" type=\"checkbox\" ><label for=\"sk-estimator-id-4\" class=\"sk-toggleable__label sk-toggleable__label-arrow\">tfidf1</label><div class=\"sk-toggleable__content\"><pre>movieid</pre></div></div></div><div class=\"sk-serial\"><div class=\"sk-item\"><div class=\"sk-estimator sk-toggleable\"><input class=\"sk-toggleable__control sk-hidden--visually\" id=\"sk-estimator-id-5\" type=\"checkbox\" ><label for=\"sk-estimator-id-5\" class=\"sk-toggleable__label sk-toggleable__label-arrow\">TfidfVectorizer</label><div class=\"sk-toggleable__content\"><pre>TfidfVectorizer(lowercase=False, min_df=5, stop_words=[&#x27;english&#x27;])</pre></div></div></div></div></div></div><div class=\"sk-parallel-item\"><div class=\"sk-item\"><div class=\"sk-label-container\"><div class=\"sk-label sk-toggleable\"><input class=\"sk-toggleable__control sk-hidden--visually\" id=\"sk-estimator-id-6\" type=\"checkbox\" ><label for=\"sk-estimator-id-6\" class=\"sk-toggleable__label sk-toggleable__label-arrow\">tfidf2</label><div class=\"sk-toggleable__content\"><pre>reviewText</pre></div></div></div><div class=\"sk-serial\"><div class=\"sk-item\"><div class=\"sk-estimator sk-toggleable\"><input class=\"sk-toggleable__control sk-hidden--visually\" id=\"sk-estimator-id-7\" type=\"checkbox\" ><label for=\"sk-estimator-id-7\" class=\"sk-toggleable__label sk-toggleable__label-arrow\">TfidfVectorizer</label><div class=\"sk-toggleable__content\"><pre>TfidfVectorizer(lowercase=False, min_df=5, stop_words=[&#x27;english&#x27;])</pre></div></div></div></div></div></div><div class=\"sk-parallel-item\"><div class=\"sk-item\"><div class=\"sk-label-container\"><div class=\"sk-label sk-toggleable\"><input class=\"sk-toggleable__control sk-hidden--visually\" id=\"sk-estimator-id-8\" type=\"checkbox\" ><label for=\"sk-estimator-id-8\" class=\"sk-toggleable__label sk-toggleable__label-arrow\">tfidf3</label><div class=\"sk-toggleable__content\"><pre>title</pre></div></div></div><div class=\"sk-serial\"><div class=\"sk-item\"><div class=\"sk-estimator sk-toggleable\"><input class=\"sk-toggleable__control sk-hidden--visually\" id=\"sk-estimator-id-9\" type=\"checkbox\" ><label for=\"sk-estimator-id-9\" class=\"sk-toggleable__label sk-toggleable__label-arrow\">TfidfVectorizer</label><div class=\"sk-toggleable__content\"><pre>TfidfVectorizer(lowercase=False, min_df=5, stop_words=[&#x27;english&#x27;])</pre></div></div></div></div></div></div><div class=\"sk-parallel-item\"><div class=\"sk-item\"><div class=\"sk-label-container\"><div class=\"sk-label sk-toggleable\"><input class=\"sk-toggleable__control sk-hidden--visually\" id=\"sk-estimator-id-10\" type=\"checkbox\" ><label for=\"sk-estimator-id-10\" class=\"sk-toggleable__label sk-toggleable__label-arrow\">tfidf4</label><div class=\"sk-toggleable__content\"><pre>reviewerName</pre></div></div></div><div class=\"sk-serial\"><div class=\"sk-item\"><div class=\"sk-estimator sk-toggleable\"><input class=\"sk-toggleable__control sk-hidden--visually\" id=\"sk-estimator-id-11\" type=\"checkbox\" ><label for=\"sk-estimator-id-11\" class=\"sk-toggleable__label sk-toggleable__label-arrow\">TfidfVectorizer</label><div class=\"sk-toggleable__content\"><pre>TfidfVectorizer(lowercase=False, min_df=5, stop_words=[&#x27;english&#x27;])</pre></div></div></div></div></div></div><div class=\"sk-parallel-item\"><div class=\"sk-item\"><div class=\"sk-label-container\"><div class=\"sk-label sk-toggleable\"><input class=\"sk-toggleable__control sk-hidden--visually\" id=\"sk-estimator-id-12\" type=\"checkbox\" ><label for=\"sk-estimator-id-12\" class=\"sk-toggleable__label sk-toggleable__label-arrow\">ohe1</label><div class=\"sk-toggleable__content\"><pre>[&#x27;isTopCritic&#x27;]</pre></div></div></div><div class=\"sk-serial\"><div class=\"sk-item\"><div class=\"sk-estimator sk-toggleable\"><input class=\"sk-toggleable__control sk-hidden--visually\" id=\"sk-estimator-id-13\" type=\"checkbox\" ><label for=\"sk-estimator-id-13\" class=\"sk-toggleable__label sk-toggleable__label-arrow\">OneHotEncoder</label><div class=\"sk-toggleable__content\"><pre>OneHotEncoder()</pre></div></div></div></div></div></div><div class=\"sk-parallel-item\"><div class=\"sk-item\"><div class=\"sk-label-container\"><div class=\"sk-label sk-toggleable\"><input class=\"sk-toggleable__control sk-hidden--visually\" id=\"sk-estimator-id-14\" type=\"checkbox\" ><label for=\"sk-estimator-id-14\" class=\"sk-toggleable__label sk-toggleable__label-arrow\">ohe2</label><div class=\"sk-toggleable__content\"><pre>[&#x27;parentalGuidance&#x27;]</pre></div></div></div><div class=\"sk-serial\"><div class=\"sk-item\"><div class=\"sk-estimator sk-toggleable\"><input class=\"sk-toggleable__control sk-hidden--visually\" id=\"sk-estimator-id-15\" type=\"checkbox\" ><label for=\"sk-estimator-id-15\" class=\"sk-toggleable__label sk-toggleable__label-arrow\">OneHotEncoder</label><div class=\"sk-toggleable__content\"><pre>OneHotEncoder()</pre></div></div></div></div></div></div><div class=\"sk-parallel-item\"><div class=\"sk-item\"><div class=\"sk-label-container\"><div class=\"sk-label sk-toggleable\"><input class=\"sk-toggleable__control sk-hidden--visually\" id=\"sk-estimator-id-16\" type=\"checkbox\" ><label for=\"sk-estimator-id-16\" class=\"sk-toggleable__label sk-toggleable__label-arrow\">multi_label</label><div class=\"sk-toggleable__content\"><pre>[&#x27;genre&#x27;]</pre></div></div></div><div class=\"sk-serial\"><div class=\"sk-item\"><div class=\"sk-estimator sk-toggleable\"><input class=\"sk-toggleable__control sk-hidden--visually\" id=\"sk-estimator-id-17\" type=\"checkbox\" ><label for=\"sk-estimator-id-17\" class=\"sk-toggleable__label sk-toggleable__label-arrow\">MultiHotEncoder</label><div class=\"sk-toggleable__content\"><pre>MultiHotEncoder()</pre></div></div></div></div></div></div><div class=\"sk-parallel-item\"><div class=\"sk-item\"><div class=\"sk-label-container\"><div class=\"sk-label sk-toggleable\"><input class=\"sk-toggleable__control sk-hidden--visually\" id=\"sk-estimator-id-18\" type=\"checkbox\" ><label for=\"sk-estimator-id-18\" class=\"sk-toggleable__label sk-toggleable__label-arrow\">runtime</label><div class=\"sk-toggleable__content\"><pre>[&#x27;runtimeMinutes&#x27;]</pre></div></div></div><div class=\"sk-serial\"><div class=\"sk-item\"><div class=\"sk-serial\"><div class=\"sk-item\"><div class=\"sk-estimator sk-toggleable\"><input class=\"sk-toggleable__control sk-hidden--visually\" id=\"sk-estimator-id-19\" type=\"checkbox\" ><label for=\"sk-estimator-id-19\" class=\"sk-toggleable__label sk-toggleable__label-arrow\">SimpleImputer</label><div class=\"sk-toggleable__content\"><pre>SimpleImputer(fill_value=100.0, strategy=&#x27;constant&#x27;)</pre></div></div></div><div class=\"sk-item\"><div class=\"sk-estimator sk-toggleable\"><input class=\"sk-toggleable__control sk-hidden--visually\" id=\"sk-estimator-id-20\" type=\"checkbox\" ><label for=\"sk-estimator-id-20\" class=\"sk-toggleable__label sk-toggleable__label-arrow\">MinMaxScaler</label><div class=\"sk-toggleable__content\"><pre>MinMaxScaler()</pre></div></div></div></div></div></div></div></div><div class=\"sk-parallel-item\"><div class=\"sk-item\"><div class=\"sk-label-container\"><div class=\"sk-label sk-toggleable\"><input class=\"sk-toggleable__control sk-hidden--visually\" id=\"sk-estimator-id-21\" type=\"checkbox\" ><label for=\"sk-estimator-id-21\" class=\"sk-toggleable__label sk-toggleable__label-arrow\">audience</label><div class=\"sk-toggleable__content\"><pre>[&#x27;audienceScore&#x27;]</pre></div></div></div><div class=\"sk-serial\"><div class=\"sk-item\"><div class=\"sk-serial\"><div class=\"sk-item\"><div class=\"sk-estimator sk-toggleable\"><input class=\"sk-toggleable__control sk-hidden--visually\" id=\"sk-estimator-id-22\" type=\"checkbox\" ><label for=\"sk-estimator-id-22\" class=\"sk-toggleable__label sk-toggleable__label-arrow\">SimpleImputer</label><div class=\"sk-toggleable__content\"><pre>SimpleImputer()</pre></div></div></div><div class=\"sk-item\"><div class=\"sk-estimator sk-toggleable\"><input class=\"sk-toggleable__control sk-hidden--visually\" id=\"sk-estimator-id-23\" type=\"checkbox\" ><label for=\"sk-estimator-id-23\" class=\"sk-toggleable__label sk-toggleable__label-arrow\">MinMaxScaler</label><div class=\"sk-toggleable__content\"><pre>MinMaxScaler()</pre></div></div></div></div></div></div></div></div><div class=\"sk-parallel-item\"><div class=\"sk-item\"><div class=\"sk-label-container\"><div class=\"sk-label sk-toggleable\"><input class=\"sk-toggleable__control sk-hidden--visually\" id=\"sk-estimator-id-24\" type=\"checkbox\" ><label for=\"sk-estimator-id-24\" class=\"sk-toggleable__label sk-toggleable__label-arrow\">remainder</label><div class=\"sk-toggleable__content\"><pre></pre></div></div></div><div class=\"sk-serial\"><div class=\"sk-item\"><div class=\"sk-estimator sk-toggleable\"><input class=\"sk-toggleable__control sk-hidden--visually\" id=\"sk-estimator-id-25\" type=\"checkbox\" ><label for=\"sk-estimator-id-25\" class=\"sk-toggleable__label sk-toggleable__label-arrow\">passthrough</label><div class=\"sk-toggleable__content\"><pre>passthrough</pre></div></div></div></div></div></div></div></div><div class=\"sk-item\"><div class=\"sk-estimator sk-toggleable\"><input class=\"sk-toggleable__control sk-hidden--visually\" id=\"sk-estimator-id-26\" type=\"checkbox\" ><label for=\"sk-estimator-id-26\" class=\"sk-toggleable__label sk-toggleable__label-arrow\">MultinomialNB</label><div class=\"sk-toggleable__content\"><pre>MultinomialNB()</pre></div></div></div></div></div></div></div></div></div></div></div></div>"
      ],
      "text/plain": [
       "GridSearchCV(estimator=Pipeline(steps=[('preprocess',\n",
       "                                        ColumnTransformer(remainder='passthrough',\n",
       "                                                          transformers=[('tfidf1',\n",
       "                                                                         TfidfVectorizer(lowercase=False,\n",
       "                                                                                         min_df=5,\n",
       "                                                                                         stop_words=['english']),\n",
       "                                                                         'movieid'),\n",
       "                                                                        ('tfidf2',\n",
       "                                                                         TfidfVectorizer(lowercase=False,\n",
       "                                                                                         min_df=5,\n",
       "                                                                                         stop_words=['english']),\n",
       "                                                                         'reviewText'),\n",
       "                                                                        ('tfidf3',\n",
       "                                                                         TfidfVectorizer(lowercase=False,\n",
       "                                                                                         min_df=5,\n",
       "                                                                                         stop_words=['en...\n",
       "                                                                         ['genre']),\n",
       "                                                                        ('runtime',\n",
       "                                                                         Pipeline(steps=[('impute',\n",
       "                                                                                          SimpleImputer(fill_value=100.0,\n",
       "                                                                                                        strategy='constant')),\n",
       "                                                                                         ('scale',\n",
       "                                                                                          MinMaxScaler())]),\n",
       "                                                                         ['runtimeMinutes']),\n",
       "                                                                        ('audience',\n",
       "                                                                         Pipeline(steps=[('impute',\n",
       "                                                                                          SimpleImputer()),\n",
       "                                                                                         ('scale',\n",
       "                                                                                          MinMaxScaler())]),\n",
       "                                                                         ['audienceScore'])])),\n",
       "                                       ('classifier', MultinomialNB())]),\n",
       "             param_grid={'classifier__alpha': [0.1, 0.5, 1.0]}, scoring='f1',\n",
       "             verbose=5)"
      ]
     },
     "execution_count": 61,
     "metadata": {},
     "output_type": "execute_result"
    }
   ],
   "source": [
    "pipeline1 = Pipeline([\n",
    "    ('preprocess', preprocessor), \n",
    "    ('classifier', MultinomialNB())\n",
    "])\n",
    "\n",
    "params_multinomialNB = {\n",
    "    'classifier__alpha' : [0.1, 0.5, 1.0]\n",
    "}\n",
    "\n",
    "grid_search_NB = GridSearchCV(pipeline1, params_multinomialNB, scoring='f1', verbose=5)\n",
    "grid_search_NB.fit(X,y)"
   ]
  },
  {
   "cell_type": "code",
   "execution_count": 62,
   "id": "2799198e",
   "metadata": {
    "execution": {
     "iopub.execute_input": "2023-08-13T18:05:32.446617Z",
     "iopub.status.busy": "2023-08-13T18:05:32.446205Z",
     "iopub.status.idle": "2023-08-13T18:05:32.452894Z",
     "shell.execute_reply": "2023-08-13T18:05:32.451803Z"
    },
    "papermill": {
     "duration": 0.049624,
     "end_time": "2023-08-13T18:05:32.455577",
     "exception": false,
     "start_time": "2023-08-13T18:05:32.405953",
     "status": "completed"
    },
    "tags": []
   },
   "outputs": [
    {
     "data": {
      "text/plain": [
       "0.8517984040470346"
      ]
     },
     "execution_count": 62,
     "metadata": {},
     "output_type": "execute_result"
    }
   ],
   "source": [
    "grid_search_NB.best_score_"
   ]
  },
  {
   "cell_type": "code",
   "execution_count": 63,
   "id": "e3efa41d",
   "metadata": {
    "execution": {
     "iopub.execute_input": "2023-08-13T18:05:32.532265Z",
     "iopub.status.busy": "2023-08-13T18:05:32.531615Z",
     "iopub.status.idle": "2023-08-13T18:05:32.537237Z",
     "shell.execute_reply": "2023-08-13T18:05:32.536117Z"
    },
    "papermill": {
     "duration": 0.048068,
     "end_time": "2023-08-13T18:05:32.539723",
     "exception": false,
     "start_time": "2023-08-13T18:05:32.491655",
     "status": "completed"
    },
    "tags": []
   },
   "outputs": [
    {
     "data": {
      "text/plain": [
       "{'classifier__alpha': 1.0}"
      ]
     },
     "execution_count": 63,
     "metadata": {},
     "output_type": "execute_result"
    }
   ],
   "source": [
    "grid_search_NB.best_params_"
   ]
  },
  {
   "cell_type": "markdown",
   "id": "156c6419",
   "metadata": {
    "papermill": {
     "duration": 0.03687,
     "end_time": "2023-08-13T18:05:32.614297",
     "exception": false,
     "start_time": "2023-08-13T18:05:32.577427",
     "status": "completed"
    },
    "tags": []
   },
   "source": [
    "## Linear SVC"
   ]
  },
  {
   "cell_type": "code",
   "execution_count": 64,
   "id": "a0907128",
   "metadata": {
    "execution": {
     "iopub.execute_input": "2023-08-13T18:05:32.687572Z",
     "iopub.status.busy": "2023-08-13T18:05:32.686874Z",
     "iopub.status.idle": "2023-08-13T18:09:26.981642Z",
     "shell.execute_reply": "2023-08-13T18:09:26.980070Z"
    },
    "papermill": {
     "duration": 234.333735,
     "end_time": "2023-08-13T18:09:26.984533",
     "exception": false,
     "start_time": "2023-08-13T18:05:32.650798",
     "status": "completed"
    },
    "tags": []
   },
   "outputs": [
    {
     "name": "stdout",
     "output_type": "stream",
     "text": [
      "Fitting 5 folds for each of 2 candidates, totalling 10 fits\n",
      "[CV 1/5] END classifier__C=0.1, classifier__max_iter=1000;, score=0.876 total time=  12.1s\n"
     ]
    },
    {
     "name": "stderr",
     "output_type": "stream",
     "text": [
      "/opt/conda/lib/python3.10/site-packages/sklearn/preprocessing/_label.py:895: UserWarning: unknown class(es) ['news'] will be ignored\n",
      "  warnings.warn(\n"
     ]
    },
    {
     "name": "stdout",
     "output_type": "stream",
     "text": [
      "[CV 2/5] END classifier__C=0.1, classifier__max_iter=1000;, score=0.877 total time=  12.0s\n",
      "[CV 3/5] END classifier__C=0.1, classifier__max_iter=1000;, score=0.879 total time=  12.1s\n",
      "[CV 4/5] END classifier__C=0.1, classifier__max_iter=1000;, score=0.876 total time=  12.3s\n"
     ]
    },
    {
     "name": "stderr",
     "output_type": "stream",
     "text": [
      "/opt/conda/lib/python3.10/site-packages/sklearn/preprocessing/_label.py:895: UserWarning: unknown class(es) ['variety'] will be ignored\n",
      "  warnings.warn(\n"
     ]
    },
    {
     "name": "stdout",
     "output_type": "stream",
     "text": [
      "[CV 5/5] END classifier__C=0.1, classifier__max_iter=1000;, score=0.878 total time=  12.2s\n",
      "[CV 1/5] END classifier__C=1, classifier__max_iter=1000;, score=0.867 total time=  35.0s\n"
     ]
    },
    {
     "name": "stderr",
     "output_type": "stream",
     "text": [
      "/opt/conda/lib/python3.10/site-packages/sklearn/preprocessing/_label.py:895: UserWarning: unknown class(es) ['news'] will be ignored\n",
      "  warnings.warn(\n"
     ]
    },
    {
     "name": "stdout",
     "output_type": "stream",
     "text": [
      "[CV 2/5] END classifier__C=1, classifier__max_iter=1000;, score=0.869 total time=  32.1s\n",
      "[CV 3/5] END classifier__C=1, classifier__max_iter=1000;, score=0.869 total time=  31.2s\n",
      "[CV 4/5] END classifier__C=1, classifier__max_iter=1000;, score=0.866 total time=  31.6s\n"
     ]
    },
    {
     "name": "stderr",
     "output_type": "stream",
     "text": [
      "/opt/conda/lib/python3.10/site-packages/sklearn/preprocessing/_label.py:895: UserWarning: unknown class(es) ['variety'] will be ignored\n",
      "  warnings.warn(\n"
     ]
    },
    {
     "name": "stdout",
     "output_type": "stream",
     "text": [
      "[CV 5/5] END classifier__C=1, classifier__max_iter=1000;, score=0.868 total time=  31.1s\n"
     ]
    },
    {
     "data": {
      "text/html": [
       "<style>#sk-container-id-2 {color: black;background-color: white;}#sk-container-id-2 pre{padding: 0;}#sk-container-id-2 div.sk-toggleable {background-color: white;}#sk-container-id-2 label.sk-toggleable__label {cursor: pointer;display: block;width: 100%;margin-bottom: 0;padding: 0.3em;box-sizing: border-box;text-align: center;}#sk-container-id-2 label.sk-toggleable__label-arrow:before {content: \"▸\";float: left;margin-right: 0.25em;color: #696969;}#sk-container-id-2 label.sk-toggleable__label-arrow:hover:before {color: black;}#sk-container-id-2 div.sk-estimator:hover label.sk-toggleable__label-arrow:before {color: black;}#sk-container-id-2 div.sk-toggleable__content {max-height: 0;max-width: 0;overflow: hidden;text-align: left;background-color: #f0f8ff;}#sk-container-id-2 div.sk-toggleable__content pre {margin: 0.2em;color: black;border-radius: 0.25em;background-color: #f0f8ff;}#sk-container-id-2 input.sk-toggleable__control:checked~div.sk-toggleable__content {max-height: 200px;max-width: 100%;overflow: auto;}#sk-container-id-2 input.sk-toggleable__control:checked~label.sk-toggleable__label-arrow:before {content: \"▾\";}#sk-container-id-2 div.sk-estimator input.sk-toggleable__control:checked~label.sk-toggleable__label {background-color: #d4ebff;}#sk-container-id-2 div.sk-label input.sk-toggleable__control:checked~label.sk-toggleable__label {background-color: #d4ebff;}#sk-container-id-2 input.sk-hidden--visually {border: 0;clip: rect(1px 1px 1px 1px);clip: rect(1px, 1px, 1px, 1px);height: 1px;margin: -1px;overflow: hidden;padding: 0;position: absolute;width: 1px;}#sk-container-id-2 div.sk-estimator {font-family: monospace;background-color: #f0f8ff;border: 1px dotted black;border-radius: 0.25em;box-sizing: border-box;margin-bottom: 0.5em;}#sk-container-id-2 div.sk-estimator:hover {background-color: #d4ebff;}#sk-container-id-2 div.sk-parallel-item::after {content: \"\";width: 100%;border-bottom: 1px solid gray;flex-grow: 1;}#sk-container-id-2 div.sk-label:hover label.sk-toggleable__label {background-color: #d4ebff;}#sk-container-id-2 div.sk-serial::before {content: \"\";position: absolute;border-left: 1px solid gray;box-sizing: border-box;top: 0;bottom: 0;left: 50%;z-index: 0;}#sk-container-id-2 div.sk-serial {display: flex;flex-direction: column;align-items: center;background-color: white;padding-right: 0.2em;padding-left: 0.2em;position: relative;}#sk-container-id-2 div.sk-item {position: relative;z-index: 1;}#sk-container-id-2 div.sk-parallel {display: flex;align-items: stretch;justify-content: center;background-color: white;position: relative;}#sk-container-id-2 div.sk-item::before, #sk-container-id-2 div.sk-parallel-item::before {content: \"\";position: absolute;border-left: 1px solid gray;box-sizing: border-box;top: 0;bottom: 0;left: 50%;z-index: -1;}#sk-container-id-2 div.sk-parallel-item {display: flex;flex-direction: column;z-index: 1;position: relative;background-color: white;}#sk-container-id-2 div.sk-parallel-item:first-child::after {align-self: flex-end;width: 50%;}#sk-container-id-2 div.sk-parallel-item:last-child::after {align-self: flex-start;width: 50%;}#sk-container-id-2 div.sk-parallel-item:only-child::after {width: 0;}#sk-container-id-2 div.sk-dashed-wrapped {border: 1px dashed gray;margin: 0 0.4em 0.5em 0.4em;box-sizing: border-box;padding-bottom: 0.4em;background-color: white;}#sk-container-id-2 div.sk-label label {font-family: monospace;font-weight: bold;display: inline-block;line-height: 1.2em;}#sk-container-id-2 div.sk-label-container {text-align: center;}#sk-container-id-2 div.sk-container {/* jupyter's `normalize.less` sets `[hidden] { display: none; }` but bootstrap.min.css set `[hidden] { display: none !important; }` so we also need the `!important` here to be able to override the default hidden behavior on the sphinx rendered scikit-learn.org. See: https://github.com/scikit-learn/scikit-learn/issues/21755 */display: inline-block !important;position: relative;}#sk-container-id-2 div.sk-text-repr-fallback {display: none;}</style><div id=\"sk-container-id-2\" class=\"sk-top-container\"><div class=\"sk-text-repr-fallback\"><pre>GridSearchCV(estimator=Pipeline(steps=[(&#x27;preprocess&#x27;,\n",
       "                                        ColumnTransformer(remainder=&#x27;passthrough&#x27;,\n",
       "                                                          transformers=[(&#x27;tfidf1&#x27;,\n",
       "                                                                         TfidfVectorizer(lowercase=False,\n",
       "                                                                                         min_df=5,\n",
       "                                                                                         stop_words=[&#x27;english&#x27;]),\n",
       "                                                                         &#x27;movieid&#x27;),\n",
       "                                                                        (&#x27;tfidf2&#x27;,\n",
       "                                                                         TfidfVectorizer(lowercase=False,\n",
       "                                                                                         min_df=5,\n",
       "                                                                                         stop_words=[&#x27;english&#x27;]),\n",
       "                                                                         &#x27;reviewText&#x27;),\n",
       "                                                                        (&#x27;tfidf3&#x27;,\n",
       "                                                                         TfidfVectorizer(lowercase=False,\n",
       "                                                                                         min_df=5,\n",
       "                                                                                         stop_words=[&#x27;en...\n",
       "                                                                        (&#x27;runtime&#x27;,\n",
       "                                                                         Pipeline(steps=[(&#x27;impute&#x27;,\n",
       "                                                                                          SimpleImputer(fill_value=100.0,\n",
       "                                                                                                        strategy=&#x27;constant&#x27;)),\n",
       "                                                                                         (&#x27;scale&#x27;,\n",
       "                                                                                          MinMaxScaler())]),\n",
       "                                                                         [&#x27;runtimeMinutes&#x27;]),\n",
       "                                                                        (&#x27;audience&#x27;,\n",
       "                                                                         Pipeline(steps=[(&#x27;impute&#x27;,\n",
       "                                                                                          SimpleImputer()),\n",
       "                                                                                         (&#x27;scale&#x27;,\n",
       "                                                                                          MinMaxScaler())]),\n",
       "                                                                         [&#x27;audienceScore&#x27;])])),\n",
       "                                       (&#x27;classifier&#x27;, LinearSVC())]),\n",
       "             param_grid={&#x27;classifier__C&#x27;: [0.1, 1],\n",
       "                         &#x27;classifier__max_iter&#x27;: [1000]},\n",
       "             scoring=&#x27;f1&#x27;, verbose=5)</pre><b>In a Jupyter environment, please rerun this cell to show the HTML representation or trust the notebook. <br />On GitHub, the HTML representation is unable to render, please try loading this page with nbviewer.org.</b></div><div class=\"sk-container\" hidden><div class=\"sk-item sk-dashed-wrapped\"><div class=\"sk-label-container\"><div class=\"sk-label sk-toggleable\"><input class=\"sk-toggleable__control sk-hidden--visually\" id=\"sk-estimator-id-27\" type=\"checkbox\" ><label for=\"sk-estimator-id-27\" class=\"sk-toggleable__label sk-toggleable__label-arrow\">GridSearchCV</label><div class=\"sk-toggleable__content\"><pre>GridSearchCV(estimator=Pipeline(steps=[(&#x27;preprocess&#x27;,\n",
       "                                        ColumnTransformer(remainder=&#x27;passthrough&#x27;,\n",
       "                                                          transformers=[(&#x27;tfidf1&#x27;,\n",
       "                                                                         TfidfVectorizer(lowercase=False,\n",
       "                                                                                         min_df=5,\n",
       "                                                                                         stop_words=[&#x27;english&#x27;]),\n",
       "                                                                         &#x27;movieid&#x27;),\n",
       "                                                                        (&#x27;tfidf2&#x27;,\n",
       "                                                                         TfidfVectorizer(lowercase=False,\n",
       "                                                                                         min_df=5,\n",
       "                                                                                         stop_words=[&#x27;english&#x27;]),\n",
       "                                                                         &#x27;reviewText&#x27;),\n",
       "                                                                        (&#x27;tfidf3&#x27;,\n",
       "                                                                         TfidfVectorizer(lowercase=False,\n",
       "                                                                                         min_df=5,\n",
       "                                                                                         stop_words=[&#x27;en...\n",
       "                                                                        (&#x27;runtime&#x27;,\n",
       "                                                                         Pipeline(steps=[(&#x27;impute&#x27;,\n",
       "                                                                                          SimpleImputer(fill_value=100.0,\n",
       "                                                                                                        strategy=&#x27;constant&#x27;)),\n",
       "                                                                                         (&#x27;scale&#x27;,\n",
       "                                                                                          MinMaxScaler())]),\n",
       "                                                                         [&#x27;runtimeMinutes&#x27;]),\n",
       "                                                                        (&#x27;audience&#x27;,\n",
       "                                                                         Pipeline(steps=[(&#x27;impute&#x27;,\n",
       "                                                                                          SimpleImputer()),\n",
       "                                                                                         (&#x27;scale&#x27;,\n",
       "                                                                                          MinMaxScaler())]),\n",
       "                                                                         [&#x27;audienceScore&#x27;])])),\n",
       "                                       (&#x27;classifier&#x27;, LinearSVC())]),\n",
       "             param_grid={&#x27;classifier__C&#x27;: [0.1, 1],\n",
       "                         &#x27;classifier__max_iter&#x27;: [1000]},\n",
       "             scoring=&#x27;f1&#x27;, verbose=5)</pre></div></div></div><div class=\"sk-parallel\"><div class=\"sk-parallel-item\"><div class=\"sk-item\"><div class=\"sk-label-container\"><div class=\"sk-label sk-toggleable\"><input class=\"sk-toggleable__control sk-hidden--visually\" id=\"sk-estimator-id-28\" type=\"checkbox\" ><label for=\"sk-estimator-id-28\" class=\"sk-toggleable__label sk-toggleable__label-arrow\">estimator: Pipeline</label><div class=\"sk-toggleable__content\"><pre>Pipeline(steps=[(&#x27;preprocess&#x27;,\n",
       "                 ColumnTransformer(remainder=&#x27;passthrough&#x27;,\n",
       "                                   transformers=[(&#x27;tfidf1&#x27;,\n",
       "                                                  TfidfVectorizer(lowercase=False,\n",
       "                                                                  min_df=5,\n",
       "                                                                  stop_words=[&#x27;english&#x27;]),\n",
       "                                                  &#x27;movieid&#x27;),\n",
       "                                                 (&#x27;tfidf2&#x27;,\n",
       "                                                  TfidfVectorizer(lowercase=False,\n",
       "                                                                  min_df=5,\n",
       "                                                                  stop_words=[&#x27;english&#x27;]),\n",
       "                                                  &#x27;reviewText&#x27;),\n",
       "                                                 (&#x27;tfidf3&#x27;,\n",
       "                                                  TfidfVectorizer(lowercase=False,\n",
       "                                                                  min_df=5,\n",
       "                                                                  stop_words=[&#x27;english&#x27;]),\n",
       "                                                  &#x27;title&#x27;),\n",
       "                                                 (&#x27;tfi...\n",
       "                                                 (&#x27;ohe2&#x27;, OneHotEncoder(),\n",
       "                                                  [&#x27;parentalGuidance&#x27;]),\n",
       "                                                 (&#x27;multi_label&#x27;,\n",
       "                                                  MultiHotEncoder(),\n",
       "                                                  [&#x27;genre&#x27;]),\n",
       "                                                 (&#x27;runtime&#x27;,\n",
       "                                                  Pipeline(steps=[(&#x27;impute&#x27;,\n",
       "                                                                   SimpleImputer(fill_value=100.0,\n",
       "                                                                                 strategy=&#x27;constant&#x27;)),\n",
       "                                                                  (&#x27;scale&#x27;,\n",
       "                                                                   MinMaxScaler())]),\n",
       "                                                  [&#x27;runtimeMinutes&#x27;]),\n",
       "                                                 (&#x27;audience&#x27;,\n",
       "                                                  Pipeline(steps=[(&#x27;impute&#x27;,\n",
       "                                                                   SimpleImputer()),\n",
       "                                                                  (&#x27;scale&#x27;,\n",
       "                                                                   MinMaxScaler())]),\n",
       "                                                  [&#x27;audienceScore&#x27;])])),\n",
       "                (&#x27;classifier&#x27;, LinearSVC())])</pre></div></div></div><div class=\"sk-serial\"><div class=\"sk-item\"><div class=\"sk-serial\"><div class=\"sk-item sk-dashed-wrapped\"><div class=\"sk-label-container\"><div class=\"sk-label sk-toggleable\"><input class=\"sk-toggleable__control sk-hidden--visually\" id=\"sk-estimator-id-29\" type=\"checkbox\" ><label for=\"sk-estimator-id-29\" class=\"sk-toggleable__label sk-toggleable__label-arrow\">preprocess: ColumnTransformer</label><div class=\"sk-toggleable__content\"><pre>ColumnTransformer(remainder=&#x27;passthrough&#x27;,\n",
       "                  transformers=[(&#x27;tfidf1&#x27;,\n",
       "                                 TfidfVectorizer(lowercase=False, min_df=5,\n",
       "                                                 stop_words=[&#x27;english&#x27;]),\n",
       "                                 &#x27;movieid&#x27;),\n",
       "                                (&#x27;tfidf2&#x27;,\n",
       "                                 TfidfVectorizer(lowercase=False, min_df=5,\n",
       "                                                 stop_words=[&#x27;english&#x27;]),\n",
       "                                 &#x27;reviewText&#x27;),\n",
       "                                (&#x27;tfidf3&#x27;,\n",
       "                                 TfidfVectorizer(lowercase=False, min_df=5,\n",
       "                                                 stop_words=[&#x27;english&#x27;]),\n",
       "                                 &#x27;title&#x27;),\n",
       "                                (&#x27;tfidf4&#x27;,\n",
       "                                 TfidfVectorizer(lowercase...\n",
       "                                (&#x27;ohe1&#x27;, OneHotEncoder(), [&#x27;isTopCritic&#x27;]),\n",
       "                                (&#x27;ohe2&#x27;, OneHotEncoder(), [&#x27;parentalGuidance&#x27;]),\n",
       "                                (&#x27;multi_label&#x27;, MultiHotEncoder(), [&#x27;genre&#x27;]),\n",
       "                                (&#x27;runtime&#x27;,\n",
       "                                 Pipeline(steps=[(&#x27;impute&#x27;,\n",
       "                                                  SimpleImputer(fill_value=100.0,\n",
       "                                                                strategy=&#x27;constant&#x27;)),\n",
       "                                                 (&#x27;scale&#x27;, MinMaxScaler())]),\n",
       "                                 [&#x27;runtimeMinutes&#x27;]),\n",
       "                                (&#x27;audience&#x27;,\n",
       "                                 Pipeline(steps=[(&#x27;impute&#x27;, SimpleImputer()),\n",
       "                                                 (&#x27;scale&#x27;, MinMaxScaler())]),\n",
       "                                 [&#x27;audienceScore&#x27;])])</pre></div></div></div><div class=\"sk-parallel\"><div class=\"sk-parallel-item\"><div class=\"sk-item\"><div class=\"sk-label-container\"><div class=\"sk-label sk-toggleable\"><input class=\"sk-toggleable__control sk-hidden--visually\" id=\"sk-estimator-id-30\" type=\"checkbox\" ><label for=\"sk-estimator-id-30\" class=\"sk-toggleable__label sk-toggleable__label-arrow\">tfidf1</label><div class=\"sk-toggleable__content\"><pre>movieid</pre></div></div></div><div class=\"sk-serial\"><div class=\"sk-item\"><div class=\"sk-estimator sk-toggleable\"><input class=\"sk-toggleable__control sk-hidden--visually\" id=\"sk-estimator-id-31\" type=\"checkbox\" ><label for=\"sk-estimator-id-31\" class=\"sk-toggleable__label sk-toggleable__label-arrow\">TfidfVectorizer</label><div class=\"sk-toggleable__content\"><pre>TfidfVectorizer(lowercase=False, min_df=5, stop_words=[&#x27;english&#x27;])</pre></div></div></div></div></div></div><div class=\"sk-parallel-item\"><div class=\"sk-item\"><div class=\"sk-label-container\"><div class=\"sk-label sk-toggleable\"><input class=\"sk-toggleable__control sk-hidden--visually\" id=\"sk-estimator-id-32\" type=\"checkbox\" ><label for=\"sk-estimator-id-32\" class=\"sk-toggleable__label sk-toggleable__label-arrow\">tfidf2</label><div class=\"sk-toggleable__content\"><pre>reviewText</pre></div></div></div><div class=\"sk-serial\"><div class=\"sk-item\"><div class=\"sk-estimator sk-toggleable\"><input class=\"sk-toggleable__control sk-hidden--visually\" id=\"sk-estimator-id-33\" type=\"checkbox\" ><label for=\"sk-estimator-id-33\" class=\"sk-toggleable__label sk-toggleable__label-arrow\">TfidfVectorizer</label><div class=\"sk-toggleable__content\"><pre>TfidfVectorizer(lowercase=False, min_df=5, stop_words=[&#x27;english&#x27;])</pre></div></div></div></div></div></div><div class=\"sk-parallel-item\"><div class=\"sk-item\"><div class=\"sk-label-container\"><div class=\"sk-label sk-toggleable\"><input class=\"sk-toggleable__control sk-hidden--visually\" id=\"sk-estimator-id-34\" type=\"checkbox\" ><label for=\"sk-estimator-id-34\" class=\"sk-toggleable__label sk-toggleable__label-arrow\">tfidf3</label><div class=\"sk-toggleable__content\"><pre>title</pre></div></div></div><div class=\"sk-serial\"><div class=\"sk-item\"><div class=\"sk-estimator sk-toggleable\"><input class=\"sk-toggleable__control sk-hidden--visually\" id=\"sk-estimator-id-35\" type=\"checkbox\" ><label for=\"sk-estimator-id-35\" class=\"sk-toggleable__label sk-toggleable__label-arrow\">TfidfVectorizer</label><div class=\"sk-toggleable__content\"><pre>TfidfVectorizer(lowercase=False, min_df=5, stop_words=[&#x27;english&#x27;])</pre></div></div></div></div></div></div><div class=\"sk-parallel-item\"><div class=\"sk-item\"><div class=\"sk-label-container\"><div class=\"sk-label sk-toggleable\"><input class=\"sk-toggleable__control sk-hidden--visually\" id=\"sk-estimator-id-36\" type=\"checkbox\" ><label for=\"sk-estimator-id-36\" class=\"sk-toggleable__label sk-toggleable__label-arrow\">tfidf4</label><div class=\"sk-toggleable__content\"><pre>reviewerName</pre></div></div></div><div class=\"sk-serial\"><div class=\"sk-item\"><div class=\"sk-estimator sk-toggleable\"><input class=\"sk-toggleable__control sk-hidden--visually\" id=\"sk-estimator-id-37\" type=\"checkbox\" ><label for=\"sk-estimator-id-37\" class=\"sk-toggleable__label sk-toggleable__label-arrow\">TfidfVectorizer</label><div class=\"sk-toggleable__content\"><pre>TfidfVectorizer(lowercase=False, min_df=5, stop_words=[&#x27;english&#x27;])</pre></div></div></div></div></div></div><div class=\"sk-parallel-item\"><div class=\"sk-item\"><div class=\"sk-label-container\"><div class=\"sk-label sk-toggleable\"><input class=\"sk-toggleable__control sk-hidden--visually\" id=\"sk-estimator-id-38\" type=\"checkbox\" ><label for=\"sk-estimator-id-38\" class=\"sk-toggleable__label sk-toggleable__label-arrow\">ohe1</label><div class=\"sk-toggleable__content\"><pre>[&#x27;isTopCritic&#x27;]</pre></div></div></div><div class=\"sk-serial\"><div class=\"sk-item\"><div class=\"sk-estimator sk-toggleable\"><input class=\"sk-toggleable__control sk-hidden--visually\" id=\"sk-estimator-id-39\" type=\"checkbox\" ><label for=\"sk-estimator-id-39\" class=\"sk-toggleable__label sk-toggleable__label-arrow\">OneHotEncoder</label><div class=\"sk-toggleable__content\"><pre>OneHotEncoder()</pre></div></div></div></div></div></div><div class=\"sk-parallel-item\"><div class=\"sk-item\"><div class=\"sk-label-container\"><div class=\"sk-label sk-toggleable\"><input class=\"sk-toggleable__control sk-hidden--visually\" id=\"sk-estimator-id-40\" type=\"checkbox\" ><label for=\"sk-estimator-id-40\" class=\"sk-toggleable__label sk-toggleable__label-arrow\">ohe2</label><div class=\"sk-toggleable__content\"><pre>[&#x27;parentalGuidance&#x27;]</pre></div></div></div><div class=\"sk-serial\"><div class=\"sk-item\"><div class=\"sk-estimator sk-toggleable\"><input class=\"sk-toggleable__control sk-hidden--visually\" id=\"sk-estimator-id-41\" type=\"checkbox\" ><label for=\"sk-estimator-id-41\" class=\"sk-toggleable__label sk-toggleable__label-arrow\">OneHotEncoder</label><div class=\"sk-toggleable__content\"><pre>OneHotEncoder()</pre></div></div></div></div></div></div><div class=\"sk-parallel-item\"><div class=\"sk-item\"><div class=\"sk-label-container\"><div class=\"sk-label sk-toggleable\"><input class=\"sk-toggleable__control sk-hidden--visually\" id=\"sk-estimator-id-42\" type=\"checkbox\" ><label for=\"sk-estimator-id-42\" class=\"sk-toggleable__label sk-toggleable__label-arrow\">multi_label</label><div class=\"sk-toggleable__content\"><pre>[&#x27;genre&#x27;]</pre></div></div></div><div class=\"sk-serial\"><div class=\"sk-item\"><div class=\"sk-estimator sk-toggleable\"><input class=\"sk-toggleable__control sk-hidden--visually\" id=\"sk-estimator-id-43\" type=\"checkbox\" ><label for=\"sk-estimator-id-43\" class=\"sk-toggleable__label sk-toggleable__label-arrow\">MultiHotEncoder</label><div class=\"sk-toggleable__content\"><pre>MultiHotEncoder()</pre></div></div></div></div></div></div><div class=\"sk-parallel-item\"><div class=\"sk-item\"><div class=\"sk-label-container\"><div class=\"sk-label sk-toggleable\"><input class=\"sk-toggleable__control sk-hidden--visually\" id=\"sk-estimator-id-44\" type=\"checkbox\" ><label for=\"sk-estimator-id-44\" class=\"sk-toggleable__label sk-toggleable__label-arrow\">runtime</label><div class=\"sk-toggleable__content\"><pre>[&#x27;runtimeMinutes&#x27;]</pre></div></div></div><div class=\"sk-serial\"><div class=\"sk-item\"><div class=\"sk-serial\"><div class=\"sk-item\"><div class=\"sk-estimator sk-toggleable\"><input class=\"sk-toggleable__control sk-hidden--visually\" id=\"sk-estimator-id-45\" type=\"checkbox\" ><label for=\"sk-estimator-id-45\" class=\"sk-toggleable__label sk-toggleable__label-arrow\">SimpleImputer</label><div class=\"sk-toggleable__content\"><pre>SimpleImputer(fill_value=100.0, strategy=&#x27;constant&#x27;)</pre></div></div></div><div class=\"sk-item\"><div class=\"sk-estimator sk-toggleable\"><input class=\"sk-toggleable__control sk-hidden--visually\" id=\"sk-estimator-id-46\" type=\"checkbox\" ><label for=\"sk-estimator-id-46\" class=\"sk-toggleable__label sk-toggleable__label-arrow\">MinMaxScaler</label><div class=\"sk-toggleable__content\"><pre>MinMaxScaler()</pre></div></div></div></div></div></div></div></div><div class=\"sk-parallel-item\"><div class=\"sk-item\"><div class=\"sk-label-container\"><div class=\"sk-label sk-toggleable\"><input class=\"sk-toggleable__control sk-hidden--visually\" id=\"sk-estimator-id-47\" type=\"checkbox\" ><label for=\"sk-estimator-id-47\" class=\"sk-toggleable__label sk-toggleable__label-arrow\">audience</label><div class=\"sk-toggleable__content\"><pre>[&#x27;audienceScore&#x27;]</pre></div></div></div><div class=\"sk-serial\"><div class=\"sk-item\"><div class=\"sk-serial\"><div class=\"sk-item\"><div class=\"sk-estimator sk-toggleable\"><input class=\"sk-toggleable__control sk-hidden--visually\" id=\"sk-estimator-id-48\" type=\"checkbox\" ><label for=\"sk-estimator-id-48\" class=\"sk-toggleable__label sk-toggleable__label-arrow\">SimpleImputer</label><div class=\"sk-toggleable__content\"><pre>SimpleImputer()</pre></div></div></div><div class=\"sk-item\"><div class=\"sk-estimator sk-toggleable\"><input class=\"sk-toggleable__control sk-hidden--visually\" id=\"sk-estimator-id-49\" type=\"checkbox\" ><label for=\"sk-estimator-id-49\" class=\"sk-toggleable__label sk-toggleable__label-arrow\">MinMaxScaler</label><div class=\"sk-toggleable__content\"><pre>MinMaxScaler()</pre></div></div></div></div></div></div></div></div><div class=\"sk-parallel-item\"><div class=\"sk-item\"><div class=\"sk-label-container\"><div class=\"sk-label sk-toggleable\"><input class=\"sk-toggleable__control sk-hidden--visually\" id=\"sk-estimator-id-50\" type=\"checkbox\" ><label for=\"sk-estimator-id-50\" class=\"sk-toggleable__label sk-toggleable__label-arrow\">remainder</label><div class=\"sk-toggleable__content\"><pre></pre></div></div></div><div class=\"sk-serial\"><div class=\"sk-item\"><div class=\"sk-estimator sk-toggleable\"><input class=\"sk-toggleable__control sk-hidden--visually\" id=\"sk-estimator-id-51\" type=\"checkbox\" ><label for=\"sk-estimator-id-51\" class=\"sk-toggleable__label sk-toggleable__label-arrow\">passthrough</label><div class=\"sk-toggleable__content\"><pre>passthrough</pre></div></div></div></div></div></div></div></div><div class=\"sk-item\"><div class=\"sk-estimator sk-toggleable\"><input class=\"sk-toggleable__control sk-hidden--visually\" id=\"sk-estimator-id-52\" type=\"checkbox\" ><label for=\"sk-estimator-id-52\" class=\"sk-toggleable__label sk-toggleable__label-arrow\">LinearSVC</label><div class=\"sk-toggleable__content\"><pre>LinearSVC()</pre></div></div></div></div></div></div></div></div></div></div></div></div>"
      ],
      "text/plain": [
       "GridSearchCV(estimator=Pipeline(steps=[('preprocess',\n",
       "                                        ColumnTransformer(remainder='passthrough',\n",
       "                                                          transformers=[('tfidf1',\n",
       "                                                                         TfidfVectorizer(lowercase=False,\n",
       "                                                                                         min_df=5,\n",
       "                                                                                         stop_words=['english']),\n",
       "                                                                         'movieid'),\n",
       "                                                                        ('tfidf2',\n",
       "                                                                         TfidfVectorizer(lowercase=False,\n",
       "                                                                                         min_df=5,\n",
       "                                                                                         stop_words=['english']),\n",
       "                                                                         'reviewText'),\n",
       "                                                                        ('tfidf3',\n",
       "                                                                         TfidfVectorizer(lowercase=False,\n",
       "                                                                                         min_df=5,\n",
       "                                                                                         stop_words=['en...\n",
       "                                                                        ('runtime',\n",
       "                                                                         Pipeline(steps=[('impute',\n",
       "                                                                                          SimpleImputer(fill_value=100.0,\n",
       "                                                                                                        strategy='constant')),\n",
       "                                                                                         ('scale',\n",
       "                                                                                          MinMaxScaler())]),\n",
       "                                                                         ['runtimeMinutes']),\n",
       "                                                                        ('audience',\n",
       "                                                                         Pipeline(steps=[('impute',\n",
       "                                                                                          SimpleImputer()),\n",
       "                                                                                         ('scale',\n",
       "                                                                                          MinMaxScaler())]),\n",
       "                                                                         ['audienceScore'])])),\n",
       "                                       ('classifier', LinearSVC())]),\n",
       "             param_grid={'classifier__C': [0.1, 1],\n",
       "                         'classifier__max_iter': [1000]},\n",
       "             scoring='f1', verbose=5)"
      ]
     },
     "execution_count": 64,
     "metadata": {},
     "output_type": "execute_result"
    }
   ],
   "source": [
    "pipeline2 = Pipeline([\n",
    "    ('preprocess', preprocessor),\n",
    "    ('classifier', LinearSVC())\n",
    "])\n",
    "\n",
    "params_linearSVC = {\n",
    "    'classifier__C': [0.1, 1],   \n",
    "    'classifier__max_iter': [1000],  \n",
    "}\n",
    "\n",
    "grid_search_LSVC = GridSearchCV(pipeline2, params_linearSVC, scoring=\"f1\", verbose=5)\n",
    "grid_search_LSVC.fit(X,y)"
   ]
  },
  {
   "cell_type": "code",
   "execution_count": 65,
   "id": "9d02b3a4",
   "metadata": {
    "execution": {
     "iopub.execute_input": "2023-08-13T18:09:27.058422Z",
     "iopub.status.busy": "2023-08-13T18:09:27.057807Z",
     "iopub.status.idle": "2023-08-13T18:09:27.063338Z",
     "shell.execute_reply": "2023-08-13T18:09:27.062297Z"
    },
    "papermill": {
     "duration": 0.045274,
     "end_time": "2023-08-13T18:09:27.065279",
     "exception": false,
     "start_time": "2023-08-13T18:09:27.020005",
     "status": "completed"
    },
    "tags": []
   },
   "outputs": [
    {
     "data": {
      "text/plain": [
       "0.8771429357590599"
      ]
     },
     "execution_count": 65,
     "metadata": {},
     "output_type": "execute_result"
    }
   ],
   "source": [
    "grid_search_LSVC.best_score_"
   ]
  },
  {
   "cell_type": "code",
   "execution_count": 66,
   "id": "e633fa1b",
   "metadata": {
    "execution": {
     "iopub.execute_input": "2023-08-13T18:09:27.140733Z",
     "iopub.status.busy": "2023-08-13T18:09:27.140084Z",
     "iopub.status.idle": "2023-08-13T18:09:27.147160Z",
     "shell.execute_reply": "2023-08-13T18:09:27.145984Z"
    },
    "papermill": {
     "duration": 0.047877,
     "end_time": "2023-08-13T18:09:27.150068",
     "exception": false,
     "start_time": "2023-08-13T18:09:27.102191",
     "status": "completed"
    },
    "tags": []
   },
   "outputs": [
    {
     "data": {
      "text/plain": [
       "{'classifier__C': 0.1, 'classifier__max_iter': 1000}"
      ]
     },
     "execution_count": 66,
     "metadata": {},
     "output_type": "execute_result"
    }
   ],
   "source": [
    "grid_search_LSVC.best_params_"
   ]
  },
  {
   "cell_type": "markdown",
   "id": "419cc74f",
   "metadata": {
    "papermill": {
     "duration": 0.035849,
     "end_time": "2023-08-13T18:09:27.221284",
     "exception": false,
     "start_time": "2023-08-13T18:09:27.185435",
     "status": "completed"
    },
    "tags": []
   },
   "source": [
    "## Logistic Regression"
   ]
  },
  {
   "cell_type": "code",
   "execution_count": 67,
   "id": "ec1ec21b",
   "metadata": {
    "execution": {
     "iopub.execute_input": "2023-08-13T18:09:27.295622Z",
     "iopub.status.busy": "2023-08-13T18:09:27.295229Z",
     "iopub.status.idle": "2023-08-13T18:19:35.088528Z",
     "shell.execute_reply": "2023-08-13T18:19:35.087285Z"
    },
    "papermill": {
     "duration": 607.87,
     "end_time": "2023-08-13T18:19:35.126175",
     "exception": false,
     "start_time": "2023-08-13T18:09:27.256175",
     "status": "completed"
    },
    "tags": []
   },
   "outputs": [
    {
     "name": "stdout",
     "output_type": "stream",
     "text": [
      "Fitting 5 folds for each of 2 candidates, totalling 10 fits\n",
      "[CV 1/5] END classifier__C=0.1, classifier__max_iter=1500, classifier__solver=saga;, score=0.858 total time= 1.7min\n"
     ]
    },
    {
     "name": "stderr",
     "output_type": "stream",
     "text": [
      "/opt/conda/lib/python3.10/site-packages/sklearn/preprocessing/_label.py:895: UserWarning: unknown class(es) ['news'] will be ignored\n",
      "  warnings.warn(\n"
     ]
    },
    {
     "name": "stdout",
     "output_type": "stream",
     "text": [
      "[CV 2/5] END classifier__C=0.1, classifier__max_iter=1500, classifier__solver=saga;, score=0.858 total time= 1.7min\n",
      "[CV 3/5] END classifier__C=0.1, classifier__max_iter=1500, classifier__solver=saga;, score=0.861 total time= 1.6min\n",
      "[CV 4/5] END classifier__C=0.1, classifier__max_iter=1500, classifier__solver=saga;, score=0.858 total time= 1.6min\n"
     ]
    },
    {
     "name": "stderr",
     "output_type": "stream",
     "text": [
      "/opt/conda/lib/python3.10/site-packages/sklearn/preprocessing/_label.py:895: UserWarning: unknown class(es) ['variety'] will be ignored\n",
      "  warnings.warn(\n"
     ]
    },
    {
     "name": "stdout",
     "output_type": "stream",
     "text": [
      "[CV 5/5] END classifier__C=0.1, classifier__max_iter=1500, classifier__solver=saga;, score=0.859 total time= 1.6min\n",
      "[CV 1/5] END classifier__C=1, classifier__max_iter=1500, classifier__solver=saga;, score=0.875 total time=  17.7s\n"
     ]
    },
    {
     "name": "stderr",
     "output_type": "stream",
     "text": [
      "/opt/conda/lib/python3.10/site-packages/sklearn/preprocessing/_label.py:895: UserWarning: unknown class(es) ['news'] will be ignored\n",
      "  warnings.warn(\n"
     ]
    },
    {
     "name": "stdout",
     "output_type": "stream",
     "text": [
      "[CV 2/5] END classifier__C=1, classifier__max_iter=1500, classifier__solver=saga;, score=0.876 total time=  18.0s\n",
      "[CV 3/5] END classifier__C=1, classifier__max_iter=1500, classifier__solver=saga;, score=0.878 total time=  18.0s\n",
      "[CV 4/5] END classifier__C=1, classifier__max_iter=1500, classifier__solver=saga;, score=0.876 total time=  17.7s\n"
     ]
    },
    {
     "name": "stderr",
     "output_type": "stream",
     "text": [
      "/opt/conda/lib/python3.10/site-packages/sklearn/preprocessing/_label.py:895: UserWarning: unknown class(es) ['variety'] will be ignored\n",
      "  warnings.warn(\n"
     ]
    },
    {
     "name": "stdout",
     "output_type": "stream",
     "text": [
      "[CV 5/5] END classifier__C=1, classifier__max_iter=1500, classifier__solver=saga;, score=0.878 total time=  17.5s\n"
     ]
    },
    {
     "data": {
      "text/html": [
       "<style>#sk-container-id-3 {color: black;background-color: white;}#sk-container-id-3 pre{padding: 0;}#sk-container-id-3 div.sk-toggleable {background-color: white;}#sk-container-id-3 label.sk-toggleable__label {cursor: pointer;display: block;width: 100%;margin-bottom: 0;padding: 0.3em;box-sizing: border-box;text-align: center;}#sk-container-id-3 label.sk-toggleable__label-arrow:before {content: \"▸\";float: left;margin-right: 0.25em;color: #696969;}#sk-container-id-3 label.sk-toggleable__label-arrow:hover:before {color: black;}#sk-container-id-3 div.sk-estimator:hover label.sk-toggleable__label-arrow:before {color: black;}#sk-container-id-3 div.sk-toggleable__content {max-height: 0;max-width: 0;overflow: hidden;text-align: left;background-color: #f0f8ff;}#sk-container-id-3 div.sk-toggleable__content pre {margin: 0.2em;color: black;border-radius: 0.25em;background-color: #f0f8ff;}#sk-container-id-3 input.sk-toggleable__control:checked~div.sk-toggleable__content {max-height: 200px;max-width: 100%;overflow: auto;}#sk-container-id-3 input.sk-toggleable__control:checked~label.sk-toggleable__label-arrow:before {content: \"▾\";}#sk-container-id-3 div.sk-estimator input.sk-toggleable__control:checked~label.sk-toggleable__label {background-color: #d4ebff;}#sk-container-id-3 div.sk-label input.sk-toggleable__control:checked~label.sk-toggleable__label {background-color: #d4ebff;}#sk-container-id-3 input.sk-hidden--visually {border: 0;clip: rect(1px 1px 1px 1px);clip: rect(1px, 1px, 1px, 1px);height: 1px;margin: -1px;overflow: hidden;padding: 0;position: absolute;width: 1px;}#sk-container-id-3 div.sk-estimator {font-family: monospace;background-color: #f0f8ff;border: 1px dotted black;border-radius: 0.25em;box-sizing: border-box;margin-bottom: 0.5em;}#sk-container-id-3 div.sk-estimator:hover {background-color: #d4ebff;}#sk-container-id-3 div.sk-parallel-item::after {content: \"\";width: 100%;border-bottom: 1px solid gray;flex-grow: 1;}#sk-container-id-3 div.sk-label:hover label.sk-toggleable__label {background-color: #d4ebff;}#sk-container-id-3 div.sk-serial::before {content: \"\";position: absolute;border-left: 1px solid gray;box-sizing: border-box;top: 0;bottom: 0;left: 50%;z-index: 0;}#sk-container-id-3 div.sk-serial {display: flex;flex-direction: column;align-items: center;background-color: white;padding-right: 0.2em;padding-left: 0.2em;position: relative;}#sk-container-id-3 div.sk-item {position: relative;z-index: 1;}#sk-container-id-3 div.sk-parallel {display: flex;align-items: stretch;justify-content: center;background-color: white;position: relative;}#sk-container-id-3 div.sk-item::before, #sk-container-id-3 div.sk-parallel-item::before {content: \"\";position: absolute;border-left: 1px solid gray;box-sizing: border-box;top: 0;bottom: 0;left: 50%;z-index: -1;}#sk-container-id-3 div.sk-parallel-item {display: flex;flex-direction: column;z-index: 1;position: relative;background-color: white;}#sk-container-id-3 div.sk-parallel-item:first-child::after {align-self: flex-end;width: 50%;}#sk-container-id-3 div.sk-parallel-item:last-child::after {align-self: flex-start;width: 50%;}#sk-container-id-3 div.sk-parallel-item:only-child::after {width: 0;}#sk-container-id-3 div.sk-dashed-wrapped {border: 1px dashed gray;margin: 0 0.4em 0.5em 0.4em;box-sizing: border-box;padding-bottom: 0.4em;background-color: white;}#sk-container-id-3 div.sk-label label {font-family: monospace;font-weight: bold;display: inline-block;line-height: 1.2em;}#sk-container-id-3 div.sk-label-container {text-align: center;}#sk-container-id-3 div.sk-container {/* jupyter's `normalize.less` sets `[hidden] { display: none; }` but bootstrap.min.css set `[hidden] { display: none !important; }` so we also need the `!important` here to be able to override the default hidden behavior on the sphinx rendered scikit-learn.org. See: https://github.com/scikit-learn/scikit-learn/issues/21755 */display: inline-block !important;position: relative;}#sk-container-id-3 div.sk-text-repr-fallback {display: none;}</style><div id=\"sk-container-id-3\" class=\"sk-top-container\"><div class=\"sk-text-repr-fallback\"><pre>GridSearchCV(estimator=Pipeline(steps=[(&#x27;preprocess&#x27;,\n",
       "                                        ColumnTransformer(remainder=&#x27;passthrough&#x27;,\n",
       "                                                          transformers=[(&#x27;tfidf1&#x27;,\n",
       "                                                                         TfidfVectorizer(lowercase=False,\n",
       "                                                                                         min_df=5,\n",
       "                                                                                         stop_words=[&#x27;english&#x27;]),\n",
       "                                                                         &#x27;movieid&#x27;),\n",
       "                                                                        (&#x27;tfidf2&#x27;,\n",
       "                                                                         TfidfVectorizer(lowercase=False,\n",
       "                                                                                         min_df=5,\n",
       "                                                                                         stop_words=[&#x27;english&#x27;]),\n",
       "                                                                         &#x27;reviewText&#x27;),\n",
       "                                                                        (&#x27;tfidf3&#x27;,\n",
       "                                                                         TfidfVectorizer(lowercase=False,\n",
       "                                                                                         min_df=5,\n",
       "                                                                                         stop_words=[&#x27;en...\n",
       "                                                                                          SimpleImputer(fill_value=100.0,\n",
       "                                                                                                        strategy=&#x27;constant&#x27;)),\n",
       "                                                                                         (&#x27;scale&#x27;,\n",
       "                                                                                          MinMaxScaler())]),\n",
       "                                                                         [&#x27;runtimeMinutes&#x27;]),\n",
       "                                                                        (&#x27;audience&#x27;,\n",
       "                                                                         Pipeline(steps=[(&#x27;impute&#x27;,\n",
       "                                                                                          SimpleImputer()),\n",
       "                                                                                         (&#x27;scale&#x27;,\n",
       "                                                                                          MinMaxScaler())]),\n",
       "                                                                         [&#x27;audienceScore&#x27;])])),\n",
       "                                       (&#x27;classifier&#x27;, LogisticRegression())]),\n",
       "             param_grid={&#x27;classifier__C&#x27;: [0.1, 1],\n",
       "                         &#x27;classifier__max_iter&#x27;: [1500],\n",
       "                         &#x27;classifier__solver&#x27;: [&#x27;saga&#x27;]},\n",
       "             scoring=&#x27;f1&#x27;, verbose=5)</pre><b>In a Jupyter environment, please rerun this cell to show the HTML representation or trust the notebook. <br />On GitHub, the HTML representation is unable to render, please try loading this page with nbviewer.org.</b></div><div class=\"sk-container\" hidden><div class=\"sk-item sk-dashed-wrapped\"><div class=\"sk-label-container\"><div class=\"sk-label sk-toggleable\"><input class=\"sk-toggleable__control sk-hidden--visually\" id=\"sk-estimator-id-53\" type=\"checkbox\" ><label for=\"sk-estimator-id-53\" class=\"sk-toggleable__label sk-toggleable__label-arrow\">GridSearchCV</label><div class=\"sk-toggleable__content\"><pre>GridSearchCV(estimator=Pipeline(steps=[(&#x27;preprocess&#x27;,\n",
       "                                        ColumnTransformer(remainder=&#x27;passthrough&#x27;,\n",
       "                                                          transformers=[(&#x27;tfidf1&#x27;,\n",
       "                                                                         TfidfVectorizer(lowercase=False,\n",
       "                                                                                         min_df=5,\n",
       "                                                                                         stop_words=[&#x27;english&#x27;]),\n",
       "                                                                         &#x27;movieid&#x27;),\n",
       "                                                                        (&#x27;tfidf2&#x27;,\n",
       "                                                                         TfidfVectorizer(lowercase=False,\n",
       "                                                                                         min_df=5,\n",
       "                                                                                         stop_words=[&#x27;english&#x27;]),\n",
       "                                                                         &#x27;reviewText&#x27;),\n",
       "                                                                        (&#x27;tfidf3&#x27;,\n",
       "                                                                         TfidfVectorizer(lowercase=False,\n",
       "                                                                                         min_df=5,\n",
       "                                                                                         stop_words=[&#x27;en...\n",
       "                                                                                          SimpleImputer(fill_value=100.0,\n",
       "                                                                                                        strategy=&#x27;constant&#x27;)),\n",
       "                                                                                         (&#x27;scale&#x27;,\n",
       "                                                                                          MinMaxScaler())]),\n",
       "                                                                         [&#x27;runtimeMinutes&#x27;]),\n",
       "                                                                        (&#x27;audience&#x27;,\n",
       "                                                                         Pipeline(steps=[(&#x27;impute&#x27;,\n",
       "                                                                                          SimpleImputer()),\n",
       "                                                                                         (&#x27;scale&#x27;,\n",
       "                                                                                          MinMaxScaler())]),\n",
       "                                                                         [&#x27;audienceScore&#x27;])])),\n",
       "                                       (&#x27;classifier&#x27;, LogisticRegression())]),\n",
       "             param_grid={&#x27;classifier__C&#x27;: [0.1, 1],\n",
       "                         &#x27;classifier__max_iter&#x27;: [1500],\n",
       "                         &#x27;classifier__solver&#x27;: [&#x27;saga&#x27;]},\n",
       "             scoring=&#x27;f1&#x27;, verbose=5)</pre></div></div></div><div class=\"sk-parallel\"><div class=\"sk-parallel-item\"><div class=\"sk-item\"><div class=\"sk-label-container\"><div class=\"sk-label sk-toggleable\"><input class=\"sk-toggleable__control sk-hidden--visually\" id=\"sk-estimator-id-54\" type=\"checkbox\" ><label for=\"sk-estimator-id-54\" class=\"sk-toggleable__label sk-toggleable__label-arrow\">estimator: Pipeline</label><div class=\"sk-toggleable__content\"><pre>Pipeline(steps=[(&#x27;preprocess&#x27;,\n",
       "                 ColumnTransformer(remainder=&#x27;passthrough&#x27;,\n",
       "                                   transformers=[(&#x27;tfidf1&#x27;,\n",
       "                                                  TfidfVectorizer(lowercase=False,\n",
       "                                                                  min_df=5,\n",
       "                                                                  stop_words=[&#x27;english&#x27;]),\n",
       "                                                  &#x27;movieid&#x27;),\n",
       "                                                 (&#x27;tfidf2&#x27;,\n",
       "                                                  TfidfVectorizer(lowercase=False,\n",
       "                                                                  min_df=5,\n",
       "                                                                  stop_words=[&#x27;english&#x27;]),\n",
       "                                                  &#x27;reviewText&#x27;),\n",
       "                                                 (&#x27;tfidf3&#x27;,\n",
       "                                                  TfidfVectorizer(lowercase=False,\n",
       "                                                                  min_df=5,\n",
       "                                                                  stop_words=[&#x27;english&#x27;]),\n",
       "                                                  &#x27;title&#x27;),\n",
       "                                                 (&#x27;tfi...\n",
       "                                                 (&#x27;ohe2&#x27;, OneHotEncoder(),\n",
       "                                                  [&#x27;parentalGuidance&#x27;]),\n",
       "                                                 (&#x27;multi_label&#x27;,\n",
       "                                                  MultiHotEncoder(),\n",
       "                                                  [&#x27;genre&#x27;]),\n",
       "                                                 (&#x27;runtime&#x27;,\n",
       "                                                  Pipeline(steps=[(&#x27;impute&#x27;,\n",
       "                                                                   SimpleImputer(fill_value=100.0,\n",
       "                                                                                 strategy=&#x27;constant&#x27;)),\n",
       "                                                                  (&#x27;scale&#x27;,\n",
       "                                                                   MinMaxScaler())]),\n",
       "                                                  [&#x27;runtimeMinutes&#x27;]),\n",
       "                                                 (&#x27;audience&#x27;,\n",
       "                                                  Pipeline(steps=[(&#x27;impute&#x27;,\n",
       "                                                                   SimpleImputer()),\n",
       "                                                                  (&#x27;scale&#x27;,\n",
       "                                                                   MinMaxScaler())]),\n",
       "                                                  [&#x27;audienceScore&#x27;])])),\n",
       "                (&#x27;classifier&#x27;, LogisticRegression())])</pre></div></div></div><div class=\"sk-serial\"><div class=\"sk-item\"><div class=\"sk-serial\"><div class=\"sk-item sk-dashed-wrapped\"><div class=\"sk-label-container\"><div class=\"sk-label sk-toggleable\"><input class=\"sk-toggleable__control sk-hidden--visually\" id=\"sk-estimator-id-55\" type=\"checkbox\" ><label for=\"sk-estimator-id-55\" class=\"sk-toggleable__label sk-toggleable__label-arrow\">preprocess: ColumnTransformer</label><div class=\"sk-toggleable__content\"><pre>ColumnTransformer(remainder=&#x27;passthrough&#x27;,\n",
       "                  transformers=[(&#x27;tfidf1&#x27;,\n",
       "                                 TfidfVectorizer(lowercase=False, min_df=5,\n",
       "                                                 stop_words=[&#x27;english&#x27;]),\n",
       "                                 &#x27;movieid&#x27;),\n",
       "                                (&#x27;tfidf2&#x27;,\n",
       "                                 TfidfVectorizer(lowercase=False, min_df=5,\n",
       "                                                 stop_words=[&#x27;english&#x27;]),\n",
       "                                 &#x27;reviewText&#x27;),\n",
       "                                (&#x27;tfidf3&#x27;,\n",
       "                                 TfidfVectorizer(lowercase=False, min_df=5,\n",
       "                                                 stop_words=[&#x27;english&#x27;]),\n",
       "                                 &#x27;title&#x27;),\n",
       "                                (&#x27;tfidf4&#x27;,\n",
       "                                 TfidfVectorizer(lowercase...\n",
       "                                (&#x27;ohe1&#x27;, OneHotEncoder(), [&#x27;isTopCritic&#x27;]),\n",
       "                                (&#x27;ohe2&#x27;, OneHotEncoder(), [&#x27;parentalGuidance&#x27;]),\n",
       "                                (&#x27;multi_label&#x27;, MultiHotEncoder(), [&#x27;genre&#x27;]),\n",
       "                                (&#x27;runtime&#x27;,\n",
       "                                 Pipeline(steps=[(&#x27;impute&#x27;,\n",
       "                                                  SimpleImputer(fill_value=100.0,\n",
       "                                                                strategy=&#x27;constant&#x27;)),\n",
       "                                                 (&#x27;scale&#x27;, MinMaxScaler())]),\n",
       "                                 [&#x27;runtimeMinutes&#x27;]),\n",
       "                                (&#x27;audience&#x27;,\n",
       "                                 Pipeline(steps=[(&#x27;impute&#x27;, SimpleImputer()),\n",
       "                                                 (&#x27;scale&#x27;, MinMaxScaler())]),\n",
       "                                 [&#x27;audienceScore&#x27;])])</pre></div></div></div><div class=\"sk-parallel\"><div class=\"sk-parallel-item\"><div class=\"sk-item\"><div class=\"sk-label-container\"><div class=\"sk-label sk-toggleable\"><input class=\"sk-toggleable__control sk-hidden--visually\" id=\"sk-estimator-id-56\" type=\"checkbox\" ><label for=\"sk-estimator-id-56\" class=\"sk-toggleable__label sk-toggleable__label-arrow\">tfidf1</label><div class=\"sk-toggleable__content\"><pre>movieid</pre></div></div></div><div class=\"sk-serial\"><div class=\"sk-item\"><div class=\"sk-estimator sk-toggleable\"><input class=\"sk-toggleable__control sk-hidden--visually\" id=\"sk-estimator-id-57\" type=\"checkbox\" ><label for=\"sk-estimator-id-57\" class=\"sk-toggleable__label sk-toggleable__label-arrow\">TfidfVectorizer</label><div class=\"sk-toggleable__content\"><pre>TfidfVectorizer(lowercase=False, min_df=5, stop_words=[&#x27;english&#x27;])</pre></div></div></div></div></div></div><div class=\"sk-parallel-item\"><div class=\"sk-item\"><div class=\"sk-label-container\"><div class=\"sk-label sk-toggleable\"><input class=\"sk-toggleable__control sk-hidden--visually\" id=\"sk-estimator-id-58\" type=\"checkbox\" ><label for=\"sk-estimator-id-58\" class=\"sk-toggleable__label sk-toggleable__label-arrow\">tfidf2</label><div class=\"sk-toggleable__content\"><pre>reviewText</pre></div></div></div><div class=\"sk-serial\"><div class=\"sk-item\"><div class=\"sk-estimator sk-toggleable\"><input class=\"sk-toggleable__control sk-hidden--visually\" id=\"sk-estimator-id-59\" type=\"checkbox\" ><label for=\"sk-estimator-id-59\" class=\"sk-toggleable__label sk-toggleable__label-arrow\">TfidfVectorizer</label><div class=\"sk-toggleable__content\"><pre>TfidfVectorizer(lowercase=False, min_df=5, stop_words=[&#x27;english&#x27;])</pre></div></div></div></div></div></div><div class=\"sk-parallel-item\"><div class=\"sk-item\"><div class=\"sk-label-container\"><div class=\"sk-label sk-toggleable\"><input class=\"sk-toggleable__control sk-hidden--visually\" id=\"sk-estimator-id-60\" type=\"checkbox\" ><label for=\"sk-estimator-id-60\" class=\"sk-toggleable__label sk-toggleable__label-arrow\">tfidf3</label><div class=\"sk-toggleable__content\"><pre>title</pre></div></div></div><div class=\"sk-serial\"><div class=\"sk-item\"><div class=\"sk-estimator sk-toggleable\"><input class=\"sk-toggleable__control sk-hidden--visually\" id=\"sk-estimator-id-61\" type=\"checkbox\" ><label for=\"sk-estimator-id-61\" class=\"sk-toggleable__label sk-toggleable__label-arrow\">TfidfVectorizer</label><div class=\"sk-toggleable__content\"><pre>TfidfVectorizer(lowercase=False, min_df=5, stop_words=[&#x27;english&#x27;])</pre></div></div></div></div></div></div><div class=\"sk-parallel-item\"><div class=\"sk-item\"><div class=\"sk-label-container\"><div class=\"sk-label sk-toggleable\"><input class=\"sk-toggleable__control sk-hidden--visually\" id=\"sk-estimator-id-62\" type=\"checkbox\" ><label for=\"sk-estimator-id-62\" class=\"sk-toggleable__label sk-toggleable__label-arrow\">tfidf4</label><div class=\"sk-toggleable__content\"><pre>reviewerName</pre></div></div></div><div class=\"sk-serial\"><div class=\"sk-item\"><div class=\"sk-estimator sk-toggleable\"><input class=\"sk-toggleable__control sk-hidden--visually\" id=\"sk-estimator-id-63\" type=\"checkbox\" ><label for=\"sk-estimator-id-63\" class=\"sk-toggleable__label sk-toggleable__label-arrow\">TfidfVectorizer</label><div class=\"sk-toggleable__content\"><pre>TfidfVectorizer(lowercase=False, min_df=5, stop_words=[&#x27;english&#x27;])</pre></div></div></div></div></div></div><div class=\"sk-parallel-item\"><div class=\"sk-item\"><div class=\"sk-label-container\"><div class=\"sk-label sk-toggleable\"><input class=\"sk-toggleable__control sk-hidden--visually\" id=\"sk-estimator-id-64\" type=\"checkbox\" ><label for=\"sk-estimator-id-64\" class=\"sk-toggleable__label sk-toggleable__label-arrow\">ohe1</label><div class=\"sk-toggleable__content\"><pre>[&#x27;isTopCritic&#x27;]</pre></div></div></div><div class=\"sk-serial\"><div class=\"sk-item\"><div class=\"sk-estimator sk-toggleable\"><input class=\"sk-toggleable__control sk-hidden--visually\" id=\"sk-estimator-id-65\" type=\"checkbox\" ><label for=\"sk-estimator-id-65\" class=\"sk-toggleable__label sk-toggleable__label-arrow\">OneHotEncoder</label><div class=\"sk-toggleable__content\"><pre>OneHotEncoder()</pre></div></div></div></div></div></div><div class=\"sk-parallel-item\"><div class=\"sk-item\"><div class=\"sk-label-container\"><div class=\"sk-label sk-toggleable\"><input class=\"sk-toggleable__control sk-hidden--visually\" id=\"sk-estimator-id-66\" type=\"checkbox\" ><label for=\"sk-estimator-id-66\" class=\"sk-toggleable__label sk-toggleable__label-arrow\">ohe2</label><div class=\"sk-toggleable__content\"><pre>[&#x27;parentalGuidance&#x27;]</pre></div></div></div><div class=\"sk-serial\"><div class=\"sk-item\"><div class=\"sk-estimator sk-toggleable\"><input class=\"sk-toggleable__control sk-hidden--visually\" id=\"sk-estimator-id-67\" type=\"checkbox\" ><label for=\"sk-estimator-id-67\" class=\"sk-toggleable__label sk-toggleable__label-arrow\">OneHotEncoder</label><div class=\"sk-toggleable__content\"><pre>OneHotEncoder()</pre></div></div></div></div></div></div><div class=\"sk-parallel-item\"><div class=\"sk-item\"><div class=\"sk-label-container\"><div class=\"sk-label sk-toggleable\"><input class=\"sk-toggleable__control sk-hidden--visually\" id=\"sk-estimator-id-68\" type=\"checkbox\" ><label for=\"sk-estimator-id-68\" class=\"sk-toggleable__label sk-toggleable__label-arrow\">multi_label</label><div class=\"sk-toggleable__content\"><pre>[&#x27;genre&#x27;]</pre></div></div></div><div class=\"sk-serial\"><div class=\"sk-item\"><div class=\"sk-estimator sk-toggleable\"><input class=\"sk-toggleable__control sk-hidden--visually\" id=\"sk-estimator-id-69\" type=\"checkbox\" ><label for=\"sk-estimator-id-69\" class=\"sk-toggleable__label sk-toggleable__label-arrow\">MultiHotEncoder</label><div class=\"sk-toggleable__content\"><pre>MultiHotEncoder()</pre></div></div></div></div></div></div><div class=\"sk-parallel-item\"><div class=\"sk-item\"><div class=\"sk-label-container\"><div class=\"sk-label sk-toggleable\"><input class=\"sk-toggleable__control sk-hidden--visually\" id=\"sk-estimator-id-70\" type=\"checkbox\" ><label for=\"sk-estimator-id-70\" class=\"sk-toggleable__label sk-toggleable__label-arrow\">runtime</label><div class=\"sk-toggleable__content\"><pre>[&#x27;runtimeMinutes&#x27;]</pre></div></div></div><div class=\"sk-serial\"><div class=\"sk-item\"><div class=\"sk-serial\"><div class=\"sk-item\"><div class=\"sk-estimator sk-toggleable\"><input class=\"sk-toggleable__control sk-hidden--visually\" id=\"sk-estimator-id-71\" type=\"checkbox\" ><label for=\"sk-estimator-id-71\" class=\"sk-toggleable__label sk-toggleable__label-arrow\">SimpleImputer</label><div class=\"sk-toggleable__content\"><pre>SimpleImputer(fill_value=100.0, strategy=&#x27;constant&#x27;)</pre></div></div></div><div class=\"sk-item\"><div class=\"sk-estimator sk-toggleable\"><input class=\"sk-toggleable__control sk-hidden--visually\" id=\"sk-estimator-id-72\" type=\"checkbox\" ><label for=\"sk-estimator-id-72\" class=\"sk-toggleable__label sk-toggleable__label-arrow\">MinMaxScaler</label><div class=\"sk-toggleable__content\"><pre>MinMaxScaler()</pre></div></div></div></div></div></div></div></div><div class=\"sk-parallel-item\"><div class=\"sk-item\"><div class=\"sk-label-container\"><div class=\"sk-label sk-toggleable\"><input class=\"sk-toggleable__control sk-hidden--visually\" id=\"sk-estimator-id-73\" type=\"checkbox\" ><label for=\"sk-estimator-id-73\" class=\"sk-toggleable__label sk-toggleable__label-arrow\">audience</label><div class=\"sk-toggleable__content\"><pre>[&#x27;audienceScore&#x27;]</pre></div></div></div><div class=\"sk-serial\"><div class=\"sk-item\"><div class=\"sk-serial\"><div class=\"sk-item\"><div class=\"sk-estimator sk-toggleable\"><input class=\"sk-toggleable__control sk-hidden--visually\" id=\"sk-estimator-id-74\" type=\"checkbox\" ><label for=\"sk-estimator-id-74\" class=\"sk-toggleable__label sk-toggleable__label-arrow\">SimpleImputer</label><div class=\"sk-toggleable__content\"><pre>SimpleImputer()</pre></div></div></div><div class=\"sk-item\"><div class=\"sk-estimator sk-toggleable\"><input class=\"sk-toggleable__control sk-hidden--visually\" id=\"sk-estimator-id-75\" type=\"checkbox\" ><label for=\"sk-estimator-id-75\" class=\"sk-toggleable__label sk-toggleable__label-arrow\">MinMaxScaler</label><div class=\"sk-toggleable__content\"><pre>MinMaxScaler()</pre></div></div></div></div></div></div></div></div><div class=\"sk-parallel-item\"><div class=\"sk-item\"><div class=\"sk-label-container\"><div class=\"sk-label sk-toggleable\"><input class=\"sk-toggleable__control sk-hidden--visually\" id=\"sk-estimator-id-76\" type=\"checkbox\" ><label for=\"sk-estimator-id-76\" class=\"sk-toggleable__label sk-toggleable__label-arrow\">remainder</label><div class=\"sk-toggleable__content\"><pre></pre></div></div></div><div class=\"sk-serial\"><div class=\"sk-item\"><div class=\"sk-estimator sk-toggleable\"><input class=\"sk-toggleable__control sk-hidden--visually\" id=\"sk-estimator-id-77\" type=\"checkbox\" ><label for=\"sk-estimator-id-77\" class=\"sk-toggleable__label sk-toggleable__label-arrow\">passthrough</label><div class=\"sk-toggleable__content\"><pre>passthrough</pre></div></div></div></div></div></div></div></div><div class=\"sk-item\"><div class=\"sk-estimator sk-toggleable\"><input class=\"sk-toggleable__control sk-hidden--visually\" id=\"sk-estimator-id-78\" type=\"checkbox\" ><label for=\"sk-estimator-id-78\" class=\"sk-toggleable__label sk-toggleable__label-arrow\">LogisticRegression</label><div class=\"sk-toggleable__content\"><pre>LogisticRegression()</pre></div></div></div></div></div></div></div></div></div></div></div></div>"
      ],
      "text/plain": [
       "GridSearchCV(estimator=Pipeline(steps=[('preprocess',\n",
       "                                        ColumnTransformer(remainder='passthrough',\n",
       "                                                          transformers=[('tfidf1',\n",
       "                                                                         TfidfVectorizer(lowercase=False,\n",
       "                                                                                         min_df=5,\n",
       "                                                                                         stop_words=['english']),\n",
       "                                                                         'movieid'),\n",
       "                                                                        ('tfidf2',\n",
       "                                                                         TfidfVectorizer(lowercase=False,\n",
       "                                                                                         min_df=5,\n",
       "                                                                                         stop_words=['english']),\n",
       "                                                                         'reviewText'),\n",
       "                                                                        ('tfidf3',\n",
       "                                                                         TfidfVectorizer(lowercase=False,\n",
       "                                                                                         min_df=5,\n",
       "                                                                                         stop_words=['en...\n",
       "                                                                                          SimpleImputer(fill_value=100.0,\n",
       "                                                                                                        strategy='constant')),\n",
       "                                                                                         ('scale',\n",
       "                                                                                          MinMaxScaler())]),\n",
       "                                                                         ['runtimeMinutes']),\n",
       "                                                                        ('audience',\n",
       "                                                                         Pipeline(steps=[('impute',\n",
       "                                                                                          SimpleImputer()),\n",
       "                                                                                         ('scale',\n",
       "                                                                                          MinMaxScaler())]),\n",
       "                                                                         ['audienceScore'])])),\n",
       "                                       ('classifier', LogisticRegression())]),\n",
       "             param_grid={'classifier__C': [0.1, 1],\n",
       "                         'classifier__max_iter': [1500],\n",
       "                         'classifier__solver': ['saga']},\n",
       "             scoring='f1', verbose=5)"
      ]
     },
     "execution_count": 67,
     "metadata": {},
     "output_type": "execute_result"
    }
   ],
   "source": [
    "pipeline3 = Pipeline([\n",
    "    ('preprocess', preprocessor),\n",
    "    ('classifier', LogisticRegression())\n",
    "])\n",
    "\n",
    "params_LR = {\n",
    "    'classifier__C': [0.1, 1],\n",
    "    'classifier__max_iter': [1500 ],\n",
    "    'classifier__solver': ['saga']\n",
    "}\n",
    "\n",
    "grid_search_LR = GridSearchCV(pipeline3, params_LR, scoring='f1', verbose=5)\n",
    "grid_search_LR.fit(X,y)"
   ]
  },
  {
   "cell_type": "code",
   "execution_count": 68,
   "id": "726bd210",
   "metadata": {
    "execution": {
     "iopub.execute_input": "2023-08-13T18:19:35.199846Z",
     "iopub.status.busy": "2023-08-13T18:19:35.199484Z",
     "iopub.status.idle": "2023-08-13T18:19:35.206248Z",
     "shell.execute_reply": "2023-08-13T18:19:35.204883Z"
    },
    "papermill": {
     "duration": 0.04626,
     "end_time": "2023-08-13T18:19:35.208121",
     "exception": false,
     "start_time": "2023-08-13T18:19:35.161861",
     "status": "completed"
    },
    "tags": []
   },
   "outputs": [
    {
     "data": {
      "text/plain": [
       "{'classifier__C': 1,\n",
       " 'classifier__max_iter': 1500,\n",
       " 'classifier__solver': 'saga'}"
      ]
     },
     "execution_count": 68,
     "metadata": {},
     "output_type": "execute_result"
    }
   ],
   "source": [
    "grid_search_LR.best_params_"
   ]
  },
  {
   "cell_type": "code",
   "execution_count": 69,
   "id": "3b7a2942",
   "metadata": {
    "execution": {
     "iopub.execute_input": "2023-08-13T18:19:35.283291Z",
     "iopub.status.busy": "2023-08-13T18:19:35.282900Z",
     "iopub.status.idle": "2023-08-13T18:19:35.289893Z",
     "shell.execute_reply": "2023-08-13T18:19:35.288915Z"
    },
    "papermill": {
     "duration": 0.04704,
     "end_time": "2023-08-13T18:19:35.292284",
     "exception": false,
     "start_time": "2023-08-13T18:19:35.245244",
     "status": "completed"
    },
    "tags": []
   },
   "outputs": [
    {
     "data": {
      "text/plain": [
       "0.8765508422303989"
      ]
     },
     "execution_count": 69,
     "metadata": {},
     "output_type": "execute_result"
    }
   ],
   "source": [
    "grid_search_LR.best_score_"
   ]
  },
  {
   "cell_type": "markdown",
   "id": "045f7506",
   "metadata": {
    "papermill": {
     "duration": 0.036153,
     "end_time": "2023-08-13T18:19:35.365217",
     "exception": false,
     "start_time": "2023-08-13T18:19:35.329064",
     "status": "completed"
    },
    "tags": []
   },
   "source": [
    "## Random Forest Classifier"
   ]
  },
  {
   "cell_type": "code",
   "execution_count": 70,
   "id": "e8b1b6f2",
   "metadata": {
    "execution": {
     "iopub.execute_input": "2023-08-13T18:19:35.439933Z",
     "iopub.status.busy": "2023-08-13T18:19:35.439568Z",
     "iopub.status.idle": "2023-08-13T18:38:09.350405Z",
     "shell.execute_reply": "2023-08-13T18:38:09.349624Z"
    },
    "papermill": {
     "duration": 1113.986685,
     "end_time": "2023-08-13T18:38:09.388621",
     "exception": false,
     "start_time": "2023-08-13T18:19:35.401936",
     "status": "completed"
    },
    "tags": []
   },
   "outputs": [
    {
     "name": "stdout",
     "output_type": "stream",
     "text": [
      "Fitting 5 folds for each of 2 candidates, totalling 10 fits\n",
      "[CV 1/5] END classifier__min_samples_leaf=6, classifier__min_samples_split=12, classifier__n_estimators=128;, score=0.826 total time= 1.8min\n"
     ]
    },
    {
     "name": "stderr",
     "output_type": "stream",
     "text": [
      "/opt/conda/lib/python3.10/site-packages/sklearn/preprocessing/_label.py:895: UserWarning: unknown class(es) ['news'] will be ignored\n",
      "  warnings.warn(\n"
     ]
    },
    {
     "name": "stdout",
     "output_type": "stream",
     "text": [
      "[CV 2/5] END classifier__min_samples_leaf=6, classifier__min_samples_split=12, classifier__n_estimators=128;, score=0.828 total time= 1.8min\n",
      "[CV 3/5] END classifier__min_samples_leaf=6, classifier__min_samples_split=12, classifier__n_estimators=128;, score=0.827 total time= 1.8min\n",
      "[CV 4/5] END classifier__min_samples_leaf=6, classifier__min_samples_split=12, classifier__n_estimators=128;, score=0.825 total time= 1.8min\n"
     ]
    },
    {
     "name": "stderr",
     "output_type": "stream",
     "text": [
      "/opt/conda/lib/python3.10/site-packages/sklearn/preprocessing/_label.py:895: UserWarning: unknown class(es) ['variety'] will be ignored\n",
      "  warnings.warn(\n"
     ]
    },
    {
     "name": "stdout",
     "output_type": "stream",
     "text": [
      "[CV 5/5] END classifier__min_samples_leaf=6, classifier__min_samples_split=12, classifier__n_estimators=128;, score=0.824 total time= 1.7min\n",
      "[CV 1/5] END classifier__min_samples_leaf=8, classifier__min_samples_split=12, classifier__n_estimators=128;, score=0.822 total time= 1.5min\n"
     ]
    },
    {
     "name": "stderr",
     "output_type": "stream",
     "text": [
      "/opt/conda/lib/python3.10/site-packages/sklearn/preprocessing/_label.py:895: UserWarning: unknown class(es) ['news'] will be ignored\n",
      "  warnings.warn(\n"
     ]
    },
    {
     "name": "stdout",
     "output_type": "stream",
     "text": [
      "[CV 2/5] END classifier__min_samples_leaf=8, classifier__min_samples_split=12, classifier__n_estimators=128;, score=0.824 total time= 1.5min\n",
      "[CV 3/5] END classifier__min_samples_leaf=8, classifier__min_samples_split=12, classifier__n_estimators=128;, score=0.823 total time= 1.5min\n",
      "[CV 4/5] END classifier__min_samples_leaf=8, classifier__min_samples_split=12, classifier__n_estimators=128;, score=0.822 total time= 1.5min\n"
     ]
    },
    {
     "name": "stderr",
     "output_type": "stream",
     "text": [
      "/opt/conda/lib/python3.10/site-packages/sklearn/preprocessing/_label.py:895: UserWarning: unknown class(es) ['variety'] will be ignored\n",
      "  warnings.warn(\n"
     ]
    },
    {
     "name": "stdout",
     "output_type": "stream",
     "text": [
      "[CV 5/5] END classifier__min_samples_leaf=8, classifier__min_samples_split=12, classifier__n_estimators=128;, score=0.821 total time= 1.5min\n"
     ]
    },
    {
     "data": {
      "text/html": [
       "<style>#sk-container-id-4 {color: black;background-color: white;}#sk-container-id-4 pre{padding: 0;}#sk-container-id-4 div.sk-toggleable {background-color: white;}#sk-container-id-4 label.sk-toggleable__label {cursor: pointer;display: block;width: 100%;margin-bottom: 0;padding: 0.3em;box-sizing: border-box;text-align: center;}#sk-container-id-4 label.sk-toggleable__label-arrow:before {content: \"▸\";float: left;margin-right: 0.25em;color: #696969;}#sk-container-id-4 label.sk-toggleable__label-arrow:hover:before {color: black;}#sk-container-id-4 div.sk-estimator:hover label.sk-toggleable__label-arrow:before {color: black;}#sk-container-id-4 div.sk-toggleable__content {max-height: 0;max-width: 0;overflow: hidden;text-align: left;background-color: #f0f8ff;}#sk-container-id-4 div.sk-toggleable__content pre {margin: 0.2em;color: black;border-radius: 0.25em;background-color: #f0f8ff;}#sk-container-id-4 input.sk-toggleable__control:checked~div.sk-toggleable__content {max-height: 200px;max-width: 100%;overflow: auto;}#sk-container-id-4 input.sk-toggleable__control:checked~label.sk-toggleable__label-arrow:before {content: \"▾\";}#sk-container-id-4 div.sk-estimator input.sk-toggleable__control:checked~label.sk-toggleable__label {background-color: #d4ebff;}#sk-container-id-4 div.sk-label input.sk-toggleable__control:checked~label.sk-toggleable__label {background-color: #d4ebff;}#sk-container-id-4 input.sk-hidden--visually {border: 0;clip: rect(1px 1px 1px 1px);clip: rect(1px, 1px, 1px, 1px);height: 1px;margin: -1px;overflow: hidden;padding: 0;position: absolute;width: 1px;}#sk-container-id-4 div.sk-estimator {font-family: monospace;background-color: #f0f8ff;border: 1px dotted black;border-radius: 0.25em;box-sizing: border-box;margin-bottom: 0.5em;}#sk-container-id-4 div.sk-estimator:hover {background-color: #d4ebff;}#sk-container-id-4 div.sk-parallel-item::after {content: \"\";width: 100%;border-bottom: 1px solid gray;flex-grow: 1;}#sk-container-id-4 div.sk-label:hover label.sk-toggleable__label {background-color: #d4ebff;}#sk-container-id-4 div.sk-serial::before {content: \"\";position: absolute;border-left: 1px solid gray;box-sizing: border-box;top: 0;bottom: 0;left: 50%;z-index: 0;}#sk-container-id-4 div.sk-serial {display: flex;flex-direction: column;align-items: center;background-color: white;padding-right: 0.2em;padding-left: 0.2em;position: relative;}#sk-container-id-4 div.sk-item {position: relative;z-index: 1;}#sk-container-id-4 div.sk-parallel {display: flex;align-items: stretch;justify-content: center;background-color: white;position: relative;}#sk-container-id-4 div.sk-item::before, #sk-container-id-4 div.sk-parallel-item::before {content: \"\";position: absolute;border-left: 1px solid gray;box-sizing: border-box;top: 0;bottom: 0;left: 50%;z-index: -1;}#sk-container-id-4 div.sk-parallel-item {display: flex;flex-direction: column;z-index: 1;position: relative;background-color: white;}#sk-container-id-4 div.sk-parallel-item:first-child::after {align-self: flex-end;width: 50%;}#sk-container-id-4 div.sk-parallel-item:last-child::after {align-self: flex-start;width: 50%;}#sk-container-id-4 div.sk-parallel-item:only-child::after {width: 0;}#sk-container-id-4 div.sk-dashed-wrapped {border: 1px dashed gray;margin: 0 0.4em 0.5em 0.4em;box-sizing: border-box;padding-bottom: 0.4em;background-color: white;}#sk-container-id-4 div.sk-label label {font-family: monospace;font-weight: bold;display: inline-block;line-height: 1.2em;}#sk-container-id-4 div.sk-label-container {text-align: center;}#sk-container-id-4 div.sk-container {/* jupyter's `normalize.less` sets `[hidden] { display: none; }` but bootstrap.min.css set `[hidden] { display: none !important; }` so we also need the `!important` here to be able to override the default hidden behavior on the sphinx rendered scikit-learn.org. See: https://github.com/scikit-learn/scikit-learn/issues/21755 */display: inline-block !important;position: relative;}#sk-container-id-4 div.sk-text-repr-fallback {display: none;}</style><div id=\"sk-container-id-4\" class=\"sk-top-container\"><div class=\"sk-text-repr-fallback\"><pre>GridSearchCV(estimator=Pipeline(steps=[(&#x27;preprocess&#x27;,\n",
       "                                        ColumnTransformer(remainder=&#x27;passthrough&#x27;,\n",
       "                                                          transformers=[(&#x27;tfidf1&#x27;,\n",
       "                                                                         TfidfVectorizer(lowercase=False,\n",
       "                                                                                         min_df=5,\n",
       "                                                                                         stop_words=[&#x27;english&#x27;]),\n",
       "                                                                         &#x27;movieid&#x27;),\n",
       "                                                                        (&#x27;tfidf2&#x27;,\n",
       "                                                                         TfidfVectorizer(lowercase=False,\n",
       "                                                                                         min_df=5,\n",
       "                                                                                         stop_words=[&#x27;english&#x27;]),\n",
       "                                                                         &#x27;reviewText&#x27;),\n",
       "                                                                        (&#x27;tfidf3&#x27;,\n",
       "                                                                         TfidfVectorizer(lowercase=False,\n",
       "                                                                                         min_df=5,\n",
       "                                                                                         stop_words=[&#x27;en...\n",
       "                                                                                                        strategy=&#x27;constant&#x27;)),\n",
       "                                                                                         (&#x27;scale&#x27;,\n",
       "                                                                                          MinMaxScaler())]),\n",
       "                                                                         [&#x27;runtimeMinutes&#x27;]),\n",
       "                                                                        (&#x27;audience&#x27;,\n",
       "                                                                         Pipeline(steps=[(&#x27;impute&#x27;,\n",
       "                                                                                          SimpleImputer()),\n",
       "                                                                                         (&#x27;scale&#x27;,\n",
       "                                                                                          MinMaxScaler())]),\n",
       "                                                                         [&#x27;audienceScore&#x27;])])),\n",
       "                                       (&#x27;classifier&#x27;,\n",
       "                                        RandomForestClassifier())]),\n",
       "             param_grid={&#x27;classifier__min_samples_leaf&#x27;: [6, 8],\n",
       "                         &#x27;classifier__min_samples_split&#x27;: [12],\n",
       "                         &#x27;classifier__n_estimators&#x27;: [128]},\n",
       "             scoring=&#x27;f1&#x27;, verbose=5)</pre><b>In a Jupyter environment, please rerun this cell to show the HTML representation or trust the notebook. <br />On GitHub, the HTML representation is unable to render, please try loading this page with nbviewer.org.</b></div><div class=\"sk-container\" hidden><div class=\"sk-item sk-dashed-wrapped\"><div class=\"sk-label-container\"><div class=\"sk-label sk-toggleable\"><input class=\"sk-toggleable__control sk-hidden--visually\" id=\"sk-estimator-id-79\" type=\"checkbox\" ><label for=\"sk-estimator-id-79\" class=\"sk-toggleable__label sk-toggleable__label-arrow\">GridSearchCV</label><div class=\"sk-toggleable__content\"><pre>GridSearchCV(estimator=Pipeline(steps=[(&#x27;preprocess&#x27;,\n",
       "                                        ColumnTransformer(remainder=&#x27;passthrough&#x27;,\n",
       "                                                          transformers=[(&#x27;tfidf1&#x27;,\n",
       "                                                                         TfidfVectorizer(lowercase=False,\n",
       "                                                                                         min_df=5,\n",
       "                                                                                         stop_words=[&#x27;english&#x27;]),\n",
       "                                                                         &#x27;movieid&#x27;),\n",
       "                                                                        (&#x27;tfidf2&#x27;,\n",
       "                                                                         TfidfVectorizer(lowercase=False,\n",
       "                                                                                         min_df=5,\n",
       "                                                                                         stop_words=[&#x27;english&#x27;]),\n",
       "                                                                         &#x27;reviewText&#x27;),\n",
       "                                                                        (&#x27;tfidf3&#x27;,\n",
       "                                                                         TfidfVectorizer(lowercase=False,\n",
       "                                                                                         min_df=5,\n",
       "                                                                                         stop_words=[&#x27;en...\n",
       "                                                                                                        strategy=&#x27;constant&#x27;)),\n",
       "                                                                                         (&#x27;scale&#x27;,\n",
       "                                                                                          MinMaxScaler())]),\n",
       "                                                                         [&#x27;runtimeMinutes&#x27;]),\n",
       "                                                                        (&#x27;audience&#x27;,\n",
       "                                                                         Pipeline(steps=[(&#x27;impute&#x27;,\n",
       "                                                                                          SimpleImputer()),\n",
       "                                                                                         (&#x27;scale&#x27;,\n",
       "                                                                                          MinMaxScaler())]),\n",
       "                                                                         [&#x27;audienceScore&#x27;])])),\n",
       "                                       (&#x27;classifier&#x27;,\n",
       "                                        RandomForestClassifier())]),\n",
       "             param_grid={&#x27;classifier__min_samples_leaf&#x27;: [6, 8],\n",
       "                         &#x27;classifier__min_samples_split&#x27;: [12],\n",
       "                         &#x27;classifier__n_estimators&#x27;: [128]},\n",
       "             scoring=&#x27;f1&#x27;, verbose=5)</pre></div></div></div><div class=\"sk-parallel\"><div class=\"sk-parallel-item\"><div class=\"sk-item\"><div class=\"sk-label-container\"><div class=\"sk-label sk-toggleable\"><input class=\"sk-toggleable__control sk-hidden--visually\" id=\"sk-estimator-id-80\" type=\"checkbox\" ><label for=\"sk-estimator-id-80\" class=\"sk-toggleable__label sk-toggleable__label-arrow\">estimator: Pipeline</label><div class=\"sk-toggleable__content\"><pre>Pipeline(steps=[(&#x27;preprocess&#x27;,\n",
       "                 ColumnTransformer(remainder=&#x27;passthrough&#x27;,\n",
       "                                   transformers=[(&#x27;tfidf1&#x27;,\n",
       "                                                  TfidfVectorizer(lowercase=False,\n",
       "                                                                  min_df=5,\n",
       "                                                                  stop_words=[&#x27;english&#x27;]),\n",
       "                                                  &#x27;movieid&#x27;),\n",
       "                                                 (&#x27;tfidf2&#x27;,\n",
       "                                                  TfidfVectorizer(lowercase=False,\n",
       "                                                                  min_df=5,\n",
       "                                                                  stop_words=[&#x27;english&#x27;]),\n",
       "                                                  &#x27;reviewText&#x27;),\n",
       "                                                 (&#x27;tfidf3&#x27;,\n",
       "                                                  TfidfVectorizer(lowercase=False,\n",
       "                                                                  min_df=5,\n",
       "                                                                  stop_words=[&#x27;english&#x27;]),\n",
       "                                                  &#x27;title&#x27;),\n",
       "                                                 (&#x27;tfi...\n",
       "                                                 (&#x27;ohe2&#x27;, OneHotEncoder(),\n",
       "                                                  [&#x27;parentalGuidance&#x27;]),\n",
       "                                                 (&#x27;multi_label&#x27;,\n",
       "                                                  MultiHotEncoder(),\n",
       "                                                  [&#x27;genre&#x27;]),\n",
       "                                                 (&#x27;runtime&#x27;,\n",
       "                                                  Pipeline(steps=[(&#x27;impute&#x27;,\n",
       "                                                                   SimpleImputer(fill_value=100.0,\n",
       "                                                                                 strategy=&#x27;constant&#x27;)),\n",
       "                                                                  (&#x27;scale&#x27;,\n",
       "                                                                   MinMaxScaler())]),\n",
       "                                                  [&#x27;runtimeMinutes&#x27;]),\n",
       "                                                 (&#x27;audience&#x27;,\n",
       "                                                  Pipeline(steps=[(&#x27;impute&#x27;,\n",
       "                                                                   SimpleImputer()),\n",
       "                                                                  (&#x27;scale&#x27;,\n",
       "                                                                   MinMaxScaler())]),\n",
       "                                                  [&#x27;audienceScore&#x27;])])),\n",
       "                (&#x27;classifier&#x27;, RandomForestClassifier())])</pre></div></div></div><div class=\"sk-serial\"><div class=\"sk-item\"><div class=\"sk-serial\"><div class=\"sk-item sk-dashed-wrapped\"><div class=\"sk-label-container\"><div class=\"sk-label sk-toggleable\"><input class=\"sk-toggleable__control sk-hidden--visually\" id=\"sk-estimator-id-81\" type=\"checkbox\" ><label for=\"sk-estimator-id-81\" class=\"sk-toggleable__label sk-toggleable__label-arrow\">preprocess: ColumnTransformer</label><div class=\"sk-toggleable__content\"><pre>ColumnTransformer(remainder=&#x27;passthrough&#x27;,\n",
       "                  transformers=[(&#x27;tfidf1&#x27;,\n",
       "                                 TfidfVectorizer(lowercase=False, min_df=5,\n",
       "                                                 stop_words=[&#x27;english&#x27;]),\n",
       "                                 &#x27;movieid&#x27;),\n",
       "                                (&#x27;tfidf2&#x27;,\n",
       "                                 TfidfVectorizer(lowercase=False, min_df=5,\n",
       "                                                 stop_words=[&#x27;english&#x27;]),\n",
       "                                 &#x27;reviewText&#x27;),\n",
       "                                (&#x27;tfidf3&#x27;,\n",
       "                                 TfidfVectorizer(lowercase=False, min_df=5,\n",
       "                                                 stop_words=[&#x27;english&#x27;]),\n",
       "                                 &#x27;title&#x27;),\n",
       "                                (&#x27;tfidf4&#x27;,\n",
       "                                 TfidfVectorizer(lowercase...\n",
       "                                (&#x27;ohe1&#x27;, OneHotEncoder(), [&#x27;isTopCritic&#x27;]),\n",
       "                                (&#x27;ohe2&#x27;, OneHotEncoder(), [&#x27;parentalGuidance&#x27;]),\n",
       "                                (&#x27;multi_label&#x27;, MultiHotEncoder(), [&#x27;genre&#x27;]),\n",
       "                                (&#x27;runtime&#x27;,\n",
       "                                 Pipeline(steps=[(&#x27;impute&#x27;,\n",
       "                                                  SimpleImputer(fill_value=100.0,\n",
       "                                                                strategy=&#x27;constant&#x27;)),\n",
       "                                                 (&#x27;scale&#x27;, MinMaxScaler())]),\n",
       "                                 [&#x27;runtimeMinutes&#x27;]),\n",
       "                                (&#x27;audience&#x27;,\n",
       "                                 Pipeline(steps=[(&#x27;impute&#x27;, SimpleImputer()),\n",
       "                                                 (&#x27;scale&#x27;, MinMaxScaler())]),\n",
       "                                 [&#x27;audienceScore&#x27;])])</pre></div></div></div><div class=\"sk-parallel\"><div class=\"sk-parallel-item\"><div class=\"sk-item\"><div class=\"sk-label-container\"><div class=\"sk-label sk-toggleable\"><input class=\"sk-toggleable__control sk-hidden--visually\" id=\"sk-estimator-id-82\" type=\"checkbox\" ><label for=\"sk-estimator-id-82\" class=\"sk-toggleable__label sk-toggleable__label-arrow\">tfidf1</label><div class=\"sk-toggleable__content\"><pre>movieid</pre></div></div></div><div class=\"sk-serial\"><div class=\"sk-item\"><div class=\"sk-estimator sk-toggleable\"><input class=\"sk-toggleable__control sk-hidden--visually\" id=\"sk-estimator-id-83\" type=\"checkbox\" ><label for=\"sk-estimator-id-83\" class=\"sk-toggleable__label sk-toggleable__label-arrow\">TfidfVectorizer</label><div class=\"sk-toggleable__content\"><pre>TfidfVectorizer(lowercase=False, min_df=5, stop_words=[&#x27;english&#x27;])</pre></div></div></div></div></div></div><div class=\"sk-parallel-item\"><div class=\"sk-item\"><div class=\"sk-label-container\"><div class=\"sk-label sk-toggleable\"><input class=\"sk-toggleable__control sk-hidden--visually\" id=\"sk-estimator-id-84\" type=\"checkbox\" ><label for=\"sk-estimator-id-84\" class=\"sk-toggleable__label sk-toggleable__label-arrow\">tfidf2</label><div class=\"sk-toggleable__content\"><pre>reviewText</pre></div></div></div><div class=\"sk-serial\"><div class=\"sk-item\"><div class=\"sk-estimator sk-toggleable\"><input class=\"sk-toggleable__control sk-hidden--visually\" id=\"sk-estimator-id-85\" type=\"checkbox\" ><label for=\"sk-estimator-id-85\" class=\"sk-toggleable__label sk-toggleable__label-arrow\">TfidfVectorizer</label><div class=\"sk-toggleable__content\"><pre>TfidfVectorizer(lowercase=False, min_df=5, stop_words=[&#x27;english&#x27;])</pre></div></div></div></div></div></div><div class=\"sk-parallel-item\"><div class=\"sk-item\"><div class=\"sk-label-container\"><div class=\"sk-label sk-toggleable\"><input class=\"sk-toggleable__control sk-hidden--visually\" id=\"sk-estimator-id-86\" type=\"checkbox\" ><label for=\"sk-estimator-id-86\" class=\"sk-toggleable__label sk-toggleable__label-arrow\">tfidf3</label><div class=\"sk-toggleable__content\"><pre>title</pre></div></div></div><div class=\"sk-serial\"><div class=\"sk-item\"><div class=\"sk-estimator sk-toggleable\"><input class=\"sk-toggleable__control sk-hidden--visually\" id=\"sk-estimator-id-87\" type=\"checkbox\" ><label for=\"sk-estimator-id-87\" class=\"sk-toggleable__label sk-toggleable__label-arrow\">TfidfVectorizer</label><div class=\"sk-toggleable__content\"><pre>TfidfVectorizer(lowercase=False, min_df=5, stop_words=[&#x27;english&#x27;])</pre></div></div></div></div></div></div><div class=\"sk-parallel-item\"><div class=\"sk-item\"><div class=\"sk-label-container\"><div class=\"sk-label sk-toggleable\"><input class=\"sk-toggleable__control sk-hidden--visually\" id=\"sk-estimator-id-88\" type=\"checkbox\" ><label for=\"sk-estimator-id-88\" class=\"sk-toggleable__label sk-toggleable__label-arrow\">tfidf4</label><div class=\"sk-toggleable__content\"><pre>reviewerName</pre></div></div></div><div class=\"sk-serial\"><div class=\"sk-item\"><div class=\"sk-estimator sk-toggleable\"><input class=\"sk-toggleable__control sk-hidden--visually\" id=\"sk-estimator-id-89\" type=\"checkbox\" ><label for=\"sk-estimator-id-89\" class=\"sk-toggleable__label sk-toggleable__label-arrow\">TfidfVectorizer</label><div class=\"sk-toggleable__content\"><pre>TfidfVectorizer(lowercase=False, min_df=5, stop_words=[&#x27;english&#x27;])</pre></div></div></div></div></div></div><div class=\"sk-parallel-item\"><div class=\"sk-item\"><div class=\"sk-label-container\"><div class=\"sk-label sk-toggleable\"><input class=\"sk-toggleable__control sk-hidden--visually\" id=\"sk-estimator-id-90\" type=\"checkbox\" ><label for=\"sk-estimator-id-90\" class=\"sk-toggleable__label sk-toggleable__label-arrow\">ohe1</label><div class=\"sk-toggleable__content\"><pre>[&#x27;isTopCritic&#x27;]</pre></div></div></div><div class=\"sk-serial\"><div class=\"sk-item\"><div class=\"sk-estimator sk-toggleable\"><input class=\"sk-toggleable__control sk-hidden--visually\" id=\"sk-estimator-id-91\" type=\"checkbox\" ><label for=\"sk-estimator-id-91\" class=\"sk-toggleable__label sk-toggleable__label-arrow\">OneHotEncoder</label><div class=\"sk-toggleable__content\"><pre>OneHotEncoder()</pre></div></div></div></div></div></div><div class=\"sk-parallel-item\"><div class=\"sk-item\"><div class=\"sk-label-container\"><div class=\"sk-label sk-toggleable\"><input class=\"sk-toggleable__control sk-hidden--visually\" id=\"sk-estimator-id-92\" type=\"checkbox\" ><label for=\"sk-estimator-id-92\" class=\"sk-toggleable__label sk-toggleable__label-arrow\">ohe2</label><div class=\"sk-toggleable__content\"><pre>[&#x27;parentalGuidance&#x27;]</pre></div></div></div><div class=\"sk-serial\"><div class=\"sk-item\"><div class=\"sk-estimator sk-toggleable\"><input class=\"sk-toggleable__control sk-hidden--visually\" id=\"sk-estimator-id-93\" type=\"checkbox\" ><label for=\"sk-estimator-id-93\" class=\"sk-toggleable__label sk-toggleable__label-arrow\">OneHotEncoder</label><div class=\"sk-toggleable__content\"><pre>OneHotEncoder()</pre></div></div></div></div></div></div><div class=\"sk-parallel-item\"><div class=\"sk-item\"><div class=\"sk-label-container\"><div class=\"sk-label sk-toggleable\"><input class=\"sk-toggleable__control sk-hidden--visually\" id=\"sk-estimator-id-94\" type=\"checkbox\" ><label for=\"sk-estimator-id-94\" class=\"sk-toggleable__label sk-toggleable__label-arrow\">multi_label</label><div class=\"sk-toggleable__content\"><pre>[&#x27;genre&#x27;]</pre></div></div></div><div class=\"sk-serial\"><div class=\"sk-item\"><div class=\"sk-estimator sk-toggleable\"><input class=\"sk-toggleable__control sk-hidden--visually\" id=\"sk-estimator-id-95\" type=\"checkbox\" ><label for=\"sk-estimator-id-95\" class=\"sk-toggleable__label sk-toggleable__label-arrow\">MultiHotEncoder</label><div class=\"sk-toggleable__content\"><pre>MultiHotEncoder()</pre></div></div></div></div></div></div><div class=\"sk-parallel-item\"><div class=\"sk-item\"><div class=\"sk-label-container\"><div class=\"sk-label sk-toggleable\"><input class=\"sk-toggleable__control sk-hidden--visually\" id=\"sk-estimator-id-96\" type=\"checkbox\" ><label for=\"sk-estimator-id-96\" class=\"sk-toggleable__label sk-toggleable__label-arrow\">runtime</label><div class=\"sk-toggleable__content\"><pre>[&#x27;runtimeMinutes&#x27;]</pre></div></div></div><div class=\"sk-serial\"><div class=\"sk-item\"><div class=\"sk-serial\"><div class=\"sk-item\"><div class=\"sk-estimator sk-toggleable\"><input class=\"sk-toggleable__control sk-hidden--visually\" id=\"sk-estimator-id-97\" type=\"checkbox\" ><label for=\"sk-estimator-id-97\" class=\"sk-toggleable__label sk-toggleable__label-arrow\">SimpleImputer</label><div class=\"sk-toggleable__content\"><pre>SimpleImputer(fill_value=100.0, strategy=&#x27;constant&#x27;)</pre></div></div></div><div class=\"sk-item\"><div class=\"sk-estimator sk-toggleable\"><input class=\"sk-toggleable__control sk-hidden--visually\" id=\"sk-estimator-id-98\" type=\"checkbox\" ><label for=\"sk-estimator-id-98\" class=\"sk-toggleable__label sk-toggleable__label-arrow\">MinMaxScaler</label><div class=\"sk-toggleable__content\"><pre>MinMaxScaler()</pre></div></div></div></div></div></div></div></div><div class=\"sk-parallel-item\"><div class=\"sk-item\"><div class=\"sk-label-container\"><div class=\"sk-label sk-toggleable\"><input class=\"sk-toggleable__control sk-hidden--visually\" id=\"sk-estimator-id-99\" type=\"checkbox\" ><label for=\"sk-estimator-id-99\" class=\"sk-toggleable__label sk-toggleable__label-arrow\">audience</label><div class=\"sk-toggleable__content\"><pre>[&#x27;audienceScore&#x27;]</pre></div></div></div><div class=\"sk-serial\"><div class=\"sk-item\"><div class=\"sk-serial\"><div class=\"sk-item\"><div class=\"sk-estimator sk-toggleable\"><input class=\"sk-toggleable__control sk-hidden--visually\" id=\"sk-estimator-id-100\" type=\"checkbox\" ><label for=\"sk-estimator-id-100\" class=\"sk-toggleable__label sk-toggleable__label-arrow\">SimpleImputer</label><div class=\"sk-toggleable__content\"><pre>SimpleImputer()</pre></div></div></div><div class=\"sk-item\"><div class=\"sk-estimator sk-toggleable\"><input class=\"sk-toggleable__control sk-hidden--visually\" id=\"sk-estimator-id-101\" type=\"checkbox\" ><label for=\"sk-estimator-id-101\" class=\"sk-toggleable__label sk-toggleable__label-arrow\">MinMaxScaler</label><div class=\"sk-toggleable__content\"><pre>MinMaxScaler()</pre></div></div></div></div></div></div></div></div><div class=\"sk-parallel-item\"><div class=\"sk-item\"><div class=\"sk-label-container\"><div class=\"sk-label sk-toggleable\"><input class=\"sk-toggleable__control sk-hidden--visually\" id=\"sk-estimator-id-102\" type=\"checkbox\" ><label for=\"sk-estimator-id-102\" class=\"sk-toggleable__label sk-toggleable__label-arrow\">remainder</label><div class=\"sk-toggleable__content\"><pre></pre></div></div></div><div class=\"sk-serial\"><div class=\"sk-item\"><div class=\"sk-estimator sk-toggleable\"><input class=\"sk-toggleable__control sk-hidden--visually\" id=\"sk-estimator-id-103\" type=\"checkbox\" ><label for=\"sk-estimator-id-103\" class=\"sk-toggleable__label sk-toggleable__label-arrow\">passthrough</label><div class=\"sk-toggleable__content\"><pre>passthrough</pre></div></div></div></div></div></div></div></div><div class=\"sk-item\"><div class=\"sk-estimator sk-toggleable\"><input class=\"sk-toggleable__control sk-hidden--visually\" id=\"sk-estimator-id-104\" type=\"checkbox\" ><label for=\"sk-estimator-id-104\" class=\"sk-toggleable__label sk-toggleable__label-arrow\">RandomForestClassifier</label><div class=\"sk-toggleable__content\"><pre>RandomForestClassifier()</pre></div></div></div></div></div></div></div></div></div></div></div></div>"
      ],
      "text/plain": [
       "GridSearchCV(estimator=Pipeline(steps=[('preprocess',\n",
       "                                        ColumnTransformer(remainder='passthrough',\n",
       "                                                          transformers=[('tfidf1',\n",
       "                                                                         TfidfVectorizer(lowercase=False,\n",
       "                                                                                         min_df=5,\n",
       "                                                                                         stop_words=['english']),\n",
       "                                                                         'movieid'),\n",
       "                                                                        ('tfidf2',\n",
       "                                                                         TfidfVectorizer(lowercase=False,\n",
       "                                                                                         min_df=5,\n",
       "                                                                                         stop_words=['english']),\n",
       "                                                                         'reviewText'),\n",
       "                                                                        ('tfidf3',\n",
       "                                                                         TfidfVectorizer(lowercase=False,\n",
       "                                                                                         min_df=5,\n",
       "                                                                                         stop_words=['en...\n",
       "                                                                                                        strategy='constant')),\n",
       "                                                                                         ('scale',\n",
       "                                                                                          MinMaxScaler())]),\n",
       "                                                                         ['runtimeMinutes']),\n",
       "                                                                        ('audience',\n",
       "                                                                         Pipeline(steps=[('impute',\n",
       "                                                                                          SimpleImputer()),\n",
       "                                                                                         ('scale',\n",
       "                                                                                          MinMaxScaler())]),\n",
       "                                                                         ['audienceScore'])])),\n",
       "                                       ('classifier',\n",
       "                                        RandomForestClassifier())]),\n",
       "             param_grid={'classifier__min_samples_leaf': [6, 8],\n",
       "                         'classifier__min_samples_split': [12],\n",
       "                         'classifier__n_estimators': [128]},\n",
       "             scoring='f1', verbose=5)"
      ]
     },
     "execution_count": 70,
     "metadata": {},
     "output_type": "execute_result"
    }
   ],
   "source": [
    "pipeline4 = Pipeline([\n",
    "    ('preprocess', preprocessor),\n",
    "    ('classifier', RandomForestClassifier())\n",
    "])\n",
    "\n",
    "params_RFC = {\n",
    "    'classifier__n_estimators' : [128],\n",
    "    'classifier__min_samples_split': [12],\n",
    "    'classifier__min_samples_leaf' : [6, 8]\n",
    "}\n",
    "grid_search_RFC = GridSearchCV(pipeline4, params_RFC, scoring='f1', verbose=5)\n",
    "grid_search_RFC.fit(X,y)"
   ]
  },
  {
   "cell_type": "code",
   "execution_count": 71,
   "id": "5111dbd7",
   "metadata": {
    "execution": {
     "iopub.execute_input": "2023-08-13T18:38:09.463843Z",
     "iopub.status.busy": "2023-08-13T18:38:09.463318Z",
     "iopub.status.idle": "2023-08-13T18:38:09.468787Z",
     "shell.execute_reply": "2023-08-13T18:38:09.467982Z"
    },
    "papermill": {
     "duration": 0.045362,
     "end_time": "2023-08-13T18:38:09.470516",
     "exception": false,
     "start_time": "2023-08-13T18:38:09.425154",
     "status": "completed"
    },
    "tags": []
   },
   "outputs": [
    {
     "data": {
      "text/plain": [
       "{'classifier__min_samples_leaf': 6,\n",
       " 'classifier__min_samples_split': 12,\n",
       " 'classifier__n_estimators': 128}"
      ]
     },
     "execution_count": 71,
     "metadata": {},
     "output_type": "execute_result"
    }
   ],
   "source": [
    "grid_search_RFC.best_params_"
   ]
  },
  {
   "cell_type": "code",
   "execution_count": 72,
   "id": "47cb0a2b",
   "metadata": {
    "execution": {
     "iopub.execute_input": "2023-08-13T18:38:09.546075Z",
     "iopub.status.busy": "2023-08-13T18:38:09.545594Z",
     "iopub.status.idle": "2023-08-13T18:38:09.550844Z",
     "shell.execute_reply": "2023-08-13T18:38:09.549975Z"
    },
    "papermill": {
     "duration": 0.045291,
     "end_time": "2023-08-13T18:38:09.552461",
     "exception": false,
     "start_time": "2023-08-13T18:38:09.507170",
     "status": "completed"
    },
    "tags": []
   },
   "outputs": [
    {
     "data": {
      "text/plain": [
       "0.8258465052980559"
      ]
     },
     "execution_count": 72,
     "metadata": {},
     "output_type": "execute_result"
    }
   ],
   "source": [
    "grid_search_RFC.best_score_"
   ]
  },
  {
   "cell_type": "code",
   "execution_count": 73,
   "id": "d4324bda",
   "metadata": {
    "execution": {
     "iopub.execute_input": "2023-08-13T18:38:09.629108Z",
     "iopub.status.busy": "2023-08-13T18:38:09.628634Z",
     "iopub.status.idle": "2023-08-13T18:38:09.633167Z",
     "shell.execute_reply": "2023-08-13T18:38:09.632104Z"
    },
    "papermill": {
     "duration": 0.046219,
     "end_time": "2023-08-13T18:38:09.635989",
     "exception": false,
     "start_time": "2023-08-13T18:38:09.589770",
     "status": "completed"
    },
    "tags": []
   },
   "outputs": [],
   "source": [
    "modelScores = {\n",
    "    'MutlinomialNB' : grid_search_NB.best_score_,\n",
    "    'LinearSVC' : grid_search_LSVC.best_score_,\n",
    "    'Logistic Regression' : grid_search_LR.best_score_,\n",
    "    'RandomForestClassifier' : grid_search_RFC.best_score_\n",
    "}"
   ]
  },
  {
   "cell_type": "markdown",
   "id": "50eb8b87",
   "metadata": {
    "papermill": {
     "duration": 0.036823,
     "end_time": "2023-08-13T18:38:09.711356",
     "exception": false,
     "start_time": "2023-08-13T18:38:09.674533",
     "status": "completed"
    },
    "tags": []
   },
   "source": [
    "## Visualizing and Comparing Scores"
   ]
  },
  {
   "cell_type": "code",
   "execution_count": 74,
   "id": "bd514ad4",
   "metadata": {
    "execution": {
     "iopub.execute_input": "2023-08-13T18:38:09.792121Z",
     "iopub.status.busy": "2023-08-13T18:38:09.791518Z",
     "iopub.status.idle": "2023-08-13T18:38:10.010013Z",
     "shell.execute_reply": "2023-08-13T18:38:10.009006Z"
    },
    "papermill": {
     "duration": 0.262117,
     "end_time": "2023-08-13T18:38:10.012091",
     "exception": false,
     "start_time": "2023-08-13T18:38:09.749974",
     "status": "completed"
    },
    "tags": []
   },
   "outputs": [
    {
     "data": {
      "image/png": "[encoded data removed]",
      "text/plain": [
       "<Figure size 1000x600 with 1 Axes>"
      ]
     },
     "metadata": {},
     "output_type": "display_data"
    }
   ],
   "source": [
    "plt.figure(figsize=(10,6))\n",
    "plt.bar(modelScores.keys(), modelScores.values(), color='salmon')\n",
    "plt.xlabel('Model Name')\n",
    "plt.ylabel('Score')\n",
    "plt.title('Comparision of Scores')\n",
    "plt.xticks(rotation=90)\n",
    "plt.ylim(0.6,1)\n",
    "plt.show()"
   ]
  },
  {
   "cell_type": "markdown",
   "id": "5447ae6c",
   "metadata": {
    "execution": {
     "iopub.execute_input": "2023-08-12T18:13:30.209512Z",
     "iopub.status.busy": "2023-08-12T18:13:30.208924Z",
     "iopub.status.idle": "2023-08-12T18:13:30.220467Z",
     "shell.execute_reply": "2023-08-12T18:13:30.219140Z",
     "shell.execute_reply.started": "2023-08-12T18:13:30.209480Z"
    },
    "papermill": {
     "duration": 0.037899,
     "end_time": "2023-08-13T18:38:10.088282",
     "exception": false,
     "start_time": "2023-08-13T18:38:10.050383",
     "status": "completed"
    },
    "tags": []
   },
   "source": [
    "### We Notice that `LinearSVC` and `LogisticRegression` perform the best among the chosen algorithms\n",
    "\n",
    "Lets have a closer look at their mertics"
   ]
  },
  {
   "cell_type": "markdown",
   "id": "a7519b86",
   "metadata": {
    "papermill": {
     "duration": 0.037592,
     "end_time": "2023-08-13T18:38:10.162948",
     "exception": false,
     "start_time": "2023-08-13T18:38:10.125356",
     "status": "completed"
    },
    "tags": []
   },
   "source": [
    "#### LinearSVC"
   ]
  },
  {
   "cell_type": "code",
   "execution_count": 75,
   "id": "7f5d561f",
   "metadata": {
    "execution": {
     "iopub.execute_input": "2023-08-13T18:38:10.241633Z",
     "iopub.status.busy": "2023-08-13T18:38:10.240650Z",
     "iopub.status.idle": "2023-08-13T18:38:10.314223Z",
     "shell.execute_reply": "2023-08-13T18:38:10.312870Z"
    },
    "papermill": {
     "duration": 0.115664,
     "end_time": "2023-08-13T18:38:10.316869",
     "exception": false,
     "start_time": "2023-08-13T18:38:10.201205",
     "status": "completed"
    },
    "tags": []
   },
   "outputs": [],
   "source": [
    "X_train, X_test, y_train, y_test = train_test_split( X, y, test_size=0.2, random_state = 42)"
   ]
  },
  {
   "cell_type": "code",
   "execution_count": 76,
   "id": "c30006f2",
   "metadata": {
    "execution": {
     "iopub.execute_input": "2023-08-13T18:38:10.398663Z",
     "iopub.status.busy": "2023-08-13T18:38:10.398260Z",
     "iopub.status.idle": "2023-08-13T18:38:11.716383Z",
     "shell.execute_reply": "2023-08-13T18:38:11.715560Z"
    },
    "papermill": {
     "duration": 1.361752,
     "end_time": "2023-08-13T18:38:11.718181",
     "exception": false,
     "start_time": "2023-08-13T18:38:10.356429",
     "status": "completed"
    },
    "tags": []
   },
   "outputs": [
    {
     "data": {
      "text/plain": [
       "array([1, 0, 0, ..., 1, 1, 1])"
      ]
     },
     "execution_count": 76,
     "metadata": {},
     "output_type": "execute_result"
    }
   ],
   "source": [
    "lsvc_preds = grid_search_LSVC.best_estimator_.predict(X_test)\n",
    "lsvc_preds"
   ]
  },
  {
   "cell_type": "code",
   "execution_count": 77,
   "id": "05cfb774",
   "metadata": {
    "execution": {
     "iopub.execute_input": "2023-08-13T18:38:11.795426Z",
     "iopub.status.busy": "2023-08-13T18:38:11.794962Z",
     "iopub.status.idle": "2023-08-13T18:38:11.841446Z",
     "shell.execute_reply": "2023-08-13T18:38:11.840351Z"
    },
    "papermill": {
     "duration": 0.087694,
     "end_time": "2023-08-13T18:38:11.843573",
     "exception": false,
     "start_time": "2023-08-13T18:38:11.755879",
     "status": "completed"
    },
    "tags": []
   },
   "outputs": [
    {
     "name": "stdout",
     "output_type": "stream",
     "text": [
      "              precision    recall  f1-score   support\n",
      "\n",
      "           0       0.76      0.85      0.80      9512\n",
      "           1       0.94      0.89      0.91     23040\n",
      "\n",
      "    accuracy                           0.88     32552\n",
      "   macro avg       0.85      0.87      0.86     32552\n",
      "weighted avg       0.88      0.88      0.88     32552\n",
      "\n"
     ]
    }
   ],
   "source": [
    "print(classification_report(lsvc_preds, y_test))"
   ]
  },
  {
   "cell_type": "markdown",
   "id": "7756deb1",
   "metadata": {
    "papermill": {
     "duration": 0.038644,
     "end_time": "2023-08-13T18:38:11.922117",
     "exception": false,
     "start_time": "2023-08-13T18:38:11.883473",
     "status": "completed"
    },
    "tags": []
   },
   "source": [
    "#### Logistic Regression"
   ]
  },
  {
   "cell_type": "code",
   "execution_count": 78,
   "id": "244ce85a",
   "metadata": {
    "execution": {
     "iopub.execute_input": "2023-08-13T18:38:12.001018Z",
     "iopub.status.busy": "2023-08-13T18:38:12.000441Z",
     "iopub.status.idle": "2023-08-13T18:38:13.331584Z",
     "shell.execute_reply": "2023-08-13T18:38:13.330309Z"
    },
    "papermill": {
     "duration": 1.37382,
     "end_time": "2023-08-13T18:38:13.334402",
     "exception": false,
     "start_time": "2023-08-13T18:38:11.960582",
     "status": "completed"
    },
    "tags": []
   },
   "outputs": [
    {
     "data": {
      "text/plain": [
       "array([1, 0, 0, ..., 1, 1, 1])"
      ]
     },
     "execution_count": 78,
     "metadata": {},
     "output_type": "execute_result"
    }
   ],
   "source": [
    "lr_preds = grid_search_LR.best_estimator_.predict(X_test)\n",
    "lr_preds"
   ]
  },
  {
   "cell_type": "code",
   "execution_count": 79,
   "id": "a65273d8",
   "metadata": {
    "execution": {
     "iopub.execute_input": "2023-08-13T18:38:13.414432Z",
     "iopub.status.busy": "2023-08-13T18:38:13.413542Z",
     "iopub.status.idle": "2023-08-13T18:38:13.462268Z",
     "shell.execute_reply": "2023-08-13T18:38:13.461493Z"
    },
    "papermill": {
     "duration": 0.090916,
     "end_time": "2023-08-13T18:38:13.464377",
     "exception": false,
     "start_time": "2023-08-13T18:38:13.373461",
     "status": "completed"
    },
    "tags": []
   },
   "outputs": [
    {
     "name": "stdout",
     "output_type": "stream",
     "text": [
      "              precision    recall  f1-score   support\n",
      "\n",
      "           0       0.76      0.85      0.80      9512\n",
      "           1       0.93      0.89      0.91     23040\n",
      "\n",
      "    accuracy                           0.88     32552\n",
      "   macro avg       0.85      0.87      0.86     32552\n",
      "weighted avg       0.88      0.88      0.88     32552\n",
      "\n"
     ]
    }
   ],
   "source": [
    "print(classification_report(lr_preds, y_test))"
   ]
  },
  {
   "cell_type": "markdown",
   "id": "912ca3cc",
   "metadata": {
    "papermill": {
     "duration": 0.038787,
     "end_time": "2023-08-13T18:38:13.542386",
     "exception": false,
     "start_time": "2023-08-13T18:38:13.503599",
     "status": "completed"
    },
    "tags": []
   },
   "source": [
    "#### Compare `accuracy`, `precision`, `recall`"
   ]
  },
  {
   "cell_type": "code",
   "execution_count": 80,
   "id": "be9df06c",
   "metadata": {
    "execution": {
     "iopub.execute_input": "2023-08-13T18:38:13.640472Z",
     "iopub.status.busy": "2023-08-13T18:38:13.639901Z",
     "iopub.status.idle": "2023-08-13T18:38:13.904985Z",
     "shell.execute_reply": "2023-08-13T18:38:13.903628Z"
    },
    "papermill": {
     "duration": 0.315956,
     "end_time": "2023-08-13T18:38:13.907240",
     "exception": false,
     "start_time": "2023-08-13T18:38:13.591284",
     "status": "completed"
    },
    "tags": []
   },
   "outputs": [
    {
     "data": {
      "image/png": "[encoded data removed]",
      "text/plain": [
       "<Figure size 640x480 with 1 Axes>"
      ]
     },
     "metadata": {},
     "output_type": "display_data"
    }
   ],
   "source": [
    "model_names = ['LinearSVC', 'LogisticRegression']\n",
    "\n",
    "accuracy_values = [accuracy_score(lsvc_preds, y_test), accuracy_score(lr_preds, y_test)]\n",
    "precision_values = [precision_score(lsvc_preds, y_test), precision_score(lr_preds, y_test)]\n",
    "f1_values = [f1_score(lsvc_preds, y_test), f1_score(lr_preds, y_test)]\n",
    "recall_values = [recall_score(lsvc_preds, y_test), recall_score(lr_preds, y_test)]\n",
    "\n",
    "bar_width = 0.2\n",
    "\n",
    "index = np.arange(len(model_names))\n",
    "\n",
    "plt.bar(index, accuracy_values, width=bar_width, label='Accuracy')\n",
    "plt.bar(index + bar_width, precision_values, width=bar_width, label='Precision')\n",
    "plt.bar(index + 2 * bar_width, recall_values, width=bar_width, label='Recall')\n",
    "plt.bar(index + 3 * bar_width, f1_values, width=bar_width, label='Recall')\n",
    "\n",
    "plt.xlabel('Models')\n",
    "plt.ylabel('Metric Values')\n",
    "plt.title('Comparison of Metrics for Different Models')\n",
    "plt.xticks(index + bar_width, model_names)\n",
    "plt.legend()\n",
    "plt.show()"
   ]
  },
  {
   "cell_type": "markdown",
   "id": "d0cd3ed5",
   "metadata": {
    "papermill": {
     "duration": 0.037814,
     "end_time": "2023-08-13T18:38:13.983963",
     "exception": false,
     "start_time": "2023-08-13T18:38:13.946149",
     "status": "completed"
    },
    "tags": []
   },
   "source": [
    "### Lets also try out `VotingClassifier`"
   ]
  },
  {
   "cell_type": "code",
   "execution_count": 81,
   "id": "32688038",
   "metadata": {
    "execution": {
     "iopub.execute_input": "2023-08-13T18:38:14.062768Z",
     "iopub.status.busy": "2023-08-13T18:38:14.062060Z",
     "iopub.status.idle": "2023-08-13T18:38:14.067379Z",
     "shell.execute_reply": "2023-08-13T18:38:14.066620Z"
    },
    "papermill": {
     "duration": 0.047016,
     "end_time": "2023-08-13T18:38:14.069186",
     "exception": false,
     "start_time": "2023-08-13T18:38:14.022170",
     "status": "completed"
    },
    "tags": []
   },
   "outputs": [],
   "source": [
    "estimators = [\n",
    "    ('MutlinomialNB', MultinomialNB(alpha=0.1)),\n",
    "    ('LogisticRegression', LogisticRegression( C=1, max_iter=1500, solver='saga')),\n",
    "    ('RandomForestClassifier', RandomForestClassifier(n_estimators = 128, min_samples_leaf = 6, min_samples_split = 12))\n",
    "]"
   ]
  },
  {
   "cell_type": "code",
   "execution_count": 82,
   "id": "1033c637",
   "metadata": {
    "execution": {
     "iopub.execute_input": "2023-08-13T18:38:14.151966Z",
     "iopub.status.busy": "2023-08-13T18:38:14.151368Z",
     "iopub.status.idle": "2023-08-13T18:38:14.156082Z",
     "shell.execute_reply": "2023-08-13T18:38:14.154736Z"
    },
    "papermill": {
     "duration": 0.049463,
     "end_time": "2023-08-13T18:38:14.158862",
     "exception": false,
     "start_time": "2023-08-13T18:38:14.109399",
     "status": "completed"
    },
    "tags": []
   },
   "outputs": [],
   "source": [
    "voting = VotingClassifier(estimators = estimators)"
   ]
  },
  {
   "cell_type": "code",
   "execution_count": 83,
   "id": "ab5d5e40",
   "metadata": {
    "execution": {
     "iopub.execute_input": "2023-08-13T18:38:14.239319Z",
     "iopub.status.busy": "2023-08-13T18:38:14.238970Z",
     "iopub.status.idle": "2023-08-13T18:38:14.244298Z",
     "shell.execute_reply": "2023-08-13T18:38:14.243615Z"
    },
    "papermill": {
     "duration": 0.047307,
     "end_time": "2023-08-13T18:38:14.245970",
     "exception": false,
     "start_time": "2023-08-13T18:38:14.198663",
     "status": "completed"
    },
    "tags": []
   },
   "outputs": [],
   "source": [
    "voting_pipeline = Pipeline([\n",
    "    ('preprocess', preprocessor),\n",
    "    ('voting', voting)\n",
    "])\n",
    "\n",
    "params_voting = {\n",
    "    'voting__voting' : ['soft'],\n",
    "    'voting__weights' : [[1 , 2, 1]]\n",
    "}"
   ]
  },
  {
   "cell_type": "code",
   "execution_count": 84,
   "id": "9c5fec28",
   "metadata": {
    "execution": {
     "iopub.execute_input": "2023-08-13T18:38:14.327052Z",
     "iopub.status.busy": "2023-08-13T18:38:14.326084Z",
     "iopub.status.idle": "2023-08-13T18:51:42.632369Z",
     "shell.execute_reply": "2023-08-13T18:51:42.630900Z"
    },
    "papermill": {
     "duration": 808.388338,
     "end_time": "2023-08-13T18:51:42.673495",
     "exception": false,
     "start_time": "2023-08-13T18:38:14.285157",
     "status": "completed"
    },
    "tags": []
   },
   "outputs": [
    {
     "name": "stdout",
     "output_type": "stream",
     "text": [
      "Fitting 5 folds for each of 1 candidates, totalling 5 fits\n",
      "[CV 1/5] END voting__voting=soft, voting__weights=[1, 2, 1];, score=0.874 total time= 2.0min\n"
     ]
    },
    {
     "name": "stderr",
     "output_type": "stream",
     "text": [
      "/opt/conda/lib/python3.10/site-packages/sklearn/preprocessing/_label.py:895: UserWarning: unknown class(es) ['news'] will be ignored\n",
      "  warnings.warn(\n"
     ]
    },
    {
     "name": "stdout",
     "output_type": "stream",
     "text": [
      "[CV 2/5] END voting__voting=soft, voting__weights=[1, 2, 1];, score=0.876 total time= 2.0min\n",
      "[CV 3/5] END voting__voting=soft, voting__weights=[1, 2, 1];, score=0.877 total time= 2.3min\n",
      "[CV 4/5] END voting__voting=soft, voting__weights=[1, 2, 1];, score=0.873 total time= 2.1min\n"
     ]
    },
    {
     "name": "stderr",
     "output_type": "stream",
     "text": [
      "/opt/conda/lib/python3.10/site-packages/sklearn/preprocessing/_label.py:895: UserWarning: unknown class(es) ['variety'] will be ignored\n",
      "  warnings.warn(\n"
     ]
    },
    {
     "name": "stdout",
     "output_type": "stream",
     "text": [
      "[CV 5/5] END voting__voting=soft, voting__weights=[1, 2, 1];, score=0.875 total time= 2.2min\n"
     ]
    },
    {
     "data": {
      "text/html": [
       "<style>#sk-container-id-5 {color: black;background-color: white;}#sk-container-id-5 pre{padding: 0;}#sk-container-id-5 div.sk-toggleable {background-color: white;}#sk-container-id-5 label.sk-toggleable__label {cursor: pointer;display: block;width: 100%;margin-bottom: 0;padding: 0.3em;box-sizing: border-box;text-align: center;}#sk-container-id-5 label.sk-toggleable__label-arrow:before {content: \"▸\";float: left;margin-right: 0.25em;color: #696969;}#sk-container-id-5 label.sk-toggleable__label-arrow:hover:before {color: black;}#sk-container-id-5 div.sk-estimator:hover label.sk-toggleable__label-arrow:before {color: black;}#sk-container-id-5 div.sk-toggleable__content {max-height: 0;max-width: 0;overflow: hidden;text-align: left;background-color: #f0f8ff;}#sk-container-id-5 div.sk-toggleable__content pre {margin: 0.2em;color: black;border-radius: 0.25em;background-color: #f0f8ff;}#sk-container-id-5 input.sk-toggleable__control:checked~div.sk-toggleable__content {max-height: 200px;max-width: 100%;overflow: auto;}#sk-container-id-5 input.sk-toggleable__control:checked~label.sk-toggleable__label-arrow:before {content: \"▾\";}#sk-container-id-5 div.sk-estimator input.sk-toggleable__control:checked~label.sk-toggleable__label {background-color: #d4ebff;}#sk-container-id-5 div.sk-label input.sk-toggleable__control:checked~label.sk-toggleable__label {background-color: #d4ebff;}#sk-container-id-5 input.sk-hidden--visually {border: 0;clip: rect(1px 1px 1px 1px);clip: rect(1px, 1px, 1px, 1px);height: 1px;margin: -1px;overflow: hidden;padding: 0;position: absolute;width: 1px;}#sk-container-id-5 div.sk-estimator {font-family: monospace;background-color: #f0f8ff;border: 1px dotted black;border-radius: 0.25em;box-sizing: border-box;margin-bottom: 0.5em;}#sk-container-id-5 div.sk-estimator:hover {background-color: #d4ebff;}#sk-container-id-5 div.sk-parallel-item::after {content: \"\";width: 100%;border-bottom: 1px solid gray;flex-grow: 1;}#sk-container-id-5 div.sk-label:hover label.sk-toggleable__label {background-color: #d4ebff;}#sk-container-id-5 div.sk-serial::before {content: \"\";position: absolute;border-left: 1px solid gray;box-sizing: border-box;top: 0;bottom: 0;left: 50%;z-index: 0;}#sk-container-id-5 div.sk-serial {display: flex;flex-direction: column;align-items: center;background-color: white;padding-right: 0.2em;padding-left: 0.2em;position: relative;}#sk-container-id-5 div.sk-item {position: relative;z-index: 1;}#sk-container-id-5 div.sk-parallel {display: flex;align-items: stretch;justify-content: center;background-color: white;position: relative;}#sk-container-id-5 div.sk-item::before, #sk-container-id-5 div.sk-parallel-item::before {content: \"\";position: absolute;border-left: 1px solid gray;box-sizing: border-box;top: 0;bottom: 0;left: 50%;z-index: -1;}#sk-container-id-5 div.sk-parallel-item {display: flex;flex-direction: column;z-index: 1;position: relative;background-color: white;}#sk-container-id-5 div.sk-parallel-item:first-child::after {align-self: flex-end;width: 50%;}#sk-container-id-5 div.sk-parallel-item:last-child::after {align-self: flex-start;width: 50%;}#sk-container-id-5 div.sk-parallel-item:only-child::after {width: 0;}#sk-container-id-5 div.sk-dashed-wrapped {border: 1px dashed gray;margin: 0 0.4em 0.5em 0.4em;box-sizing: border-box;padding-bottom: 0.4em;background-color: white;}#sk-container-id-5 div.sk-label label {font-family: monospace;font-weight: bold;display: inline-block;line-height: 1.2em;}#sk-container-id-5 div.sk-label-container {text-align: center;}#sk-container-id-5 div.sk-container {/* jupyter's `normalize.less` sets `[hidden] { display: none; }` but bootstrap.min.css set `[hidden] { display: none !important; }` so we also need the `!important` here to be able to override the default hidden behavior on the sphinx rendered scikit-learn.org. See: https://github.com/scikit-learn/scikit-learn/issues/21755 */display: inline-block !important;position: relative;}#sk-container-id-5 div.sk-text-repr-fallback {display: none;}</style><div id=\"sk-container-id-5\" class=\"sk-top-container\"><div class=\"sk-text-repr-fallback\"><pre>GridSearchCV(estimator=Pipeline(steps=[(&#x27;preprocess&#x27;,\n",
       "                                        ColumnTransformer(remainder=&#x27;passthrough&#x27;,\n",
       "                                                          transformers=[(&#x27;tfidf1&#x27;,\n",
       "                                                                         TfidfVectorizer(lowercase=False,\n",
       "                                                                                         min_df=5,\n",
       "                                                                                         stop_words=[&#x27;english&#x27;]),\n",
       "                                                                         &#x27;movieid&#x27;),\n",
       "                                                                        (&#x27;tfidf2&#x27;,\n",
       "                                                                         TfidfVectorizer(lowercase=False,\n",
       "                                                                                         min_df=5,\n",
       "                                                                                         stop_words=[&#x27;english&#x27;]),\n",
       "                                                                         &#x27;reviewText&#x27;),\n",
       "                                                                        (&#x27;tfidf3&#x27;,\n",
       "                                                                         TfidfVectorizer(lowercase=False,\n",
       "                                                                                         min_df=5,\n",
       "                                                                                         stop_words=[&#x27;en...\n",
       "                                        VotingClassifier(estimators=[(&#x27;MutlinomialNB&#x27;,\n",
       "                                                                      MultinomialNB(alpha=0.1)),\n",
       "                                                                     (&#x27;LogisticRegression&#x27;,\n",
       "                                                                      LogisticRegression(C=1,\n",
       "                                                                                         max_iter=1500,\n",
       "                                                                                         solver=&#x27;saga&#x27;)),\n",
       "                                                                     (&#x27;RandomForestClassifier&#x27;,\n",
       "                                                                      RandomForestClassifier(min_samples_leaf=6,\n",
       "                                                                                             min_samples_split=12,\n",
       "                                                                                             n_estimators=128))]))]),\n",
       "             param_grid={&#x27;voting__voting&#x27;: [&#x27;soft&#x27;],\n",
       "                         &#x27;voting__weights&#x27;: [[1, 2, 1]]},\n",
       "             scoring=&#x27;f1&#x27;, verbose=5)</pre><b>In a Jupyter environment, please rerun this cell to show the HTML representation or trust the notebook. <br />On GitHub, the HTML representation is unable to render, please try loading this page with nbviewer.org.</b></div><div class=\"sk-container\" hidden><div class=\"sk-item sk-dashed-wrapped\"><div class=\"sk-label-container\"><div class=\"sk-label sk-toggleable\"><input class=\"sk-toggleable__control sk-hidden--visually\" id=\"sk-estimator-id-105\" type=\"checkbox\" ><label for=\"sk-estimator-id-105\" class=\"sk-toggleable__label sk-toggleable__label-arrow\">GridSearchCV</label><div class=\"sk-toggleable__content\"><pre>GridSearchCV(estimator=Pipeline(steps=[(&#x27;preprocess&#x27;,\n",
       "                                        ColumnTransformer(remainder=&#x27;passthrough&#x27;,\n",
       "                                                          transformers=[(&#x27;tfidf1&#x27;,\n",
       "                                                                         TfidfVectorizer(lowercase=False,\n",
       "                                                                                         min_df=5,\n",
       "                                                                                         stop_words=[&#x27;english&#x27;]),\n",
       "                                                                         &#x27;movieid&#x27;),\n",
       "                                                                        (&#x27;tfidf2&#x27;,\n",
       "                                                                         TfidfVectorizer(lowercase=False,\n",
       "                                                                                         min_df=5,\n",
       "                                                                                         stop_words=[&#x27;english&#x27;]),\n",
       "                                                                         &#x27;reviewText&#x27;),\n",
       "                                                                        (&#x27;tfidf3&#x27;,\n",
       "                                                                         TfidfVectorizer(lowercase=False,\n",
       "                                                                                         min_df=5,\n",
       "                                                                                         stop_words=[&#x27;en...\n",
       "                                        VotingClassifier(estimators=[(&#x27;MutlinomialNB&#x27;,\n",
       "                                                                      MultinomialNB(alpha=0.1)),\n",
       "                                                                     (&#x27;LogisticRegression&#x27;,\n",
       "                                                                      LogisticRegression(C=1,\n",
       "                                                                                         max_iter=1500,\n",
       "                                                                                         solver=&#x27;saga&#x27;)),\n",
       "                                                                     (&#x27;RandomForestClassifier&#x27;,\n",
       "                                                                      RandomForestClassifier(min_samples_leaf=6,\n",
       "                                                                                             min_samples_split=12,\n",
       "                                                                                             n_estimators=128))]))]),\n",
       "             param_grid={&#x27;voting__voting&#x27;: [&#x27;soft&#x27;],\n",
       "                         &#x27;voting__weights&#x27;: [[1, 2, 1]]},\n",
       "             scoring=&#x27;f1&#x27;, verbose=5)</pre></div></div></div><div class=\"sk-parallel\"><div class=\"sk-parallel-item\"><div class=\"sk-item\"><div class=\"sk-label-container\"><div class=\"sk-label sk-toggleable\"><input class=\"sk-toggleable__control sk-hidden--visually\" id=\"sk-estimator-id-106\" type=\"checkbox\" ><label for=\"sk-estimator-id-106\" class=\"sk-toggleable__label sk-toggleable__label-arrow\">estimator: Pipeline</label><div class=\"sk-toggleable__content\"><pre>Pipeline(steps=[(&#x27;preprocess&#x27;,\n",
       "                 ColumnTransformer(remainder=&#x27;passthrough&#x27;,\n",
       "                                   transformers=[(&#x27;tfidf1&#x27;,\n",
       "                                                  TfidfVectorizer(lowercase=False,\n",
       "                                                                  min_df=5,\n",
       "                                                                  stop_words=[&#x27;english&#x27;]),\n",
       "                                                  &#x27;movieid&#x27;),\n",
       "                                                 (&#x27;tfidf2&#x27;,\n",
       "                                                  TfidfVectorizer(lowercase=False,\n",
       "                                                                  min_df=5,\n",
       "                                                                  stop_words=[&#x27;english&#x27;]),\n",
       "                                                  &#x27;reviewText&#x27;),\n",
       "                                                 (&#x27;tfidf3&#x27;,\n",
       "                                                  TfidfVectorizer(lowercase=False,\n",
       "                                                                  min_df=5,\n",
       "                                                                  stop_words=[&#x27;english&#x27;]),\n",
       "                                                  &#x27;title&#x27;),\n",
       "                                                 (&#x27;tfi...\n",
       "                                                  Pipeline(steps=[(&#x27;impute&#x27;,\n",
       "                                                                   SimpleImputer()),\n",
       "                                                                  (&#x27;scale&#x27;,\n",
       "                                                                   MinMaxScaler())]),\n",
       "                                                  [&#x27;audienceScore&#x27;])])),\n",
       "                (&#x27;voting&#x27;,\n",
       "                 VotingClassifier(estimators=[(&#x27;MutlinomialNB&#x27;,\n",
       "                                               MultinomialNB(alpha=0.1)),\n",
       "                                              (&#x27;LogisticRegression&#x27;,\n",
       "                                               LogisticRegression(C=1,\n",
       "                                                                  max_iter=1500,\n",
       "                                                                  solver=&#x27;saga&#x27;)),\n",
       "                                              (&#x27;RandomForestClassifier&#x27;,\n",
       "                                               RandomForestClassifier(min_samples_leaf=6,\n",
       "                                                                      min_samples_split=12,\n",
       "                                                                      n_estimators=128))]))])</pre></div></div></div><div class=\"sk-serial\"><div class=\"sk-item\"><div class=\"sk-serial\"><div class=\"sk-item sk-dashed-wrapped\"><div class=\"sk-label-container\"><div class=\"sk-label sk-toggleable\"><input class=\"sk-toggleable__control sk-hidden--visually\" id=\"sk-estimator-id-107\" type=\"checkbox\" ><label for=\"sk-estimator-id-107\" class=\"sk-toggleable__label sk-toggleable__label-arrow\">preprocess: ColumnTransformer</label><div class=\"sk-toggleable__content\"><pre>ColumnTransformer(remainder=&#x27;passthrough&#x27;,\n",
       "                  transformers=[(&#x27;tfidf1&#x27;,\n",
       "                                 TfidfVectorizer(lowercase=False, min_df=5,\n",
       "                                                 stop_words=[&#x27;english&#x27;]),\n",
       "                                 &#x27;movieid&#x27;),\n",
       "                                (&#x27;tfidf2&#x27;,\n",
       "                                 TfidfVectorizer(lowercase=False, min_df=5,\n",
       "                                                 stop_words=[&#x27;english&#x27;]),\n",
       "                                 &#x27;reviewText&#x27;),\n",
       "                                (&#x27;tfidf3&#x27;,\n",
       "                                 TfidfVectorizer(lowercase=False, min_df=5,\n",
       "                                                 stop_words=[&#x27;english&#x27;]),\n",
       "                                 &#x27;title&#x27;),\n",
       "                                (&#x27;tfidf4&#x27;,\n",
       "                                 TfidfVectorizer(lowercase...\n",
       "                                (&#x27;ohe1&#x27;, OneHotEncoder(), [&#x27;isTopCritic&#x27;]),\n",
       "                                (&#x27;ohe2&#x27;, OneHotEncoder(), [&#x27;parentalGuidance&#x27;]),\n",
       "                                (&#x27;multi_label&#x27;, MultiHotEncoder(), [&#x27;genre&#x27;]),\n",
       "                                (&#x27;runtime&#x27;,\n",
       "                                 Pipeline(steps=[(&#x27;impute&#x27;,\n",
       "                                                  SimpleImputer(fill_value=100.0,\n",
       "                                                                strategy=&#x27;constant&#x27;)),\n",
       "                                                 (&#x27;scale&#x27;, MinMaxScaler())]),\n",
       "                                 [&#x27;runtimeMinutes&#x27;]),\n",
       "                                (&#x27;audience&#x27;,\n",
       "                                 Pipeline(steps=[(&#x27;impute&#x27;, SimpleImputer()),\n",
       "                                                 (&#x27;scale&#x27;, MinMaxScaler())]),\n",
       "                                 [&#x27;audienceScore&#x27;])])</pre></div></div></div><div class=\"sk-parallel\"><div class=\"sk-parallel-item\"><div class=\"sk-item\"><div class=\"sk-label-container\"><div class=\"sk-label sk-toggleable\"><input class=\"sk-toggleable__control sk-hidden--visually\" id=\"sk-estimator-id-108\" type=\"checkbox\" ><label for=\"sk-estimator-id-108\" class=\"sk-toggleable__label sk-toggleable__label-arrow\">tfidf1</label><div class=\"sk-toggleable__content\"><pre>movieid</pre></div></div></div><div class=\"sk-serial\"><div class=\"sk-item\"><div class=\"sk-estimator sk-toggleable\"><input class=\"sk-toggleable__control sk-hidden--visually\" id=\"sk-estimator-id-109\" type=\"checkbox\" ><label for=\"sk-estimator-id-109\" class=\"sk-toggleable__label sk-toggleable__label-arrow\">TfidfVectorizer</label><div class=\"sk-toggleable__content\"><pre>TfidfVectorizer(lowercase=False, min_df=5, stop_words=[&#x27;english&#x27;])</pre></div></div></div></div></div></div><div class=\"sk-parallel-item\"><div class=\"sk-item\"><div class=\"sk-label-container\"><div class=\"sk-label sk-toggleable\"><input class=\"sk-toggleable__control sk-hidden--visually\" id=\"sk-estimator-id-110\" type=\"checkbox\" ><label for=\"sk-estimator-id-110\" class=\"sk-toggleable__label sk-toggleable__label-arrow\">tfidf2</label><div class=\"sk-toggleable__content\"><pre>reviewText</pre></div></div></div><div class=\"sk-serial\"><div class=\"sk-item\"><div class=\"sk-estimator sk-toggleable\"><input class=\"sk-toggleable__control sk-hidden--visually\" id=\"sk-estimator-id-111\" type=\"checkbox\" ><label for=\"sk-estimator-id-111\" class=\"sk-toggleable__label sk-toggleable__label-arrow\">TfidfVectorizer</label><div class=\"sk-toggleable__content\"><pre>TfidfVectorizer(lowercase=False, min_df=5, stop_words=[&#x27;english&#x27;])</pre></div></div></div></div></div></div><div class=\"sk-parallel-item\"><div class=\"sk-item\"><div class=\"sk-label-container\"><div class=\"sk-label sk-toggleable\"><input class=\"sk-toggleable__control sk-hidden--visually\" id=\"sk-estimator-id-112\" type=\"checkbox\" ><label for=\"sk-estimator-id-112\" class=\"sk-toggleable__label sk-toggleable__label-arrow\">tfidf3</label><div class=\"sk-toggleable__content\"><pre>title</pre></div></div></div><div class=\"sk-serial\"><div class=\"sk-item\"><div class=\"sk-estimator sk-toggleable\"><input class=\"sk-toggleable__control sk-hidden--visually\" id=\"sk-estimator-id-113\" type=\"checkbox\" ><label for=\"sk-estimator-id-113\" class=\"sk-toggleable__label sk-toggleable__label-arrow\">TfidfVectorizer</label><div class=\"sk-toggleable__content\"><pre>TfidfVectorizer(lowercase=False, min_df=5, stop_words=[&#x27;english&#x27;])</pre></div></div></div></div></div></div><div class=\"sk-parallel-item\"><div class=\"sk-item\"><div class=\"sk-label-container\"><div class=\"sk-label sk-toggleable\"><input class=\"sk-toggleable__control sk-hidden--visually\" id=\"sk-estimator-id-114\" type=\"checkbox\" ><label for=\"sk-estimator-id-114\" class=\"sk-toggleable__label sk-toggleable__label-arrow\">tfidf4</label><div class=\"sk-toggleable__content\"><pre>reviewerName</pre></div></div></div><div class=\"sk-serial\"><div class=\"sk-item\"><div class=\"sk-estimator sk-toggleable\"><input class=\"sk-toggleable__control sk-hidden--visually\" id=\"sk-estimator-id-115\" type=\"checkbox\" ><label for=\"sk-estimator-id-115\" class=\"sk-toggleable__label sk-toggleable__label-arrow\">TfidfVectorizer</label><div class=\"sk-toggleable__content\"><pre>TfidfVectorizer(lowercase=False, min_df=5, stop_words=[&#x27;english&#x27;])</pre></div></div></div></div></div></div><div class=\"sk-parallel-item\"><div class=\"sk-item\"><div class=\"sk-label-container\"><div class=\"sk-label sk-toggleable\"><input class=\"sk-toggleable__control sk-hidden--visually\" id=\"sk-estimator-id-116\" type=\"checkbox\" ><label for=\"sk-estimator-id-116\" class=\"sk-toggleable__label sk-toggleable__label-arrow\">ohe1</label><div class=\"sk-toggleable__content\"><pre>[&#x27;isTopCritic&#x27;]</pre></div></div></div><div class=\"sk-serial\"><div class=\"sk-item\"><div class=\"sk-estimator sk-toggleable\"><input class=\"sk-toggleable__control sk-hidden--visually\" id=\"sk-estimator-id-117\" type=\"checkbox\" ><label for=\"sk-estimator-id-117\" class=\"sk-toggleable__label sk-toggleable__label-arrow\">OneHotEncoder</label><div class=\"sk-toggleable__content\"><pre>OneHotEncoder()</pre></div></div></div></div></div></div><div class=\"sk-parallel-item\"><div class=\"sk-item\"><div class=\"sk-label-container\"><div class=\"sk-label sk-toggleable\"><input class=\"sk-toggleable__control sk-hidden--visually\" id=\"sk-estimator-id-118\" type=\"checkbox\" ><label for=\"sk-estimator-id-118\" class=\"sk-toggleable__label sk-toggleable__label-arrow\">ohe2</label><div class=\"sk-toggleable__content\"><pre>[&#x27;parentalGuidance&#x27;]</pre></div></div></div><div class=\"sk-serial\"><div class=\"sk-item\"><div class=\"sk-estimator sk-toggleable\"><input class=\"sk-toggleable__control sk-hidden--visually\" id=\"sk-estimator-id-119\" type=\"checkbox\" ><label for=\"sk-estimator-id-119\" class=\"sk-toggleable__label sk-toggleable__label-arrow\">OneHotEncoder</label><div class=\"sk-toggleable__content\"><pre>OneHotEncoder()</pre></div></div></div></div></div></div><div class=\"sk-parallel-item\"><div class=\"sk-item\"><div class=\"sk-label-container\"><div class=\"sk-label sk-toggleable\"><input class=\"sk-toggleable__control sk-hidden--visually\" id=\"sk-estimator-id-120\" type=\"checkbox\" ><label for=\"sk-estimator-id-120\" class=\"sk-toggleable__label sk-toggleable__label-arrow\">multi_label</label><div class=\"sk-toggleable__content\"><pre>[&#x27;genre&#x27;]</pre></div></div></div><div class=\"sk-serial\"><div class=\"sk-item\"><div class=\"sk-estimator sk-toggleable\"><input class=\"sk-toggleable__control sk-hidden--visually\" id=\"sk-estimator-id-121\" type=\"checkbox\" ><label for=\"sk-estimator-id-121\" class=\"sk-toggleable__label sk-toggleable__label-arrow\">MultiHotEncoder</label><div class=\"sk-toggleable__content\"><pre>MultiHotEncoder()</pre></div></div></div></div></div></div><div class=\"sk-parallel-item\"><div class=\"sk-item\"><div class=\"sk-label-container\"><div class=\"sk-label sk-toggleable\"><input class=\"sk-toggleable__control sk-hidden--visually\" id=\"sk-estimator-id-122\" type=\"checkbox\" ><label for=\"sk-estimator-id-122\" class=\"sk-toggleable__label sk-toggleable__label-arrow\">runtime</label><div class=\"sk-toggleable__content\"><pre>[&#x27;runtimeMinutes&#x27;]</pre></div></div></div><div class=\"sk-serial\"><div class=\"sk-item\"><div class=\"sk-serial\"><div class=\"sk-item\"><div class=\"sk-estimator sk-toggleable\"><input class=\"sk-toggleable__control sk-hidden--visually\" id=\"sk-estimator-id-123\" type=\"checkbox\" ><label for=\"sk-estimator-id-123\" class=\"sk-toggleable__label sk-toggleable__label-arrow\">SimpleImputer</label><div class=\"sk-toggleable__content\"><pre>SimpleImputer(fill_value=100.0, strategy=&#x27;constant&#x27;)</pre></div></div></div><div class=\"sk-item\"><div class=\"sk-estimator sk-toggleable\"><input class=\"sk-toggleable__control sk-hidden--visually\" id=\"sk-estimator-id-124\" type=\"checkbox\" ><label for=\"sk-estimator-id-124\" class=\"sk-toggleable__label sk-toggleable__label-arrow\">MinMaxScaler</label><div class=\"sk-toggleable__content\"><pre>MinMaxScaler()</pre></div></div></div></div></div></div></div></div><div class=\"sk-parallel-item\"><div class=\"sk-item\"><div class=\"sk-label-container\"><div class=\"sk-label sk-toggleable\"><input class=\"sk-toggleable__control sk-hidden--visually\" id=\"sk-estimator-id-125\" type=\"checkbox\" ><label for=\"sk-estimator-id-125\" class=\"sk-toggleable__label sk-toggleable__label-arrow\">audience</label><div class=\"sk-toggleable__content\"><pre>[&#x27;audienceScore&#x27;]</pre></div></div></div><div class=\"sk-serial\"><div class=\"sk-item\"><div class=\"sk-serial\"><div class=\"sk-item\"><div class=\"sk-estimator sk-toggleable\"><input class=\"sk-toggleable__control sk-hidden--visually\" id=\"sk-estimator-id-126\" type=\"checkbox\" ><label for=\"sk-estimator-id-126\" class=\"sk-toggleable__label sk-toggleable__label-arrow\">SimpleImputer</label><div class=\"sk-toggleable__content\"><pre>SimpleImputer()</pre></div></div></div><div class=\"sk-item\"><div class=\"sk-estimator sk-toggleable\"><input class=\"sk-toggleable__control sk-hidden--visually\" id=\"sk-estimator-id-127\" type=\"checkbox\" ><label for=\"sk-estimator-id-127\" class=\"sk-toggleable__label sk-toggleable__label-arrow\">MinMaxScaler</label><div class=\"sk-toggleable__content\"><pre>MinMaxScaler()</pre></div></div></div></div></div></div></div></div><div class=\"sk-parallel-item\"><div class=\"sk-item\"><div class=\"sk-label-container\"><div class=\"sk-label sk-toggleable\"><input class=\"sk-toggleable__control sk-hidden--visually\" id=\"sk-estimator-id-128\" type=\"checkbox\" ><label for=\"sk-estimator-id-128\" class=\"sk-toggleable__label sk-toggleable__label-arrow\">remainder</label><div class=\"sk-toggleable__content\"><pre></pre></div></div></div><div class=\"sk-serial\"><div class=\"sk-item\"><div class=\"sk-estimator sk-toggleable\"><input class=\"sk-toggleable__control sk-hidden--visually\" id=\"sk-estimator-id-129\" type=\"checkbox\" ><label for=\"sk-estimator-id-129\" class=\"sk-toggleable__label sk-toggleable__label-arrow\">passthrough</label><div class=\"sk-toggleable__content\"><pre>passthrough</pre></div></div></div></div></div></div></div></div><div class=\"sk-item sk-dashed-wrapped\"><div class=\"sk-label-container\"><div class=\"sk-label sk-toggleable\"><input class=\"sk-toggleable__control sk-hidden--visually\" id=\"sk-estimator-id-130\" type=\"checkbox\" ><label for=\"sk-estimator-id-130\" class=\"sk-toggleable__label sk-toggleable__label-arrow\">voting: VotingClassifier</label><div class=\"sk-toggleable__content\"><pre>VotingClassifier(estimators=[(&#x27;MutlinomialNB&#x27;, MultinomialNB(alpha=0.1)),\n",
       "                             (&#x27;LogisticRegression&#x27;,\n",
       "                              LogisticRegression(C=1, max_iter=1500,\n",
       "                                                 solver=&#x27;saga&#x27;)),\n",
       "                             (&#x27;RandomForestClassifier&#x27;,\n",
       "                              RandomForestClassifier(min_samples_leaf=6,\n",
       "                                                     min_samples_split=12,\n",
       "                                                     n_estimators=128))])</pre></div></div></div><div class=\"sk-parallel\"><div class=\"sk-parallel-item\"><div class=\"sk-item\"><div class=\"sk-label-container\"><div class=\"sk-label sk-toggleable\"><label>MutlinomialNB</label></div></div><div class=\"sk-serial\"><div class=\"sk-item\"><div class=\"sk-estimator sk-toggleable\"><input class=\"sk-toggleable__control sk-hidden--visually\" id=\"sk-estimator-id-131\" type=\"checkbox\" ><label for=\"sk-estimator-id-131\" class=\"sk-toggleable__label sk-toggleable__label-arrow\">MultinomialNB</label><div class=\"sk-toggleable__content\"><pre>MultinomialNB(alpha=0.1)</pre></div></div></div></div></div></div><div class=\"sk-parallel-item\"><div class=\"sk-item\"><div class=\"sk-label-container\"><div class=\"sk-label sk-toggleable\"><label>LogisticRegression</label></div></div><div class=\"sk-serial\"><div class=\"sk-item\"><div class=\"sk-estimator sk-toggleable\"><input class=\"sk-toggleable__control sk-hidden--visually\" id=\"sk-estimator-id-132\" type=\"checkbox\" ><label for=\"sk-estimator-id-132\" class=\"sk-toggleable__label sk-toggleable__label-arrow\">LogisticRegression</label><div class=\"sk-toggleable__content\"><pre>LogisticRegression(C=1, max_iter=1500, solver=&#x27;saga&#x27;)</pre></div></div></div></div></div></div><div class=\"sk-parallel-item\"><div class=\"sk-item\"><div class=\"sk-label-container\"><div class=\"sk-label sk-toggleable\"><label>RandomForestClassifier</label></div></div><div class=\"sk-serial\"><div class=\"sk-item\"><div class=\"sk-estimator sk-toggleable\"><input class=\"sk-toggleable__control sk-hidden--visually\" id=\"sk-estimator-id-133\" type=\"checkbox\" ><label for=\"sk-estimator-id-133\" class=\"sk-toggleable__label sk-toggleable__label-arrow\">RandomForestClassifier</label><div class=\"sk-toggleable__content\"><pre>RandomForestClassifier(min_samples_leaf=6, min_samples_split=12,\n",
       "                       n_estimators=128)</pre></div></div></div></div></div></div></div></div></div></div></div></div></div></div></div></div></div>"
      ],
      "text/plain": [
       "GridSearchCV(estimator=Pipeline(steps=[('preprocess',\n",
       "                                        ColumnTransformer(remainder='passthrough',\n",
       "                                                          transformers=[('tfidf1',\n",
       "                                                                         TfidfVectorizer(lowercase=False,\n",
       "                                                                                         min_df=5,\n",
       "                                                                                         stop_words=['english']),\n",
       "                                                                         'movieid'),\n",
       "                                                                        ('tfidf2',\n",
       "                                                                         TfidfVectorizer(lowercase=False,\n",
       "                                                                                         min_df=5,\n",
       "                                                                                         stop_words=['english']),\n",
       "                                                                         'reviewText'),\n",
       "                                                                        ('tfidf3',\n",
       "                                                                         TfidfVectorizer(lowercase=False,\n",
       "                                                                                         min_df=5,\n",
       "                                                                                         stop_words=['en...\n",
       "                                        VotingClassifier(estimators=[('MutlinomialNB',\n",
       "                                                                      MultinomialNB(alpha=0.1)),\n",
       "                                                                     ('LogisticRegression',\n",
       "                                                                      LogisticRegression(C=1,\n",
       "                                                                                         max_iter=1500,\n",
       "                                                                                         solver='saga')),\n",
       "                                                                     ('RandomForestClassifier',\n",
       "                                                                      RandomForestClassifier(min_samples_leaf=6,\n",
       "                                                                                             min_samples_split=12,\n",
       "                                                                                             n_estimators=128))]))]),\n",
       "             param_grid={'voting__voting': ['soft'],\n",
       "                         'voting__weights': [[1, 2, 1]]},\n",
       "             scoring='f1', verbose=5)"
      ]
     },
     "execution_count": 84,
     "metadata": {},
     "output_type": "execute_result"
    }
   ],
   "source": [
    "grid_search_voting = GridSearchCV(voting_pipeline, params_voting, scoring='f1', verbose=5)\n",
    "grid_search_voting.fit(X,y)"
   ]
  },
  {
   "cell_type": "code",
   "execution_count": 85,
   "id": "18908f99",
   "metadata": {
    "execution": {
     "iopub.execute_input": "2023-08-13T18:51:42.755853Z",
     "iopub.status.busy": "2023-08-13T18:51:42.755461Z",
     "iopub.status.idle": "2023-08-13T18:51:42.760273Z",
     "shell.execute_reply": "2023-08-13T18:51:42.759640Z"
    },
    "papermill": {
     "duration": 0.048132,
     "end_time": "2023-08-13T18:51:42.762527",
     "exception": false,
     "start_time": "2023-08-13T18:51:42.714395",
     "status": "completed"
    },
    "tags": []
   },
   "outputs": [
    {
     "data": {
      "text/plain": [
       "{'voting__voting': 'soft', 'voting__weights': [1, 2, 1]}"
      ]
     },
     "execution_count": 85,
     "metadata": {},
     "output_type": "execute_result"
    }
   ],
   "source": [
    "grid_search_voting.best_params_"
   ]
  },
  {
   "cell_type": "code",
   "execution_count": 86,
   "id": "449fecdb",
   "metadata": {
    "execution": {
     "iopub.execute_input": "2023-08-13T18:51:42.845395Z",
     "iopub.status.busy": "2023-08-13T18:51:42.844999Z",
     "iopub.status.idle": "2023-08-13T18:51:42.851484Z",
     "shell.execute_reply": "2023-08-13T18:51:42.850326Z"
    },
    "papermill": {
     "duration": 0.050505,
     "end_time": "2023-08-13T18:51:42.854119",
     "exception": false,
     "start_time": "2023-08-13T18:51:42.803614",
     "status": "completed"
    },
    "tags": []
   },
   "outputs": [
    {
     "data": {
      "text/plain": [
       "0.8750182367878339"
      ]
     },
     "execution_count": 86,
     "metadata": {},
     "output_type": "execute_result"
    }
   ],
   "source": [
    "grid_search_voting.best_score_"
   ]
  },
  {
   "cell_type": "code",
   "execution_count": 87,
   "id": "33129592",
   "metadata": {
    "execution": {
     "iopub.execute_input": "2023-08-13T18:51:42.942069Z",
     "iopub.status.busy": "2023-08-13T18:51:42.941692Z",
     "iopub.status.idle": "2023-08-13T18:51:42.948761Z",
     "shell.execute_reply": "2023-08-13T18:51:42.947170Z"
    },
    "papermill": {
     "duration": 0.055071,
     "end_time": "2023-08-13T18:51:42.951889",
     "exception": false,
     "start_time": "2023-08-13T18:51:42.896818",
     "status": "completed"
    },
    "tags": []
   },
   "outputs": [],
   "source": [
    "def create_csv(predictions):\n",
    "    sentiment = {0:'NEGATIVE', 1:'POSITIVE'}\n",
    "    predictions = [sentiment[prediction] for prediction in predictions]\n",
    "    df = pd.DataFrame({'sentiment': predictions})\n",
    "    df.to_csv('submission.csv', index_label='id')\n",
    "    print('Creating CSV.....Please wait...')\n",
    "    time.sleep(1)\n",
    "    print('submission.csv created.')"
   ]
  },
  {
   "cell_type": "code",
   "execution_count": 88,
   "id": "1736fff0",
   "metadata": {
    "execution": {
     "iopub.execute_input": "2023-08-13T18:51:43.033204Z",
     "iopub.status.busy": "2023-08-13T18:51:43.032697Z",
     "iopub.status.idle": "2023-08-13T18:51:43.039320Z",
     "shell.execute_reply": "2023-08-13T18:51:43.037530Z"
    },
    "papermill": {
     "duration": 0.050588,
     "end_time": "2023-08-13T18:51:43.042129",
     "exception": false,
     "start_time": "2023-08-13T18:51:42.991541",
     "status": "completed"
    },
    "tags": []
   },
   "outputs": [],
   "source": [
    "# nb = grid_search_NB.best_estimator_.predict(test)  # 0.79262\n",
    "# lr = grid_search_LR.best_estimator_.predict(test) #0.83275\n",
    "# voting = grid_search_voting.best_estimator_.predict(test) #0.82"
   ]
  },
  {
   "cell_type": "markdown",
   "id": "4ba5cbe2",
   "metadata": {
    "papermill": {
     "duration": 0.039757,
     "end_time": "2023-08-13T18:51:43.122004",
     "exception": false,
     "start_time": "2023-08-13T18:51:43.082247",
     "status": "completed"
    },
    "tags": []
   },
   "source": [
    "### Since `LinearSVC` has the best score. I am choosing it as my final model"
   ]
  },
  {
   "cell_type": "code",
   "execution_count": 89,
   "id": "b18ef58f",
   "metadata": {
    "execution": {
     "iopub.execute_input": "2023-08-13T18:51:43.205684Z",
     "iopub.status.busy": "2023-08-13T18:51:43.205278Z",
     "iopub.status.idle": "2023-08-13T18:51:45.419677Z",
     "shell.execute_reply": "2023-08-13T18:51:45.418172Z"
    },
    "papermill": {
     "duration": 2.259191,
     "end_time": "2023-08-13T18:51:45.422306",
     "exception": false,
     "start_time": "2023-08-13T18:51:43.163115",
     "status": "completed"
    },
    "tags": []
   },
   "outputs": [],
   "source": [
    "lsvc = grid_search_LSVC.best_estimator_.predict(test) # 0.83342"
   ]
  },
  {
   "cell_type": "code",
   "execution_count": 90,
   "id": "8d8131ea",
   "metadata": {
    "execution": {
     "iopub.execute_input": "2023-08-13T18:51:45.526155Z",
     "iopub.status.busy": "2023-08-13T18:51:45.525295Z",
     "iopub.status.idle": "2023-08-13T18:51:46.645099Z",
     "shell.execute_reply": "2023-08-13T18:51:46.642850Z"
    },
    "papermill": {
     "duration": 1.17632,
     "end_time": "2023-08-13T18:51:46.647792",
     "exception": false,
     "start_time": "2023-08-13T18:51:45.471472",
     "status": "completed"
    },
    "tags": []
   },
   "outputs": [
    {
     "name": "stdout",
     "output_type": "stream",
     "text": [
      "Creating CSV.....Please wait...\n",
      "submission.csv created.\n"
     ]
    }
   ],
   "source": [
    "create_csv(lsvc)"
   ]
  }
 ],
 "metadata": {
  "kernelspec": {
   "display_name": "Python 3 (ipykernel)",
   "language": "python",
   "name": "python3"
  },
  "language_info": {
   "codemirror_mode": {
    "name": "ipython",
    "version": 3
   },
   "file_extension": ".py",
   "mimetype": "text/x-python",
   "name": "python",
   "nbconvert_exporter": "python",
   "pygments_lexer": "ipython3",
   "version": "3.8.5"
  },
  "papermill": {
   "default_parameters": {},
   "duration": 2951.104346,
   "end_time": "2023-08-13T18:51:48.021294",
   "environment_variables": {},
   "exception": null,
   "input_path": "__notebook__.ipynb",
   "output_path": "__notebook__.ipynb",
   "parameters": {},
   "start_time": "2023-08-13T18:02:36.916948",
   "version": "2.4.0"
  }
 },
 "nbformat": 4,
 "nbformat_minor": 5
}
